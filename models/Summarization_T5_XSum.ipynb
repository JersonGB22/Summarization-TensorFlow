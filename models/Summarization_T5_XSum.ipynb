{
  "cells": [
    {
      "cell_type": "markdown",
      "metadata": {
        "id": "ezzKLPtx8S6C"
      },
      "source": [
        "# **Text Summarization with T5 Model**"
      ]
    },
    {
      "cell_type": "markdown",
      "metadata": {
        "id": "JhhWum6YU8kN"
      },
      "source": [
        "This notebook demonstrates the implementation of a text summarization model, a task within natural language processing (NLP) that involves creating a shorter version of a document or article, capturing all essential information. Specifically, an abstractive summarization model will be developed, generating new text that synthesizes the most relevant information. The [Text-To-Text Transfer Transformer (T5)](https://huggingface.co/docs/transformers/model_doc/t5) model, specifically the [Base](https://huggingface.co/google/t5-base) version with 220 million parameters, available on [Hugging Face 🤗](https://huggingface.co/), will be fine-tuned. The fine-tuning is performed using the [Extreme Summarization (XSum) Dataset](https://huggingface.co/datasets/EdinburghNLP/xsum), which contains BBC news articles (mostly quite extensive) along with their corresponding concise single-sentence summaries.\n",
        "\n",
        "Additionally, this notebook will compare the results of this model with those of the [Transformer model](https://github.com/JersonGB22/Summarization-TensorFlow/blob/main/models/Summarization_Transformer_XSum.ipynb) trained from scratch with the XSum dataset."
      ]
    },
    {
      "cell_type": "markdown",
      "metadata": {
        "id": "43AY8jCC8cp-"
      },
      "source": [
        "## **Imports**"
      ]
    },
    {
      "cell_type": "code",
      "execution_count": null,
      "metadata": {
        "id": "-nk3W0-mi7Cf"
      },
      "outputs": [],
      "source": [
        "# Install the Hugging Face datasets library\n",
        "!pip install datasets -q\n",
        "\n",
        "# Install the necessary library to evaluate the summary\n",
        "!pip install rouge_score -q"
      ]
    },
    {
      "cell_type": "code",
      "execution_count": 2,
      "metadata": {
        "colab": {
          "base_uri": "https://localhost:8080/"
        },
        "collapsed": true,
        "id": "c0d_8XPxoi92",
        "outputId": "f857d786-b54f-48f3-e68c-5eaa1cb6763b"
      },
      "outputs": [
        {
          "output_type": "stream",
          "name": "stderr",
          "text": [
            "[nltk_data] Downloading package punkt to /root/nltk_data...\n",
            "[nltk_data]   Unzipping tokenizers/punkt.zip.\n"
          ]
        },
        {
          "output_type": "execute_result",
          "data": {
            "text/plain": [
              "True"
            ]
          },
          "metadata": {},
          "execution_count": 2
        }
      ],
      "source": [
        "import tensorflow as tf\n",
        "from transformers import AutoTokenizer, TFAutoModelForSeq2SeqLM, AdamWeightDecay\n",
        "from datasets import load_dataset, Dataset, load_metric\n",
        "import numpy as np\n",
        "import re\n",
        "import plotly.graph_objects as go\n",
        "from google.colab import drive\n",
        "from IPython.core.display import HTML\n",
        "import textwrap\n",
        "from tqdm.auto import tqdm\n",
        "import pandas as pd\n",
        "import os\n",
        "import nltk\n",
        "nltk.download(\"punkt\")"
      ]
    },
    {
      "cell_type": "markdown",
      "metadata": {
        "id": "piIYd5Nl-8SX"
      },
      "source": [
        "## **Parameters**"
      ]
    },
    {
      "cell_type": "code",
      "execution_count": 3,
      "metadata": {
        "colab": {
          "base_uri": "https://localhost:8080/"
        },
        "id": "sFOW9rH6TXpW",
        "outputId": "b35a2e5c-ece3-4765-f792-3e63fecb1ab0"
      },
      "outputs": [
        {
          "output_type": "stream",
          "name": "stdout",
          "text": [
            "Mounted at /content/drive/\n"
          ]
        }
      ],
      "source": [
        "drive.mount(\"/content/drive/\")"
      ]
    },
    {
      "cell_type": "code",
      "execution_count": 4,
      "metadata": {
        "id": "eG-hJMUdRw6y"
      },
      "outputs": [],
      "source": [
        "model_name = \"t5-base\"\n",
        "max_context_length = 1024\n",
        "max_target_length = 128\n",
        "batch_size = 32\n",
        "SEED = 123\n",
        "epochs = 20"
      ]
    },
    {
      "cell_type": "markdown",
      "source": [
        "## **Data Preparation**"
      ],
      "metadata": {
        "id": "wiIM4EO4CgLy"
      }
    },
    {
      "cell_type": "markdown",
      "metadata": {
        "id": "2Jb1Tnf8-6m3"
      },
      "source": [
        "### **Load and Preprocess the Dataset**"
      ]
    },
    {
      "cell_type": "code",
      "execution_count": 6,
      "metadata": {
        "colab": {
          "base_uri": "https://localhost:8080/"
        },
        "id": "qazk7CFqYBlx",
        "outputId": "ff9563b1-8199-4988-f5e0-189a63edd952"
      },
      "outputs": [
        {
          "output_type": "stream",
          "name": "stdout",
          "text": [
            "Dataset({\n",
            "    features: ['document', 'summary', 'id'],\n",
            "    num_rows: 204045\n",
            "})\n"
          ]
        },
        {
          "output_type": "execute_result",
          "data": {
            "text/plain": [
              "Dataset({\n",
              "    features: ['document', 'summary', 'id'],\n",
              "    num_rows: 11332\n",
              "})"
            ]
          },
          "metadata": {},
          "execution_count": 6
        }
      ],
      "source": [
        "(train_dataset, val_dataset) = load_dataset(\"xsum\", split=[\"train\", \"validation\"], trust_remote_code=True)\n",
        "\n",
        "print(train_dataset)\n",
        "val_dataset"
      ]
    },
    {
      "cell_type": "code",
      "execution_count": null,
      "metadata": {
        "colab": {
          "base_uri": "https://localhost:8080/"
        },
        "id": "bSrzMY0wbz_r",
        "outputId": "d72c52fd-4c63-4e92-da20-4592f0eec1d0"
      },
      "outputs": [
        {
          "output_type": "execute_result",
          "data": {
            "text/plain": [
              "{'document': 'The full cost of damage in Newton Stewart, one of the areas worst affected, is still being assessed.\\nRepair work is ongoing in Hawick and many roads in Peeblesshire remain badly affected by standing water.\\nTrains on the west coast mainline face disruption due to damage at the Lamington Viaduct.\\nMany businesses and householders were affected by flooding in Newton Stewart after the River Cree overflowed into the town.\\nFirst Minister Nicola Sturgeon visited the area to inspect the damage.\\nThe waters breached a retaining wall, flooding many commercial properties on Victoria Street - the main shopping thoroughfare.\\nJeanette Tate, who owns the Cinnamon Cafe which was badly affected, said she could not fault the multi-agency response once the flood hit.\\nHowever, she said more preventative work could have been carried out to ensure the retaining wall did not fail.\\n\"It is difficult but I do think there is so much publicity for Dumfries and the Nith - and I totally appreciate that - but it is almost like we\\'re neglected or forgotten,\" she said.\\n\"That may not be true but it is perhaps my perspective over the last few days.\\n\"Why were you not ready to help us a bit more when the warning and the alarm alerts had gone out?\"\\nMeanwhile, a flood alert remains in place across the Borders because of the constant rain.\\nPeebles was badly hit by problems, sparking calls to introduce more defences in the area.\\nScottish Borders Council has put a list on its website of the roads worst affected and drivers have been urged not to ignore closure signs.\\nThe Labour Party\\'s deputy Scottish leader Alex Rowley was in Hawick on Monday to see the situation first hand.\\nHe said it was important to get the flood protection plan right but backed calls to speed up the process.\\n\"I was quite taken aback by the amount of damage that has been done,\" he said.\\n\"Obviously it is heart-breaking for people who have been forced out of their homes and the impact on businesses.\"\\nHe said it was important that \"immediate steps\" were taken to protect the areas most vulnerable and a clear timetable put in place for flood prevention plans.\\nHave you been affected by flooding in Dumfries and Galloway or the Borders? Tell us about your experience of the situation and how it was handled. Email us on selkirk.news@bbc.co.uk or dumfries@bbc.co.uk.',\n",
              " 'summary': 'Clean-up operations are continuing across the Scottish Borders and Dumfries and Galloway after flooding caused by Storm Frank.',\n",
              " 'id': '35232142'}"
            ]
          },
          "metadata": {},
          "execution_count": 7
        }
      ],
      "source": [
        "# See an example of the training dataset\n",
        "train_dataset[0]"
      ]
    },
    {
      "cell_type": "markdown",
      "source": [
        "The XSum dataset contains noise: some records are empty, have only one character, or the `document` and `summary` do not correspond to each other or are incoherent. To reduce this noise, records with 10 words or fewer in the `document` and records with 5 words or fewer in the `summary` are removed. Additionally, hyperlinks, emails, and Twitter usernames are removed from the records. Below, you can see some examples of incoherent records:"
      ],
      "metadata": {
        "id": "s2piA16C_Kxf"
      }
    },
    {
      "cell_type": "code",
      "source": [
        "print(train_dataset[964], \"\\n\")\n",
        "print(train_dataset[7685], \"\\n\")\n",
        "print(train_dataset[54003], \"\\n\")\n",
        "print(train_dataset[5099])"
      ],
      "metadata": {
        "colab": {
          "base_uri": "https://localhost:8080/"
        },
        "id": "vZmuB4beHGE8",
        "outputId": "f53b9fde-ae94-49ea-86ff-3f943bce1485"
      },
      "execution_count": null,
      "outputs": [
        {
          "output_type": "stream",
          "name": "stdout",
          "text": [
            "{'document': 'Amateur rocket enthusiasts have gathered in Scotland to mark 30 years of aiming for the skies.\\nInternational Rocket Week 2016 traces its roots back to the first Scottish Rocket Weekend in 1986.\\nRocketeers coming together in Scotland have a base camp near Paisley and launch to heights of up to 16,000 ft (4,876m) from a farm near Largs.', 'summary': '.', 'id': '37185211'} \n",
            "\n",
            "{'document': '', 'summary': \"As part of the latest series of African Dream, businesswoman Mercy Kitomari - the brains behind Tanzanian organic ice cream company Nelwa's Gelato - shares her top 10 social media marketing tips for aspiring entrepreneurs:\", 'id': '30280969'} \n",
            "\n",
            "{'document': \"Here's my take.\", 'summary': \"It's much better than it used to be, but female leadership in the United States - in politics and business - has still a long way to go to achieve parity.\", 'id': '39213019'} \n",
            "\n",
            "{'document': '\"Sergio, great goal against David de Gea. Now forget that, get changed quick and get back on the coach. We\\'re off to Wembley to play Chelsea in a cup final nobody cares about tomorrow. Get a wriggle on.\"\\nThe reaction of Aguero and Yaya Toure would be priceless.\\nBut that\\'s pretty much the gist of the chat that faced the then Manchester City side and their fellow Full Members Cup finalists of exactly 30 years ago.\\nWhat do you mean you\\'ve never heard of it? What about the Simod Cup? ZDS Cup? Ring any bells?\\nThe much-derided competition, which ran from 1986 until 1992, was for teams in the top two divisions, but snubbed by the big clubs and initially largely ignored by fans of the teams who did actually enter.\\nIt was a different era, of course. Very much pre-Premier League. Mudbath pitches, near maimings needed to get yellow cards, with pre-match pasta and post-match warm-downs solely the preserve of wimps.\\nYet 68,000 made it to the final on a sunny spring day in 1986 to watch title-chasing Chelsea edge out a skint City outfit 5-4 in a classic that featured the first Wembley hat-trick since Geoff Hurst\\'s treble in the 1966 World Cup final.\\n\"The final took place the day after a Manchester derby. It was ridiculous - Old Trafford on Saturday and Wembley on the Sunday was a hell of a weekend for us,\" said City winger Paul Simpson, who came on as a substitute in both games.\\n\"We were 2-0 down against United at half-time and drew 2-2. I just remember getting straight on the bus from Old Trafford and going down to London.\\n\"There was none of the massages or recovery you get after games today. They talk about eating in this \\'golden hour\\' after the game. But we literally just got up the next day, and started preparing for the final.\"\\nAlthough United fans did throw pies at the team coach as it was leaving the ground, food was not the main concern of two-goal striker Mark Lillis and his team-mates, in a side assembled at a fraction of the cost of today\\'s City squad.\\nThey were gagging for a pint after the derby exertions which had earned a point against a side including Mark Hughes, Gordon Strachan and Paul McGrath.\\nLillis, one of seven Manchester-born players in the Wembley side, told BBC Sport: \"We could see the manager, Billy McNeill, was having a couple of beers at the front of the coach and I asked on behalf of the team if we could get together at the hotel and just have one beer and then go to bed.\\n\"He went absolutely mad and said: \\'What do you think we are, a pub team?\\'\\n\"I looked back up the bus and everyone was ducking behind chairs and under tables - none of them were backing me up.\\n\"We ended up getting to the hotel and I had to make do with a cup of tea instead.\"\\nChelsea, back then the surprise contenders in a wide-open title race, did not have as far to travel as City, but they also had a quick turnaround after beating Southampton on the Saturday.\\nWinger Pat Nevin, who was involved in three of the goals at Wembley, told BBC Sport the rapid response to the win at the Dell didn\\'t faze him in the slightest.\\n\"Playing two games in two days had absolutely no effect on me,\" Nevin told BBC Sport.\\n\"I had been a long-distance runner before I was a footballer and I saw it as an advantage because I thought: If everyone else is knackered, I will be OK.\\n\"Wembley was a huge, lush pitch and particularly draining to play on, but we didn\\'t do anything special at all after beating Southampton.\\n\"I think we came back on the coach and went home. And our warm-down after winning the cup was parading the trophy on the pitch. We wouldn\\'t have considered doing any stretching.\"\\nMedia playback is not supported on this device\\nThe competition came about because of the European ban on English teams following the Heysel disaster in 1985.\\nIt was the brainchild of Chelsea chairman Ken Bates for teams in the top two divisions of the Football League.\\nDismissed by most as a needless competition created purely to swell the coffers during difficult times, participation was voluntary, and the inaugural competition was not surprisingly snubbed by \\'The Big Five\\' of Liverpool, Manchester United, Arsenal, Tottenham and Everton.\\nEven supporters of the teams who did enter were far from convinced by its merits, as some pitiful crowds in the regional group stages and knockout rounds proved.\\n\"Supporters stayed away in droves,\" recalled Chelsea\\'s official historian Rick Glanvill. \"When Chelsea beat West Bromwich Albion on a Wednesday night in dull, wet mid-November, there were barely 4,000 there to witness Garth Crooks miss the decisive shootout penalty.\"\\nYet something \"magical happened\" when Wembley Way loomed into view.\\n\"In the early rounds it wasn\\'t taken seriously but Chelsea hadn\\'t been to Wembley for a long time,\" said Nevin.\\n\"We were a bit tired but Manchester City brought a huge number of fans down and we had a huge number of fans too.\\n\"I had a really enjoyable day - it wasn\\'t the FA Cup or the League Cup but, for that moment and for the Chelsea fans, it was them getting to a place where they felt they should be.\\n\"Now if you look back it has a very, very little importance. But at the time it was a big deal.\"\\nTwo teams both playing in their away kits produced one of the least well-known, but certainly one of the most exciting finals ever to grace the old Wembley.\\n\"I think it was the only time I ever won anything at Wembley,\" Chelsea legend John Hollins - their manager at the time - told BBC Sport.\\n\"I lost against Spurs in 1967, we won the FA Cup in 1970 after a replay at Old Trafford and I don\\'t want to talk about 1972 [League Cup defeat against Stoke]!\"\\nChelsea trailed to an early Steve Kinsey strike, but David Speedie headed a leveller on his way to the first Wembley treble since Hurst\\'s and what remains only the second hat-trick in a senior domestic cup final in the 93-year history of Wembleys old and new - the other was by Stan Mortensen in the 1953 FA Cup final.\\nStand-in striker Colin Lee, who was playing in place of injured England forward Kerry Dixon, also scored twice as the men in white went 5-1 up in a ludicrously open game.\\nBut incredibly, City - inspired by some sumptuous wingplay by Simpson - hit back through a spectacular headed Doug Rougvie own goal, which came in the middle of two strikes by Lillis.\\n\"One thing I\\'ll always remember,\" said Lillis, \"is being stood on the halfway line after Chelsea had scored, looking up and seeing where my family were and then looking round at the big scoreboard showing 5-1 and thinking: \\'Oh God, I can\\'t go back to Manchester now. I\\'ll just get hammered by my family and everyone else.\\'\\n\"Before we knew it, Simmo came on and we were back in the game.\"\\nHollins added: \"It was a fantastic match and we played some lovely football.\\n\"Coming to the best stadium in the world, you want to win, no matter what the cup. We were cruising and maybe took the foot off the pedal a bit but we just about did enough. At least the finish made it exciting.\"\\nThe crowd on a sunny day in north London is recorded as 67,236 but, although it now seems incomprehensible, punters could pay on the day. And, by nearly all accounts, it would seem there were significantly more there than suggested by the official attendance - impressive as it was.\\nIt cost as little as £5 to get in and £1 for the programme, but supporters from both sides were seen slipping through the turnstiles at the Twin Towers.\\nStaggeringly there were also those who scaled the Wembley walls to get in for free and, in the days of standing at Wembley - and depending who and what you believe - estimates put the total \\'extra\\' attendees as anything from between 2-10,000.\\nWhatever the actual size of the crowd, it was of a number befitting such a memorable cup final.\\nSadly for Chelsea, their post Wembley title challenge imploded. They managed just nine more points from their remaining 11 games and finished sixth, 17 points behind champions Liverpool.\\nCity\\'s young side finished the season in 15th place - just four points clear of the relegation zone, but went down the following season.\\nAnd the tournament itself? It lasted seven more years, under three different guises, but was never taken that seriously.\\n\"The 1986 final was not live on TV and there are hardly any clips of it on the internet,\" said Lillis. \"Most people have forgotten about it and I look back sometimes and think \\'did that really happen?\\', but it was one of the best moments of my career.\"\\nAt Wembley in 1986, Chelsea\\'s starting line-up cost a total of £745k, while City\\'s first XI was put together for just £433.5k.\\nThere were six Scots, 14 Englishman, with four more on the bench, a German-born Welshman in David Phillips, and Barnsley-born Republic of Ireland international defender Mick McCarthy.\\nThe last time the two sides met in the league - a comprehensive 3-0 home win for City in August - there were only four Englishman between the two starting line-ups, with just two more from the 14 players on the bench. Only John Terry, who started but was taken off at the break, was home grown.\\nHere\\'s how an extract from an article by Peter Gardner, in the Manchester Evening News of 24 March 1986, summed it all up (via citytilidie.com):\\n\"At least the Full Members Cup will go down into the record books with some dignity and respectability.\\n\"The Football League\\'s most embarrassing and ill-conceived competition finished a money spinner at Wembley yesterday. A remarkable 68,000 turn-out poured in an equally staggering £500,000-plus.\"', 'summary': 'Imagine the conversation.', 'id': '35782829'}\n"
          ]
        }
      ]
    },
    {
      "cell_type": "code",
      "execution_count": 7,
      "metadata": {
        "id": "IejapF_G9HEZ"
      },
      "outputs": [],
      "source": [
        "# The task prefix in T5 models is important for achieving better results\n",
        "prefix = \"summarize: \""
      ]
    },
    {
      "cell_type": "code",
      "execution_count": 8,
      "metadata": {
        "id": "v7LWo8DA77VV"
      },
      "outputs": [],
      "source": [
        "def preprocessing(text):\n",
        "  # Remove hyperlinks\n",
        "  text = re.sub(r\"https?://[^\\s\\n\\r]+|www\\.[^\\s\\n\\r]+\", \"\", text)\n",
        "  # Remove Twitter usernames and email addresses\n",
        "  text = re.sub(r\"\\b[A-Za-z0-9._%+-]+@[A-Za-z0-9.-]+\\.[A-Z|a-z]{2,7}\\b\", \"\", text)\n",
        "  text = re.sub(r\"@\\w+\", \"\", text)\n",
        "  return text"
      ]
    },
    {
      "cell_type": "code",
      "source": [
        "def preprocess_dataset(dataset):\n",
        "  contexts, targets = [], []\n",
        "\n",
        "  for sample in tqdm(dataset):\n",
        "    context = preprocessing(sample[\"document\"])\n",
        "    target = preprocessing(sample[\"summary\"])\n",
        "\n",
        "    if (len(context.split()) > 10) and (len(target.split()) > 5):\n",
        "      contexts.append(prefix + context)\n",
        "      targets.append(target)\n",
        "\n",
        "  new_dataset = Dataset.from_dict({\"document\": contexts, \"summary\": targets})\n",
        "  return new_dataset"
      ],
      "metadata": {
        "id": "n3TwPqyeekeK"
      },
      "execution_count": 9,
      "outputs": []
    },
    {
      "cell_type": "code",
      "source": [
        "train_dataset = preprocess_dataset(train_dataset)\n",
        "val_dataset = preprocess_dataset(val_dataset)"
      ],
      "metadata": {
        "colab": {
          "base_uri": "https://localhost:8080/",
          "height": 81,
          "referenced_widgets": [
            "4ea40b822e974de3a3fe0409e4084728",
            "b30cecb9aca84459828a4c01c300b5f8",
            "f6c2893303fd4120b40a41eba9e91122",
            "eb421f91632c4a11b35b9f10d46c7c52",
            "e30eb51ee72945b7b03e13aa9658a734",
            "c114e5374d8140a1991e837a0a7f6bc5",
            "673b6332ff7146998d4b145cdfbbd383",
            "4944a145e5674f0795836d9b90be6e5c",
            "9f5b67b8042e47ddbffc3a2386d26ac1",
            "b73d16bbc3e6454e8fe1b1705ed49c3c",
            "10d8c70f94de43b0b0ab497e62d14712",
            "e148f26aeced4af1935fd5d45f404ebf",
            "72a25b70175e438382df5309e9f196c3",
            "c52315ee40894670a499c1632af69d12",
            "d91194eccb3d4d019e62ecb465639b6d",
            "8595adaa78024886b6940118d2c7a0e6",
            "c4383b968da1408598f42a96e19658b8",
            "095c1d9434a14c7b8b8f67da2351fc14",
            "97d37b030e4845919654b34c53374c5b",
            "ee3e281d67a74801923c868e2156f6aa",
            "a40d61c0054849f18045d945f2de7bdf",
            "7ad7e2de74a14b7992c7665cff0b6e3f"
          ]
        },
        "id": "KekBvtOo9MSx",
        "outputId": "80a70caa-be37-447b-ac07-f712b2f1f0c1"
      },
      "execution_count": null,
      "outputs": [
        {
          "output_type": "display_data",
          "data": {
            "text/plain": [
              "  0%|          | 0/204045 [00:00<?, ?it/s]"
            ],
            "application/vnd.jupyter.widget-view+json": {
              "version_major": 2,
              "version_minor": 0,
              "model_id": "4ea40b822e974de3a3fe0409e4084728"
            }
          },
          "metadata": {}
        },
        {
          "output_type": "display_data",
          "data": {
            "text/plain": [
              "  0%|          | 0/11332 [00:00<?, ?it/s]"
            ],
            "application/vnd.jupyter.widget-view+json": {
              "version_major": 2,
              "version_minor": 0,
              "model_id": "e148f26aeced4af1935fd5d45f404ebf"
            }
          },
          "metadata": {}
        }
      ]
    },
    {
      "cell_type": "code",
      "source": [
        "print(len(train_dataset), len(val_dataset))\n",
        "\n",
        "((204045-len(train_dataset)) / 204045) * 100, ((11332-len(val_dataset)) / 11332) * 100"
      ],
      "metadata": {
        "colab": {
          "base_uri": "https://localhost:8080/"
        },
        "id": "_yWKqboz9fwI",
        "outputId": "9ae15c41-d778-44bd-a2b8-48e035e4d220"
      },
      "execution_count": null,
      "outputs": [
        {
          "output_type": "stream",
          "name": "stdout",
          "text": [
            "203354 11295\n"
          ]
        },
        {
          "output_type": "execute_result",
          "data": {
            "text/plain": [
              "(0.33865078781641306, 0.3265090010589481)"
            ]
          },
          "metadata": {},
          "execution_count": 33
        }
      ]
    },
    {
      "cell_type": "markdown",
      "source": [
        "It can be seen that the discarded records after preprocessing the datasets represent no more than **0.34%** of each dataset."
      ],
      "metadata": {
        "id": "rHeufXUIAYL-"
      }
    },
    {
      "cell_type": "markdown",
      "metadata": {
        "id": "GcTHo3vVVrv9"
      },
      "source": [
        "### **Tokenize the Dataset**"
      ]
    },
    {
      "cell_type": "markdown",
      "metadata": {
        "id": "EFGIIzBIKw2F"
      },
      "source": [
        "For tokenizing the datasets, the [AutoTokenizer](https://huggingface.co/docs/transformers/model_doc/auto#transformers.AutoTokenizer) from Hugging Face is used, allowing the creation of a tokenizer instance based solely on the model name. In this text summarization task, both `document` and `summary` texts are tokenized. The tokenizer generates `input_ids` (document tokens), `attention_mask` (a mask to ignore the padding token indices in `input_ids`), and `labels` (summary tokens). In the specific case of the T5 model, `decoder_input_ids` (the `labels` tokens shifted one position to the right with a padding token at the start) do not need to be passed during training, as the model generates them automatically from `labels`."
      ]
    },
    {
      "cell_type": "code",
      "execution_count": 10,
      "metadata": {
        "colab": {
          "base_uri": "https://localhost:8080/",
          "height": 1000,
          "referenced_widgets": [
            "d6996f6af73749069ce61f9906ad21fe",
            "f2d4ea07be6047fe93a3ac3c8cadac15",
            "cb81908016a84ea5b7e80327779f2075",
            "1e947ccffd05459186910cecb91bf5a3",
            "c669da259a4b4594b5eea9d3d1604a13",
            "5e0088c86ba24a8eb4a2baaeaf4d8152",
            "c42b50eb20d84df4be2990e929498fa8",
            "6b2f91025837485bbd5f4f837e18e4f6",
            "4a83e97c83f94c5a8781f6fc86d07d5d",
            "4032d38963d24eee8e0b0a5856988016",
            "ad77012fa1194766ba3e4cdc7ec78696",
            "859ea9e552d548219ee37438ca47f0c3",
            "259f3de42d1440a2ba2cdd8eedb46b2e",
            "d9a7ffb3da704c3a8ed8559be63bdbe0",
            "8690ad9ad3c54e90985f9e9ac731d335",
            "0ae501e3946440dfb75511d8bc6be5b6",
            "c7e9a3c73412452bbe305ea38559f8c7",
            "b88eaf0d696945e7a7761062dc7e8e09",
            "3a93750448344910b7bd6d06ca7b9049",
            "8690021cfe2c4578ae9cf17dd5360222",
            "33316da4c57e48d29d425c292ae119c8",
            "0861ced4c6664995b47fdcb643da34c6",
            "d0819165d7fc47609d40f38ccf56e413",
            "e408009901fb4b798940d6db0ebdbdcb",
            "1d4130cfc6a04eed9f40f92089a40973",
            "58bb909eee1a40b1b64dd7fc7a658f0d",
            "865e6b35a1b3444db648db92205605cd",
            "4ee4244f564a4446be76792f9a4b6852",
            "3e77c929e91048168e05305be0a99616",
            "752c6d1df4804da0a1f2690424e39633",
            "b72e27bbc81d4032969c2ef29892fc9c",
            "f1cc5b29b35c45658d52f675afa410ea",
            "f948c2e84c8f4e2b9b6807a3912dba72"
          ]
        },
        "collapsed": true,
        "id": "6bQZY1ugteRi",
        "outputId": "ce98a916-b89c-4bd8-a53c-624660c60d0c"
      },
      "outputs": [
        {
          "output_type": "display_data",
          "data": {
            "text/plain": [
              "config.json:   0%|          | 0.00/1.21k [00:00<?, ?B/s]"
            ],
            "application/vnd.jupyter.widget-view+json": {
              "version_major": 2,
              "version_minor": 0,
              "model_id": "d6996f6af73749069ce61f9906ad21fe"
            }
          },
          "metadata": {}
        },
        {
          "output_type": "display_data",
          "data": {
            "text/plain": [
              "spiece.model:   0%|          | 0.00/792k [00:00<?, ?B/s]"
            ],
            "application/vnd.jupyter.widget-view+json": {
              "version_major": 2,
              "version_minor": 0,
              "model_id": "859ea9e552d548219ee37438ca47f0c3"
            }
          },
          "metadata": {}
        },
        {
          "output_type": "display_data",
          "data": {
            "text/plain": [
              "tokenizer.json:   0%|          | 0.00/1.39M [00:00<?, ?B/s]"
            ],
            "application/vnd.jupyter.widget-view+json": {
              "version_major": 2,
              "version_minor": 0,
              "model_id": "d0819165d7fc47609d40f38ccf56e413"
            }
          },
          "metadata": {}
        },
        {
          "output_type": "execute_result",
          "data": {
            "text/plain": [
              "T5TokenizerFast(name_or_path='t5-base', vocab_size=32100, model_max_length=1000000000000000019884624838656, is_fast=True, padding_side='right', truncation_side='right', special_tokens={'eos_token': '</s>', 'unk_token': '<unk>', 'pad_token': '<pad>', 'additional_special_tokens': ['<extra_id_0>', '<extra_id_1>', '<extra_id_2>', '<extra_id_3>', '<extra_id_4>', '<extra_id_5>', '<extra_id_6>', '<extra_id_7>', '<extra_id_8>', '<extra_id_9>', '<extra_id_10>', '<extra_id_11>', '<extra_id_12>', '<extra_id_13>', '<extra_id_14>', '<extra_id_15>', '<extra_id_16>', '<extra_id_17>', '<extra_id_18>', '<extra_id_19>', '<extra_id_20>', '<extra_id_21>', '<extra_id_22>', '<extra_id_23>', '<extra_id_24>', '<extra_id_25>', '<extra_id_26>', '<extra_id_27>', '<extra_id_28>', '<extra_id_29>', '<extra_id_30>', '<extra_id_31>', '<extra_id_32>', '<extra_id_33>', '<extra_id_34>', '<extra_id_35>', '<extra_id_36>', '<extra_id_37>', '<extra_id_38>', '<extra_id_39>', '<extra_id_40>', '<extra_id_41>', '<extra_id_42>', '<extra_id_43>', '<extra_id_44>', '<extra_id_45>', '<extra_id_46>', '<extra_id_47>', '<extra_id_48>', '<extra_id_49>', '<extra_id_50>', '<extra_id_51>', '<extra_id_52>', '<extra_id_53>', '<extra_id_54>', '<extra_id_55>', '<extra_id_56>', '<extra_id_57>', '<extra_id_58>', '<extra_id_59>', '<extra_id_60>', '<extra_id_61>', '<extra_id_62>', '<extra_id_63>', '<extra_id_64>', '<extra_id_65>', '<extra_id_66>', '<extra_id_67>', '<extra_id_68>', '<extra_id_69>', '<extra_id_70>', '<extra_id_71>', '<extra_id_72>', '<extra_id_73>', '<extra_id_74>', '<extra_id_75>', '<extra_id_76>', '<extra_id_77>', '<extra_id_78>', '<extra_id_79>', '<extra_id_80>', '<extra_id_81>', '<extra_id_82>', '<extra_id_83>', '<extra_id_84>', '<extra_id_85>', '<extra_id_86>', '<extra_id_87>', '<extra_id_88>', '<extra_id_89>', '<extra_id_90>', '<extra_id_91>', '<extra_id_92>', '<extra_id_93>', '<extra_id_94>', '<extra_id_95>', '<extra_id_96>', '<extra_id_97>', '<extra_id_98>', '<extra_id_99>']}, clean_up_tokenization_spaces=True),  added_tokens_decoder={\n",
              "\t0: AddedToken(\"<pad>\", rstrip=False, lstrip=False, single_word=False, normalized=False, special=True),\n",
              "\t1: AddedToken(\"</s>\", rstrip=False, lstrip=False, single_word=False, normalized=False, special=True),\n",
              "\t2: AddedToken(\"<unk>\", rstrip=False, lstrip=False, single_word=False, normalized=False, special=True),\n",
              "\t32000: AddedToken(\"<extra_id_99>\", rstrip=False, lstrip=False, single_word=False, normalized=False, special=True),\n",
              "\t32001: AddedToken(\"<extra_id_98>\", rstrip=False, lstrip=False, single_word=False, normalized=False, special=True),\n",
              "\t32002: AddedToken(\"<extra_id_97>\", rstrip=False, lstrip=False, single_word=False, normalized=False, special=True),\n",
              "\t32003: AddedToken(\"<extra_id_96>\", rstrip=False, lstrip=False, single_word=False, normalized=False, special=True),\n",
              "\t32004: AddedToken(\"<extra_id_95>\", rstrip=False, lstrip=False, single_word=False, normalized=False, special=True),\n",
              "\t32005: AddedToken(\"<extra_id_94>\", rstrip=False, lstrip=False, single_word=False, normalized=False, special=True),\n",
              "\t32006: AddedToken(\"<extra_id_93>\", rstrip=False, lstrip=False, single_word=False, normalized=False, special=True),\n",
              "\t32007: AddedToken(\"<extra_id_92>\", rstrip=False, lstrip=False, single_word=False, normalized=False, special=True),\n",
              "\t32008: AddedToken(\"<extra_id_91>\", rstrip=False, lstrip=False, single_word=False, normalized=False, special=True),\n",
              "\t32009: AddedToken(\"<extra_id_90>\", rstrip=False, lstrip=False, single_word=False, normalized=False, special=True),\n",
              "\t32010: AddedToken(\"<extra_id_89>\", rstrip=False, lstrip=False, single_word=False, normalized=False, special=True),\n",
              "\t32011: AddedToken(\"<extra_id_88>\", rstrip=False, lstrip=False, single_word=False, normalized=False, special=True),\n",
              "\t32012: AddedToken(\"<extra_id_87>\", rstrip=False, lstrip=False, single_word=False, normalized=False, special=True),\n",
              "\t32013: AddedToken(\"<extra_id_86>\", rstrip=False, lstrip=False, single_word=False, normalized=False, special=True),\n",
              "\t32014: AddedToken(\"<extra_id_85>\", rstrip=False, lstrip=False, single_word=False, normalized=False, special=True),\n",
              "\t32015: AddedToken(\"<extra_id_84>\", rstrip=False, lstrip=False, single_word=False, normalized=False, special=True),\n",
              "\t32016: AddedToken(\"<extra_id_83>\", rstrip=False, lstrip=False, single_word=False, normalized=False, special=True),\n",
              "\t32017: AddedToken(\"<extra_id_82>\", rstrip=False, lstrip=False, single_word=False, normalized=False, special=True),\n",
              "\t32018: AddedToken(\"<extra_id_81>\", rstrip=False, lstrip=False, single_word=False, normalized=False, special=True),\n",
              "\t32019: AddedToken(\"<extra_id_80>\", rstrip=False, lstrip=False, single_word=False, normalized=False, special=True),\n",
              "\t32020: AddedToken(\"<extra_id_79>\", rstrip=False, lstrip=False, single_word=False, normalized=False, special=True),\n",
              "\t32021: AddedToken(\"<extra_id_78>\", rstrip=False, lstrip=False, single_word=False, normalized=False, special=True),\n",
              "\t32022: AddedToken(\"<extra_id_77>\", rstrip=False, lstrip=False, single_word=False, normalized=False, special=True),\n",
              "\t32023: AddedToken(\"<extra_id_76>\", rstrip=False, lstrip=False, single_word=False, normalized=False, special=True),\n",
              "\t32024: AddedToken(\"<extra_id_75>\", rstrip=False, lstrip=False, single_word=False, normalized=False, special=True),\n",
              "\t32025: AddedToken(\"<extra_id_74>\", rstrip=False, lstrip=False, single_word=False, normalized=False, special=True),\n",
              "\t32026: AddedToken(\"<extra_id_73>\", rstrip=False, lstrip=False, single_word=False, normalized=False, special=True),\n",
              "\t32027: AddedToken(\"<extra_id_72>\", rstrip=False, lstrip=False, single_word=False, normalized=False, special=True),\n",
              "\t32028: AddedToken(\"<extra_id_71>\", rstrip=False, lstrip=False, single_word=False, normalized=False, special=True),\n",
              "\t32029: AddedToken(\"<extra_id_70>\", rstrip=False, lstrip=False, single_word=False, normalized=False, special=True),\n",
              "\t32030: AddedToken(\"<extra_id_69>\", rstrip=False, lstrip=False, single_word=False, normalized=False, special=True),\n",
              "\t32031: AddedToken(\"<extra_id_68>\", rstrip=False, lstrip=False, single_word=False, normalized=False, special=True),\n",
              "\t32032: AddedToken(\"<extra_id_67>\", rstrip=False, lstrip=False, single_word=False, normalized=False, special=True),\n",
              "\t32033: AddedToken(\"<extra_id_66>\", rstrip=False, lstrip=False, single_word=False, normalized=False, special=True),\n",
              "\t32034: AddedToken(\"<extra_id_65>\", rstrip=False, lstrip=False, single_word=False, normalized=False, special=True),\n",
              "\t32035: AddedToken(\"<extra_id_64>\", rstrip=False, lstrip=False, single_word=False, normalized=False, special=True),\n",
              "\t32036: AddedToken(\"<extra_id_63>\", rstrip=False, lstrip=False, single_word=False, normalized=False, special=True),\n",
              "\t32037: AddedToken(\"<extra_id_62>\", rstrip=False, lstrip=False, single_word=False, normalized=False, special=True),\n",
              "\t32038: AddedToken(\"<extra_id_61>\", rstrip=False, lstrip=False, single_word=False, normalized=False, special=True),\n",
              "\t32039: AddedToken(\"<extra_id_60>\", rstrip=False, lstrip=False, single_word=False, normalized=False, special=True),\n",
              "\t32040: AddedToken(\"<extra_id_59>\", rstrip=False, lstrip=False, single_word=False, normalized=False, special=True),\n",
              "\t32041: AddedToken(\"<extra_id_58>\", rstrip=False, lstrip=False, single_word=False, normalized=False, special=True),\n",
              "\t32042: AddedToken(\"<extra_id_57>\", rstrip=False, lstrip=False, single_word=False, normalized=False, special=True),\n",
              "\t32043: AddedToken(\"<extra_id_56>\", rstrip=False, lstrip=False, single_word=False, normalized=False, special=True),\n",
              "\t32044: AddedToken(\"<extra_id_55>\", rstrip=False, lstrip=False, single_word=False, normalized=False, special=True),\n",
              "\t32045: AddedToken(\"<extra_id_54>\", rstrip=False, lstrip=False, single_word=False, normalized=False, special=True),\n",
              "\t32046: AddedToken(\"<extra_id_53>\", rstrip=False, lstrip=False, single_word=False, normalized=False, special=True),\n",
              "\t32047: AddedToken(\"<extra_id_52>\", rstrip=False, lstrip=False, single_word=False, normalized=False, special=True),\n",
              "\t32048: AddedToken(\"<extra_id_51>\", rstrip=False, lstrip=False, single_word=False, normalized=False, special=True),\n",
              "\t32049: AddedToken(\"<extra_id_50>\", rstrip=False, lstrip=False, single_word=False, normalized=False, special=True),\n",
              "\t32050: AddedToken(\"<extra_id_49>\", rstrip=False, lstrip=False, single_word=False, normalized=False, special=True),\n",
              "\t32051: AddedToken(\"<extra_id_48>\", rstrip=False, lstrip=False, single_word=False, normalized=False, special=True),\n",
              "\t32052: AddedToken(\"<extra_id_47>\", rstrip=False, lstrip=False, single_word=False, normalized=False, special=True),\n",
              "\t32053: AddedToken(\"<extra_id_46>\", rstrip=False, lstrip=False, single_word=False, normalized=False, special=True),\n",
              "\t32054: AddedToken(\"<extra_id_45>\", rstrip=False, lstrip=False, single_word=False, normalized=False, special=True),\n",
              "\t32055: AddedToken(\"<extra_id_44>\", rstrip=False, lstrip=False, single_word=False, normalized=False, special=True),\n",
              "\t32056: AddedToken(\"<extra_id_43>\", rstrip=False, lstrip=False, single_word=False, normalized=False, special=True),\n",
              "\t32057: AddedToken(\"<extra_id_42>\", rstrip=False, lstrip=False, single_word=False, normalized=False, special=True),\n",
              "\t32058: AddedToken(\"<extra_id_41>\", rstrip=False, lstrip=False, single_word=False, normalized=False, special=True),\n",
              "\t32059: AddedToken(\"<extra_id_40>\", rstrip=False, lstrip=False, single_word=False, normalized=False, special=True),\n",
              "\t32060: AddedToken(\"<extra_id_39>\", rstrip=False, lstrip=False, single_word=False, normalized=False, special=True),\n",
              "\t32061: AddedToken(\"<extra_id_38>\", rstrip=False, lstrip=False, single_word=False, normalized=False, special=True),\n",
              "\t32062: AddedToken(\"<extra_id_37>\", rstrip=False, lstrip=False, single_word=False, normalized=False, special=True),\n",
              "\t32063: AddedToken(\"<extra_id_36>\", rstrip=False, lstrip=False, single_word=False, normalized=False, special=True),\n",
              "\t32064: AddedToken(\"<extra_id_35>\", rstrip=False, lstrip=False, single_word=False, normalized=False, special=True),\n",
              "\t32065: AddedToken(\"<extra_id_34>\", rstrip=False, lstrip=False, single_word=False, normalized=False, special=True),\n",
              "\t32066: AddedToken(\"<extra_id_33>\", rstrip=False, lstrip=False, single_word=False, normalized=False, special=True),\n",
              "\t32067: AddedToken(\"<extra_id_32>\", rstrip=False, lstrip=False, single_word=False, normalized=False, special=True),\n",
              "\t32068: AddedToken(\"<extra_id_31>\", rstrip=False, lstrip=False, single_word=False, normalized=False, special=True),\n",
              "\t32069: AddedToken(\"<extra_id_30>\", rstrip=False, lstrip=False, single_word=False, normalized=False, special=True),\n",
              "\t32070: AddedToken(\"<extra_id_29>\", rstrip=False, lstrip=False, single_word=False, normalized=False, special=True),\n",
              "\t32071: AddedToken(\"<extra_id_28>\", rstrip=False, lstrip=False, single_word=False, normalized=False, special=True),\n",
              "\t32072: AddedToken(\"<extra_id_27>\", rstrip=False, lstrip=False, single_word=False, normalized=False, special=True),\n",
              "\t32073: AddedToken(\"<extra_id_26>\", rstrip=False, lstrip=False, single_word=False, normalized=False, special=True),\n",
              "\t32074: AddedToken(\"<extra_id_25>\", rstrip=False, lstrip=False, single_word=False, normalized=False, special=True),\n",
              "\t32075: AddedToken(\"<extra_id_24>\", rstrip=False, lstrip=False, single_word=False, normalized=False, special=True),\n",
              "\t32076: AddedToken(\"<extra_id_23>\", rstrip=False, lstrip=False, single_word=False, normalized=False, special=True),\n",
              "\t32077: AddedToken(\"<extra_id_22>\", rstrip=False, lstrip=False, single_word=False, normalized=False, special=True),\n",
              "\t32078: AddedToken(\"<extra_id_21>\", rstrip=False, lstrip=False, single_word=False, normalized=False, special=True),\n",
              "\t32079: AddedToken(\"<extra_id_20>\", rstrip=False, lstrip=False, single_word=False, normalized=False, special=True),\n",
              "\t32080: AddedToken(\"<extra_id_19>\", rstrip=False, lstrip=False, single_word=False, normalized=False, special=True),\n",
              "\t32081: AddedToken(\"<extra_id_18>\", rstrip=False, lstrip=False, single_word=False, normalized=False, special=True),\n",
              "\t32082: AddedToken(\"<extra_id_17>\", rstrip=False, lstrip=False, single_word=False, normalized=False, special=True),\n",
              "\t32083: AddedToken(\"<extra_id_16>\", rstrip=False, lstrip=False, single_word=False, normalized=False, special=True),\n",
              "\t32084: AddedToken(\"<extra_id_15>\", rstrip=False, lstrip=False, single_word=False, normalized=False, special=True),\n",
              "\t32085: AddedToken(\"<extra_id_14>\", rstrip=False, lstrip=False, single_word=False, normalized=False, special=True),\n",
              "\t32086: AddedToken(\"<extra_id_13>\", rstrip=False, lstrip=False, single_word=False, normalized=False, special=True),\n",
              "\t32087: AddedToken(\"<extra_id_12>\", rstrip=False, lstrip=False, single_word=False, normalized=False, special=True),\n",
              "\t32088: AddedToken(\"<extra_id_11>\", rstrip=False, lstrip=False, single_word=False, normalized=False, special=True),\n",
              "\t32089: AddedToken(\"<extra_id_10>\", rstrip=False, lstrip=False, single_word=False, normalized=False, special=True),\n",
              "\t32090: AddedToken(\"<extra_id_9>\", rstrip=False, lstrip=False, single_word=False, normalized=False, special=True),\n",
              "\t32091: AddedToken(\"<extra_id_8>\", rstrip=False, lstrip=False, single_word=False, normalized=False, special=True),\n",
              "\t32092: AddedToken(\"<extra_id_7>\", rstrip=False, lstrip=False, single_word=False, normalized=False, special=True),\n",
              "\t32093: AddedToken(\"<extra_id_6>\", rstrip=False, lstrip=False, single_word=False, normalized=False, special=True),\n",
              "\t32094: AddedToken(\"<extra_id_5>\", rstrip=False, lstrip=False, single_word=False, normalized=False, special=True),\n",
              "\t32095: AddedToken(\"<extra_id_4>\", rstrip=False, lstrip=False, single_word=False, normalized=False, special=True),\n",
              "\t32096: AddedToken(\"<extra_id_3>\", rstrip=False, lstrip=False, single_word=False, normalized=False, special=True),\n",
              "\t32097: AddedToken(\"<extra_id_2>\", rstrip=False, lstrip=False, single_word=False, normalized=False, special=True),\n",
              "\t32098: AddedToken(\"<extra_id_1>\", rstrip=False, lstrip=False, single_word=False, normalized=False, special=True),\n",
              "\t32099: AddedToken(\"<extra_id_0>\", rstrip=False, lstrip=False, single_word=False, normalized=False, special=True),\n",
              "}"
            ]
          },
          "metadata": {},
          "execution_count": 10
        }
      ],
      "source": [
        "tokenizer = AutoTokenizer.from_pretrained(model_name, use_fast=True)\n",
        "tokenizer"
      ]
    },
    {
      "cell_type": "code",
      "execution_count": null,
      "metadata": {
        "colab": {
          "base_uri": "https://localhost:8080/"
        },
        "id": "YrGsMRKQSXZA",
        "outputId": "004f21a7-6afb-4ff8-8877-ea20bc52d882"
      },
      "outputs": [
        {
          "output_type": "stream",
          "name": "stdout",
          "text": [
            "Input Ids:\n",
            "[21603, 10, 37, 423, 583, 13, 1783, 16, 20126, 16496, 6, 80, 13, 8, 844, 6025, 4161, 6, 19, 341, 271, 14841, 5, 7057, 161, 19, 4912, 16, 1626, 5981, 11, 186, 7540, 16, 1276, 15, 2296, 7, 5718, 2367, 14621, 4161, 57, 4125, 387, 5, 15059, 7, 30, 8, 4653, 4939, 711, 747, 522, 17879, 788, 12, 1783, 44, 8, 15763, 6029, 1813, 9, 7472, 5, 1404, 1623, 11, 5699, 277, 130, 4161, 57, 18368, 16, 20126, 16496, 227, 8, 2473, 5895, 15, 147, 89, 22411, 139, 8, 1511, 5, 1485, 3271, 3, 21926, 9, 472, 19623, 5251, 8, 616, 12, 15614, 8, 1783, 5, 37, 13818, 10564, 15, 26, 3, 9, 3, 19513, 1481, 6, 18368, 186, 1328, 2605, 30, 7488, 1887, 3, 18, 8, 711, 2309, 9517, 89, 355, 5, 3966, 1954, 9233, 15, 6, 113, 293, 7, 8, 16548, 13363, 106, 14022, 84, 47, 14621, 4161, 6, 243, 255, 228, 59, 7828, 8, 1249, 18, 545, 11298, 1773, 728, 8, 8347, 1560, 5, 611, 6, 255, 243, 72, 1709, 1528, 161, 228, 43, 118, 4006, 91, 12, 766, 8, 3, 19513, 1481, 410, 59, 5124, 5, 96, 196, 17, 19, 1256, 68, 27, 103, 317, 132, 19, 78, 231, 23546, 21, 970, 51, 89, 2593, 11, 8, 2504, 189, 3, 18, 11, 27, 3536, 3653, 24, 3, 18, 68, 34, 19, 966, 114, 62, 31, 60, 23708, 42, 11821, 976, 255, 243, 5, 96, 11880, 164, 59, 36, 1176, 68, 34, 19, 2361, 82, 3503, 147, 8, 336, 360, 477, 5, 96, 17891, 130, 25, 59, 1065, 12, 199, 178, 3, 9, 720, 72, 116, 8, 6337, 11, 8, 6196, 5685, 7, 141, 2767, 91, 4609, 7940, 6, 3, 9, 8347, 5685, 3048, 16, 286, 640, 8, 17600, 7, 250, 13, 8, 3917, 3412, 5, 1276, 15, 2296, 7, 47, 14621, 1560, 57, 982, 6, 13233, 53, 3088, 12, 4277, 72, 13613, 7, 16, 8, 616, 5, 12580, 17600, 7, 2063, 65, 474, 3, 9, 570, 30, 165, 475, 13, 8, 7540, 6025, 4161, 11, 3863, 43, 118, 3, 19492, 59, 12, 9751, 12493, 3957, 5, 37, 16117, 3450, 31, 7, 21108, 12580, 2488, 5104, 11768, 1306, 47, 16, 1626, 5981, 30, 2089, 12, 217, 8, 1419, 166, 609, 5, 216, 243, 34, 47, 359, 12, 129, 8, 8347, 1711, 515, 269, 68, 3, 9485, 3088, 12, 1634, 95, 8, 433, 5, 96, 196, 47, 882, 1026, 3, 9, 1549, 57, 8, 866, 13, 1783, 24, 65, 118, 612, 976, 3, 88, 243, 5, 96, 14116, 34, 19, 842, 18, 18087, 21, 151, 113, 43, 118, 5241, 91, 13, 70, 2503, 11, 8, 1113, 30, 1623, 535, 216, 243, 34, 47, 359, 24, 96, 603, 5700, 342, 2245, 121, 130, 1026, 12, 1822, 8, 844, 167, 9930, 11, 3, 9, 964, 97, 3869, 474, 16, 286, 21, 8347, 9793, 1390, 5, 2114, 25, 118, 4161, 57, 18368, 16, 970, 51, 89, 2593, 11, 10987, 32, 1343, 42, 8, 17600, 7, 58, 8779, 178, 81, 39, 351, 13, 8, 1419, 11, 149, 34, 47, 10298, 5, 8601, 178, 30, 42, 3, 5, 1]\n",
            "\n",
            "Tokens:\n",
            "['▁summarize', ':', '▁The', '▁full', '▁cost', '▁of', '▁damage', '▁in', '▁Newton', '▁Stewart', ',', '▁one', '▁of', '▁the', '▁areas', '▁worst', '▁affected', ',', '▁is', '▁still', '▁being', '▁assessed', '.', '▁Repair', '▁work', '▁is', '▁ongoing', '▁in', '▁Ha', 'wick', '▁and', '▁many', '▁roads', '▁in', '▁Pe', 'e', 'ble', 's', 'shire', '▁remain', '▁badly', '▁affected', '▁by', '▁standing', '▁water', '.', '▁Train', 's', '▁on', '▁the', '▁west', '▁coast', '▁main', 'line', '▁face', '▁disruption', '▁due', '▁to', '▁damage', '▁at', '▁the', '▁Lam', 'ington', '▁Vi', 'a', 'duct', '.', '▁Many', '▁businesses', '▁and', '▁household', 'ers', '▁were', '▁affected', '▁by', '▁flooding', '▁in', '▁Newton', '▁Stewart', '▁after', '▁the', '▁River', '▁Cre', 'e', '▁over', 'f', 'lowed', '▁into', '▁the', '▁town', '.', '▁First', '▁Minister', '▁', 'Nicol', 'a', '▁St', 'urgeon', '▁visited', '▁the', '▁area', '▁to', '▁inspect', '▁the', '▁damage', '.', '▁The', '▁waters', '▁breach', 'e', 'd', '▁', 'a', '▁', 'retaining', '▁wall', ',', '▁flooding', '▁many', '▁commercial', '▁properties', '▁on', '▁Victoria', '▁Street', '▁', '-', '▁the', '▁main', '▁shopping', '▁thorough', 'f', 'are', '.', '▁Jean', 'ette', '▁Tat', 'e', ',', '▁who', '▁own', 's', '▁the', '▁Cin', 'nam', 'on', '▁Cafe', '▁which', '▁was', '▁badly', '▁affected', ',', '▁said', '▁she', '▁could', '▁not', '▁fault', '▁the', '▁multi', '-', 'age', 'ncy', '▁response', '▁once', '▁the', '▁flood', '▁hit', '.', '▁However', ',', '▁she', '▁said', '▁more', '▁prevent', 'ative', '▁work', '▁could', '▁have', '▁been', '▁carried', '▁out', '▁to', '▁ensure', '▁the', '▁', 'retaining', '▁wall', '▁did', '▁not', '▁fail', '.', '▁\"', 'I', 't', '▁is', '▁difficult', '▁but', '▁I', '▁do', '▁think', '▁there', '▁is', '▁so', '▁much', '▁publicity', '▁for', '▁Du', 'm', 'f', 'ries', '▁and', '▁the', '▁Ni', 'th', '▁', '-', '▁and', '▁I', '▁totally', '▁appreciate', '▁that', '▁', '-', '▁but', '▁it', '▁is', '▁almost', '▁like', '▁we', \"'\", 're', '▁neglected', '▁or', '▁forgotten', ',\"', '▁she', '▁said', '.', '▁\"', 'That', '▁may', '▁not', '▁be', '▁true', '▁but', '▁it', '▁is', '▁perhaps', '▁my', '▁perspective', '▁over', '▁the', '▁last', '▁few', '▁days', '.', '▁\"', 'Why', '▁were', '▁you', '▁not', '▁ready', '▁to', '▁help', '▁us', '▁', 'a', '▁bit', '▁more', '▁when', '▁the', '▁warning', '▁and', '▁the', '▁alarm', '▁alert', 's', '▁had', '▁gone', '▁out', '?\"', '▁Meanwhile', ',', '▁', 'a', '▁flood', '▁alert', '▁remains', '▁in', '▁place', '▁across', '▁the', '▁Border', 's', '▁because', '▁of', '▁the', '▁constant', '▁rain', '.', '▁Pe', 'e', 'ble', 's', '▁was', '▁badly', '▁hit', '▁by', '▁problems', ',', '▁spark', 'ing', '▁calls', '▁to', '▁introduce', '▁more', '▁defence', 's', '▁in', '▁the', '▁area', '.', '▁Scottish', '▁Border', 's', '▁Council', '▁has', '▁put', '▁', 'a', '▁list', '▁on', '▁its', '▁website', '▁of', '▁the', '▁roads', '▁worst', '▁affected', '▁and', '▁drivers', '▁have', '▁been', '▁', 'urged', '▁not', '▁to', '▁ignore', '▁closure', '▁signs', '.', '▁The', '▁Labour', '▁Party', \"'\", 's', '▁deputy', '▁Scottish', '▁leader', '▁Alex', '▁Row', 'ley', '▁was', '▁in', '▁Ha', 'wick', '▁on', '▁Monday', '▁to', '▁see', '▁the', '▁situation', '▁first', '▁hand', '.', '▁He', '▁said', '▁it', '▁was', '▁important', '▁to', '▁get', '▁the', '▁flood', '▁protection', '▁plan', '▁right', '▁but', '▁', 'backed', '▁calls', '▁to', '▁speed', '▁up', '▁the', '▁process', '.', '▁\"', 'I', '▁was', '▁quite', '▁taken', '▁', 'a', 'back', '▁by', '▁the', '▁amount', '▁of', '▁damage', '▁that', '▁has', '▁been', '▁done', ',\"', '▁', 'he', '▁said', '.', '▁\"', 'Obviously', '▁it', '▁is', '▁heart', '-', 'breaking', '▁for', '▁people', '▁who', '▁have', '▁been', '▁forced', '▁out', '▁of', '▁their', '▁homes', '▁and', '▁the', '▁impact', '▁on', '▁businesses', '.\"', '▁He', '▁said', '▁it', '▁was', '▁important', '▁that', '▁\"', 'im', 'medi', 'ate', '▁steps', '\"', '▁were', '▁taken', '▁to', '▁protect', '▁the', '▁areas', '▁most', '▁vulnerable', '▁and', '▁', 'a', '▁clear', '▁time', 'table', '▁put', '▁in', '▁place', '▁for', '▁flood', '▁prevention', '▁plans', '.', '▁Have', '▁you', '▁been', '▁affected', '▁by', '▁flooding', '▁in', '▁Du', 'm', 'f', 'ries', '▁and', '▁Gall', 'o', 'way', '▁or', '▁the', '▁Border', 's', '?', '▁Tell', '▁us', '▁about', '▁your', '▁experience', '▁of', '▁the', '▁situation', '▁and', '▁how', '▁it', '▁was', '▁handled', '.', '▁Email', '▁us', '▁on', '▁or', '▁', '.', '</s>']\n",
            "\n",
            "Decoded Text without Special Tokens:\n",
            "summarize: The full cost of damage in Newton Stewart, one of the areas worst affected, is still being assessed. Repair work is ongoing in Hawick and\n",
            "many roads in Peeblesshire remain badly affected by standing water. Trains on the west coast mainline face disruption due to damage at the Lamington\n",
            "Viaduct. Many businesses and householders were affected by flooding in Newton Stewart after the River Cree overflowed into the town. First Minister\n",
            "Nicola Sturgeon visited the area to inspect the damage. The waters breached a retaining wall, flooding many commercial properties on Victoria Street -\n",
            "the main shopping thoroughfare. Jeanette Tate, who owns the Cinnamon Cafe which was badly affected, said she could not fault the multi-agency response\n",
            "once the flood hit. However, she said more preventative work could have been carried out to ensure the retaining wall did not fail. \"It is difficult\n",
            "but I do think there is so much publicity for Dumfries and the Nith - and I totally appreciate that - but it is almost like we're neglected or\n",
            "forgotten,\" she said. \"That may not be true but it is perhaps my perspective over the last few days. \"Why were you not ready to help us a bit more\n",
            "when the warning and the alarm alerts had gone out?\" Meanwhile, a flood alert remains in place across the Borders because of the constant rain.\n",
            "Peebles was badly hit by problems, sparking calls to introduce more defences in the area. Scottish Borders Council has put a list on its website of\n",
            "the roads worst affected and drivers have been urged not to ignore closure signs. The Labour Party's deputy Scottish leader Alex Rowley was in Hawick\n",
            "on Monday to see the situation first hand. He said it was important to get the flood protection plan right but backed calls to speed up the process.\n",
            "\"I was quite taken aback by the amount of damage that has been done,\" he said. \"Obviously it is heart-breaking for people who have been forced out of\n",
            "their homes and the impact on businesses.\" He said it was important that \"immediate steps\" were taken to protect the areas most vulnerable and a clear\n",
            "timetable put in place for flood prevention plans. Have you been affected by flooding in Dumfries and Galloway or the Borders? Tell us about your\n",
            "experience of the situation and how it was handled. Email us on or.\n",
            "\n",
            "Attention Mask:\n",
            "[1, 1, 1, 1, 1, 1, 1, 1, 1, 1, 1, 1, 1, 1, 1, 1, 1, 1, 1, 1, 1, 1, 1, 1, 1, 1, 1, 1, 1, 1, 1, 1, 1, 1, 1, 1, 1, 1, 1, 1, 1, 1, 1, 1, 1, 1, 1, 1, 1, 1, 1, 1, 1, 1, 1, 1, 1, 1, 1, 1, 1, 1, 1, 1, 1, 1, 1, 1, 1, 1, 1, 1, 1, 1, 1, 1, 1, 1, 1, 1, 1, 1, 1, 1, 1, 1, 1, 1, 1, 1, 1, 1, 1, 1, 1, 1, 1, 1, 1, 1, 1, 1, 1, 1, 1, 1, 1, 1, 1, 1, 1, 1, 1, 1, 1, 1, 1, 1, 1, 1, 1, 1, 1, 1, 1, 1, 1, 1, 1, 1, 1, 1, 1, 1, 1, 1, 1, 1, 1, 1, 1, 1, 1, 1, 1, 1, 1, 1, 1, 1, 1, 1, 1, 1, 1, 1, 1, 1, 1, 1, 1, 1, 1, 1, 1, 1, 1, 1, 1, 1, 1, 1, 1, 1, 1, 1, 1, 1, 1, 1, 1, 1, 1, 1, 1, 1, 1, 1, 1, 1, 1, 1, 1, 1, 1, 1, 1, 1, 1, 1, 1, 1, 1, 1, 1, 1, 1, 1, 1, 1, 1, 1, 1, 1, 1, 1, 1, 1, 1, 1, 1, 1, 1, 1, 1, 1, 1, 1, 1, 1, 1, 1, 1, 1, 1, 1, 1, 1, 1, 1, 1, 1, 1, 1, 1, 1, 1, 1, 1, 1, 1, 1, 1, 1, 1, 1, 1, 1, 1, 1, 1, 1, 1, 1, 1, 1, 1, 1, 1, 1, 1, 1, 1, 1, 1, 1, 1, 1, 1, 1, 1, 1, 1, 1, 1, 1, 1, 1, 1, 1, 1, 1, 1, 1, 1, 1, 1, 1, 1, 1, 1, 1, 1, 1, 1, 1, 1, 1, 1, 1, 1, 1, 1, 1, 1, 1, 1, 1, 1, 1, 1, 1, 1, 1, 1, 1, 1, 1, 1, 1, 1, 1, 1, 1, 1, 1, 1, 1, 1, 1, 1, 1, 1, 1, 1, 1, 1, 1, 1, 1, 1, 1, 1, 1, 1, 1, 1, 1, 1, 1, 1, 1, 1, 1, 1, 1, 1, 1, 1, 1, 1, 1, 1, 1, 1, 1, 1, 1, 1, 1, 1, 1, 1, 1, 1, 1, 1, 1, 1, 1, 1, 1, 1, 1, 1, 1, 1, 1, 1, 1, 1, 1, 1, 1, 1, 1, 1, 1, 1, 1, 1, 1, 1, 1, 1, 1, 1, 1, 1, 1, 1, 1, 1, 1, 1, 1, 1, 1, 1, 1, 1, 1, 1, 1, 1, 1, 1, 1, 1, 1, 1, 1, 1, 1, 1, 1, 1, 1, 1, 1, 1, 1, 1, 1, 1, 1, 1, 1, 1, 1, 1, 1, 1, 1, 1, 1, 1, 1, 1, 1, 1, 1, 1, 1, 1, 1, 1, 1, 1, 1, 1, 1, 1, 1, 1, 1, 1, 1, 1, 1, 1, 1, 1, 1, 1, 1, 1, 1, 1, 1, 1, 1, 1, 1, 1, 1, 1, 1, 1, 1, 1, 1, 1, 1, 1, 1]\n",
            "\n",
            "\n",
            "Label:\n",
            "[7433, 18, 413, 2673, 33, 6168, 640, 8, 12580, 17600, 7, 11, 970, 51, 89, 2593, 11, 10987, 32, 1343, 227, 18368, 2953, 57, 16133, 4937, 5, 1]\n",
            "\n",
            "Tokens:\n",
            "['▁Clean', '-', 'up', '▁operations', '▁are', '▁continuing', '▁across', '▁the', '▁Scottish', '▁Border', 's', '▁and', '▁Du', 'm', 'f', 'ries', '▁and', '▁Gall', 'o', 'way', '▁after', '▁flooding', '▁caused', '▁by', '▁Storm', '▁Frank', '.', '</s>']\n",
            "\n",
            "Decoded Text without Special Tokens:\n",
            "Clean-up operations are continuing across the Scottish Borders and Dumfries and Galloway after flooding caused by Storm Frank.\n"
          ]
        }
      ],
      "source": [
        "# Example of tokenization\n",
        "\n",
        "id = 0\n",
        "example = train_dataset[id]\n",
        "encoding = tokenizer(example[\"document\"], text_target=example[\"summary\"])\n",
        "\n",
        "input_ids = encoding[\"input_ids\"]\n",
        "print(f\"Input Ids:\\n{input_ids}\\n\")\n",
        "print(f\"Tokens:\\n{tokenizer.convert_ids_to_tokens(input_ids)}\\n\")\n",
        "print(f\"Decoded Text without Special Tokens:\\n{textwrap.fill(tokenizer.decode(input_ids, skip_special_tokens=True), width=150)}\\n\")\n",
        "print(f\"Attention Mask:\\n{encoding['attention_mask']}\\n\\n\")\n",
        "\n",
        "labels = encoding[\"labels\"]\n",
        "print(f\"Label:\\n{labels}\\n\")\n",
        "print(f\"Tokens:\\n{tokenizer.convert_ids_to_tokens(labels)}\\n\")\n",
        "print(f\"Decoded Text without Special Tokens:\\n{textwrap.fill(tokenizer.decode(labels, skip_special_tokens=True), width=150)}\")"
      ]
    },
    {
      "cell_type": "code",
      "execution_count": 11,
      "metadata": {
        "id": "i-oEHblUPJyC"
      },
      "outputs": [],
      "source": [
        "def tokenize_dataset(dataset):\n",
        "  contexts, targets = dataset[\"document\"], dataset[\"summary\"]\n",
        "\n",
        "  inputs = tokenizer(\n",
        "      contexts,\n",
        "      padding=\"max_length\",\n",
        "      truncation=True,\n",
        "      max_length=max_context_length\n",
        "  )\n",
        "\n",
        "  labels = tokenizer(\n",
        "      text_target=targets,\n",
        "      padding=\"max_length\",\n",
        "      truncation=True,\n",
        "      max_length=max_target_length,\n",
        "      return_tensors=\"np\"\n",
        "  )[\"input_ids\"]\n",
        "\n",
        "  labels[labels == tokenizer.pad_token_id] = -100\n",
        "  inputs[\"labels\"] = labels\n",
        "\n",
        "  return inputs"
      ]
    },
    {
      "cell_type": "code",
      "execution_count": null,
      "metadata": {
        "colab": {
          "base_uri": "https://localhost:8080/",
          "height": 81,
          "referenced_widgets": [
            "cf09b33db1cc4e7c94cd1a56255ef797",
            "61b79e727603454d9a752d0fc65968ab",
            "0bb768ff9f524870bd2c02ae60986ada",
            "516bf6ba31884ea3b5852f6f3523723c",
            "91cc02f0c38f4cd9847d688e3bcdcc0f",
            "3b1b0a14ded842738b1e21ac78dd7396",
            "c5fc9d9b96be49bbaa9c744e349ecbb0",
            "c3613f57450041b799d0dc8e7e82b16a",
            "4e709156513a4eaf91e05c0ed25a9afe",
            "28174621ddc14fdcb70fb2bee32a3130",
            "28f2a400b7d940ef8cb3726195533b35",
            "67b12cc3a6ce4ba0b975ae18192f484f",
            "ed7e146e9bb447ca9a23f422ad8434be",
            "fd2bbfb96868427f99c7e554187d7ad1",
            "8cc359c566c3498c943a4b9a69203e80",
            "876967a8b69b48cc867e01aac7724766",
            "9e9d4e6a86f740e9a5d463bd462a6cb7",
            "c2fe6b7c52fb4523806dd458e77bf43b",
            "40c39e9ddffb49f18044a349a0a0dd6c",
            "2ba62111b3834532990f5107c1be4ffa",
            "a3a6e9cab9944b8bb1fcc5342fa71cd8",
            "72b7a53db29f4faaad9f639c2c9f86c1"
          ]
        },
        "id": "v3coLDuMQALo",
        "outputId": "d03c3f0b-4c25-4957-93e9-9417880c99ef"
      },
      "outputs": [
        {
          "output_type": "display_data",
          "data": {
            "text/plain": [
              "Map:   0%|          | 0/203354 [00:00<?, ? examples/s]"
            ],
            "application/vnd.jupyter.widget-view+json": {
              "version_major": 2,
              "version_minor": 0,
              "model_id": "cf09b33db1cc4e7c94cd1a56255ef797"
            }
          },
          "metadata": {}
        },
        {
          "output_type": "display_data",
          "data": {
            "text/plain": [
              "Map:   0%|          | 0/11295 [00:00<?, ? examples/s]"
            ],
            "application/vnd.jupyter.widget-view+json": {
              "version_major": 2,
              "version_minor": 0,
              "model_id": "67b12cc3a6ce4ba0b975ae18192f484f"
            }
          },
          "metadata": {}
        }
      ],
      "source": [
        "train_dataset = train_dataset.map(tokenize_dataset, batched=True)\n",
        "val_dataset = val_dataset.map(tokenize_dataset, batched=True)"
      ]
    },
    {
      "cell_type": "markdown",
      "metadata": {
        "id": "ey4FxjBKi6ql"
      },
      "source": [
        "## **Creation and Compilation of the Model**\n",
        "\n",
        "Due to the large size of the training dataset, the tokenized `document` sequences (1024 tokens) are also large, and the T5 Base model is relatively large with over 220 million parameters, it is necessary to fine-tune the model on the Google Colab TPU to significantly speed up training time. Therefore, as noted in tokenization, the sequences must have a fixed size. If they were dynamically padded to the longest sequence in the batch, the training would be slower than training on the Colab CPU."
      ]
    },
    {
      "cell_type": "code",
      "execution_count": null,
      "metadata": {
        "colab": {
          "base_uri": "https://localhost:8080/"
        },
        "id": "n4moIl_nDliJ",
        "outputId": "b87bcfef-7edb-4c05-ffa0-5acf3bb7f9e3"
      },
      "outputs": [
        {
          "output_type": "stream",
          "name": "stdout",
          "text": [
            "TPU initialized:\n",
            "All devices:  [LogicalDevice(name='/device:TPU:0', device_type='TPU'), LogicalDevice(name='/device:TPU:1', device_type='TPU'), LogicalDevice(name='/device:TPU:2', device_type='TPU'), LogicalDevice(name='/device:TPU:3', device_type='TPU'), LogicalDevice(name='/device:TPU:4', device_type='TPU'), LogicalDevice(name='/device:TPU:5', device_type='TPU'), LogicalDevice(name='/device:TPU:6', device_type='TPU'), LogicalDevice(name='/device:TPU:7', device_type='TPU')]\n"
          ]
        }
      ],
      "source": [
        "# TPU setup\n",
        "try:\n",
        "  tpu = tf.distribute.cluster_resolver.TPUClusterResolver(tpu=\"local\")\n",
        "  tf.config.experimental_connect_to_cluster(tpu)\n",
        "  tf.tpu.experimental.initialize_tpu_system(tpu)\n",
        "  strategy = tf.distribute.TPUStrategy(tpu)\n",
        "  print(\"TPU initialized:\")\n",
        "  print(\"All devices: \", tf.config.list_logical_devices(\"TPU\"))\n",
        "except ValueError:\n",
        "  print(\"TPU not found\")"
      ]
    },
    {
      "cell_type": "code",
      "execution_count": null,
      "metadata": {
        "id": "Dapi8fL-DWtf"
      },
      "outputs": [],
      "source": [
        "def masked_accuracy(y_true, y_pred):\n",
        "  y_pred = tf.cast(tf.argmax(y_pred, axis=-1), y_true.dtype)\n",
        "  mask = tf.cast(y_true != -100, tf.float32)\n",
        "  accuracy = tf.cast(y_true == y_pred, tf.float32)\n",
        "  accuracy *= mask\n",
        "\n",
        "  return tf.reduce_sum(accuracy) / tf.reduce_sum(mask)"
      ]
    },
    {
      "cell_type": "code",
      "execution_count": null,
      "metadata": {
        "colab": {
          "base_uri": "https://localhost:8080/"
        },
        "id": "DqkMyJfLDrEZ",
        "outputId": "f0ebe7b0-00e8-4136-ef97-50c125de418b"
      },
      "outputs": [
        {
          "output_type": "stream",
          "name": "stderr",
          "text": [
            "All PyTorch model weights were used when initializing TFT5ForConditionalGeneration.\n",
            "\n",
            "All the weights of TFT5ForConditionalGeneration were initialized from the PyTorch model.\n",
            "If your task is similar to the task the model of the checkpoint was trained on, you can already use TFT5ForConditionalGeneration for predictions without further training.\n"
          ]
        },
        {
          "output_type": "stream",
          "name": "stdout",
          "text": [
            "Model: \"tft5_for_conditional_generation\"\n",
            "_________________________________________________________________\n",
            " Layer (type)                Output Shape              Param #   \n",
            "=================================================================\n",
            " shared (Embedding)          multiple                  24674304  \n",
            "                                                                 \n",
            " encoder (TFT5MainLayer)     multiple                  109628544 \n",
            "                                                                 \n",
            " decoder (TFT5MainLayer)     multiple                  137949312 \n",
            "                                                                 \n",
            "=================================================================\n",
            "Total params: 222903552 (850.31 MB)\n",
            "Trainable params: 222903552 (850.31 MB)\n",
            "Non-trainable params: 0 (0.00 Byte)\n",
            "_________________________________________________________________\n"
          ]
        }
      ],
      "source": [
        "tf.keras.backend.clear_session() #Clearing Keras memory\n",
        "tf.random.set_seed(SEED) #For reproducibility\n",
        "\n",
        "with strategy.scope():\n",
        "  # Download the T5 model\n",
        "  model = TFAutoModelForSeq2SeqLM.from_pretrained(model_name)\n",
        "  optimizer = AdamWeightDecay(learning_rate=3e-4, weight_decay_rate=0.01)\n",
        "\n",
        "  model.compile(\n",
        "      optimizer=optimizer,\n",
        "      metrics=[masked_accuracy],\n",
        "      steps_per_execution=400\n",
        "  )\n",
        "\n",
        "model.summary()"
      ]
    },
    {
      "cell_type": "markdown",
      "metadata": {
        "id": "qLHbPDquJ0mX"
      },
      "source": [
        "## **Create the training and validation datasets using ``tf.data``**"
      ]
    },
    {
      "cell_type": "code",
      "execution_count": null,
      "metadata": {
        "id": "WREWOilkZ986"
      },
      "outputs": [],
      "source": [
        "np.random.seed(SEED)\n",
        "tf.random.set_seed(SEED)\n",
        "\n",
        "train_dataset_tf = model.prepare_tf_dataset(\n",
        "    train_dataset,\n",
        "    batch_size=batch_size,\n",
        "    shuffle=True,\n",
        "    drop_remainder=True\n",
        ")\n",
        "\n",
        "val_dataset_tf = model.prepare_tf_dataset(\n",
        "    val_dataset,\n",
        "    batch_size=batch_size,\n",
        "    shuffle=False,\n",
        "    drop_remainder=True\n",
        ")"
      ]
    },
    {
      "cell_type": "code",
      "execution_count": null,
      "metadata": {
        "colab": {
          "base_uri": "https://localhost:8080/"
        },
        "id": "eI5o6OXQMM8E",
        "outputId": "89514271-5dac-4e3c-c74b-de4b2f44bbf4"
      },
      "outputs": [
        {
          "output_type": "stream",
          "name": "stdout",
          "text": [
            "tf.Tensor(\n",
            "[[21603    10 17113 ...     0     0     0]\n",
            " [21603    10    37 ...     0     0     0]\n",
            " [21603    10 16453 ...     0     0     0]\n",
            " ...\n",
            " [21603    10 20264 ...     0     0     0]\n",
            " [21603    10    37 ...     0     0     0]\n",
            " [21603    10 27344 ...     0     0     0]], shape=(32, 1024), dtype=int64) \n",
            "\n",
            "tf.Tensor(\n",
            "[[1 1 1 ... 0 0 0]\n",
            " [1 1 1 ... 0 0 0]\n",
            " [1 1 1 ... 0 0 0]\n",
            " ...\n",
            " [1 1 1 ... 0 0 0]\n",
            " [1 1 1 ... 0 0 0]\n",
            " [1 1 1 ... 0 0 0]], shape=(32, 1024), dtype=int64) \n",
            "\n",
            "tf.Tensor(\n",
            "[[   37  2734 13235 ...  -100  -100  -100]\n",
            " [ 2158   651  3038 ...  -100  -100  -100]\n",
            " [   37  2753    13 ...  -100  -100  -100]\n",
            " ...\n",
            " [   37   166  2553 ...  -100  -100  -100]\n",
            " [10256    31  2630 ...  -100  -100  -100]\n",
            " [24191     7    13 ...  -100  -100  -100]], shape=(32, 128), dtype=int64)\n"
          ]
        }
      ],
      "source": [
        "# Viewing a training batch\n",
        "for inputs, labels in train_dataset_tf.take(1):\n",
        "  print(inputs[\"input_ids\"], \"\\n\")\n",
        "  print(inputs[\"attention_mask\"], \"\\n\")\n",
        "  print(labels)"
      ]
    },
    {
      "cell_type": "markdown",
      "metadata": {
        "id": "ifzYAMeWEPTx"
      },
      "source": [
        "## **Fine-Tuning the Model**"
      ]
    },
    {
      "cell_type": "markdown",
      "source": [
        "Even with the Colab TPU, training takes more than 3 hours, which is the maximum time provided by the free version of Colab. Therefore, it is necessary to use checkpoints to save the model and the optimizer after a certain number of epochs and continue training from where it left off."
      ],
      "metadata": {
        "id": "IphrL_c_Ohlm"
      }
    },
    {
      "cell_type": "code",
      "source": [
        "checkpoint_folder = \"/content/drive/MyDrive/checkpoints/Summarization_T5_XSum\"\n",
        "checkpoint = tf.train.Checkpoint(model=model, optimizer=optimizer)"
      ],
      "metadata": {
        "id": "qGAVBOPwDBWb"
      },
      "execution_count": null,
      "outputs": []
    },
    {
      "cell_type": "code",
      "source": [
        "pretrained = True #Change according to previous training\n",
        "\n",
        "if pretrained:\n",
        "  last_epoch = 4 #Put the last epoch of the pretrained model\n",
        "\n",
        "  # Restore the model and the optimizer from the latest checkpoint\n",
        "  checkpoint.restore(tf.train.latest_checkpoint(checkpoint_folder))\n",
        "  history = pd.read_csv(os.path.join(checkpoint_folder, f\"history_epoch_{last_epoch}.csv\"))\n",
        "\n",
        "else:\n",
        "  last_epoch = 0\n",
        "  os.makedirs(checkpoint_folder, exist_ok=True)\n",
        "  history = pd.DataFrame({\"loss\": [], \"val_loss\": [], \"accuracy\": [], \"val_accuracy\": []})"
      ],
      "metadata": {
        "id": "bxbnQ5snFgDB"
      },
      "execution_count": null,
      "outputs": []
    },
    {
      "cell_type": "code",
      "source": [
        "# Callback to save checkpoints and training history\n",
        "class CheckpointCallback(tf.keras.callbacks.Callback):\n",
        "  def __init__(self, save_path, save_freq, history):\n",
        "    super().__init__()\n",
        "    self.save_path = save_path\n",
        "    self.save_freq = save_freq\n",
        "    self.history = history\n",
        "\n",
        "  def on_epoch_end(self, epoch, logs=None):\n",
        "    epoch_history = pd.DataFrame({k: [v] for k, v in logs.items()})\n",
        "    self.history = pd.concat([self.history, epoch_history], axis=0, ignore_index=True)\n",
        "    self.history.to_csv(os.path.join(self.save_path, f\"history_epoch_{epoch+1}.csv\"), index=False)\n",
        "\n",
        "    if (epoch+1) % self.save_freq == 0:\n",
        "      checkpoint.save(file_prefix=os.path.join(self.save_path, f\"epoch_{epoch+1}\"))"
      ],
      "metadata": {
        "id": "9B0MIE2IGZNv"
      },
      "execution_count": null,
      "outputs": []
    },
    {
      "cell_type": "code",
      "execution_count": null,
      "metadata": {
        "id": "oVbsK5EzTE5e"
      },
      "outputs": [],
      "source": [
        "checkpoint_callback = CheckpointCallback(checkpoint_folder, save_freq=4, history=history)\n",
        "\n",
        "early_callback = tf.keras.callbacks.EarlyStopping(\n",
        "    monitor=\"val_masked_accuracy\",\n",
        "    patience=1,\n",
        "    mode=\"max\",\n",
        "    restore_best_weights=True\n",
        ")"
      ]
    },
    {
      "cell_type": "code",
      "source": [
        "tf.random.set_seed(SEED)\n",
        "\n",
        "model.fit(\n",
        "    train_dataset_tf,\n",
        "    epochs=epochs,\n",
        "    validation_data=val_dataset_tf,\n",
        "    callbacks=[checkpoint_callback, early_callback],\n",
        "    initial_epoch=last_epoch\n",
        ")"
      ],
      "metadata": {
        "colab": {
          "base_uri": "https://localhost:8080/"
        },
        "id": "_wfcS-_OzjFY",
        "outputId": "2b57c3d3-d06f-47b1-c894-2f915b04378c"
      },
      "execution_count": null,
      "outputs": [
        {
          "output_type": "stream",
          "name": "stdout",
          "text": [
            "Epoch 5/20\n",
            "6354/6354 [==============================] - 2482s 391ms/step - loss: 1.5374 - masked_accuracy: 0.6427 - val_loss: 1.7498 - val_masked_accuracy: 0.6159\n",
            "Epoch 6/20\n",
            "6354/6354 [==============================] - 2204s 347ms/step - loss: 1.4656 - masked_accuracy: 0.6547 - val_loss: 1.7537 - val_masked_accuracy: 0.6161\n",
            "Epoch 7/20\n",
            "6354/6354 [==============================] - 2214s 348ms/step - loss: 1.4022 - masked_accuracy: 0.6655 - val_loss: 1.7698 - val_masked_accuracy: 0.6160\n"
          ]
        },
        {
          "output_type": "execute_result",
          "data": {
            "text/plain": [
              "<tf_keras.src.callbacks.History at 0x7c18a664d180>"
            ]
          },
          "metadata": {},
          "execution_count": 26
        }
      ]
    },
    {
      "cell_type": "markdown",
      "metadata": {
        "id": "S7cewteBIwua"
      },
      "source": [
        "**Save model**"
      ]
    },
    {
      "cell_type": "code",
      "execution_count": 12,
      "metadata": {
        "id": "kHF6iPebtijl"
      },
      "outputs": [],
      "source": [
        "trained_model_path = \"/content/drive/MyDrive/models/Summarization_T5_XSum\""
      ]
    },
    {
      "cell_type": "code",
      "execution_count": null,
      "metadata": {
        "id": "gJ1Ww4BMaIfQ"
      },
      "outputs": [],
      "source": [
        "model.save_pretrained(trained_model_path)"
      ]
    },
    {
      "cell_type": "markdown",
      "metadata": {
        "id": "WSJL2EanOvQH"
      },
      "source": [
        "## **Model Evaluation**"
      ]
    },
    {
      "cell_type": "markdown",
      "metadata": {
        "id": "wG5frXZ-4_jB"
      },
      "source": [
        "### **With conventional Accuracy**"
      ]
    },
    {
      "cell_type": "code",
      "execution_count": null,
      "metadata": {
        "id": "5sygZy4MVBVH",
        "colab": {
          "base_uri": "https://localhost:8080/"
        },
        "outputId": "6cfea288-8723-44fa-d250-725449ebd7e6"
      },
      "outputs": [
        {
          "output_type": "stream",
          "name": "stdout",
          "text": [
            "[1.1366990804672241, 0.7199440598487854]\n",
            "[1.7536628246307373, 0.6161224842071533]\n"
          ]
        }
      ],
      "source": [
        "print(model.evaluate(train_dataset_tf, verbose=0))\n",
        "print(model.evaluate(val_dataset_tf, verbose=0))"
      ]
    },
    {
      "cell_type": "markdown",
      "metadata": {
        "id": "SC8uUYMjMnIC"
      },
      "source": [
        "Conventional accuracy (`train_dataset: 71.99%, val_dataset: 61.61%`) does not accurately reflect the model's true performance but serves as a useful approximation during training to gauge how well the model is performing in text summarization. For a more precise evaluation, the **ROUGE** metric will be used."
      ]
    },
    {
      "cell_type": "code",
      "source": [
        "# Load the history from the last epoch where the callbacks were executed\n",
        "history = pd.read_csv(os.path.join(checkpoint_folder, \"history_epoch_6.csv\"))"
      ],
      "metadata": {
        "id": "eXkIH-5NHT-u"
      },
      "execution_count": null,
      "outputs": []
    },
    {
      "cell_type": "code",
      "source": [
        "# Delete the checkpoint if it is no longer needed\n",
        "!rm -r $checkpoint_folder"
      ],
      "metadata": {
        "id": "NkF42N58gkdm"
      },
      "execution_count": 14,
      "outputs": []
    },
    {
      "cell_type": "code",
      "execution_count": null,
      "metadata": {
        "id": "S0Dl-vzNaZD4"
      },
      "outputs": [],
      "source": [
        "# Function to plot the metrics\n",
        "def plot_metrics(history=history, metric=\"loss\", renderer=None, epochs=len(history[\"loss\"])):\n",
        "  losses = history[metric]\n",
        "  val_losses = history[f\"val_{metric}\"]\n",
        "  list_epochs = np.arange(1, epochs+1)\n",
        "  metric = \" \".join([w.capitalize() for w in metric.split(\"_\")])\n",
        "\n",
        "  fig=go.Figure()\n",
        "  fig.add_trace(go.Scatter(x=list_epochs, y=losses, name=metric, line=dict(color=\"blue\", width=2)))\n",
        "  fig.add_trace(go.Scatter(x=list_epochs, y=val_losses, name=f\"Val {metric}\", line=dict(color=\"#FF6600\", width=2)))\n",
        "  fig.update_xaxes(title_text=\"Epoch\")\n",
        "  fig.update_yaxes(title_text=metric)\n",
        "  fig.update_layout(title=f\"Evolution of {metric} across Epochs\",\n",
        "                    title_font=dict(size=20),\n",
        "                    title_x=0.5,\n",
        "                    height=500,\n",
        "                    width=1200)\n",
        "\n",
        "  fig.show(renderer)"
      ]
    },
    {
      "cell_type": "markdown",
      "metadata": {
        "id": "rZt-D5uWoytR"
      },
      "source": [
        "**Graphs of the metrics**"
      ]
    },
    {
      "cell_type": "code",
      "execution_count": null,
      "metadata": {
        "colab": {
          "base_uri": "https://localhost:8080/",
          "height": 1000
        },
        "id": "GYaG2ybSo12P",
        "outputId": "59329c21-cc22-44a7-f730-25b2698f601d"
      },
      "outputs": [
        {
          "output_type": "display_data",
          "data": {
            "text/html": [
              "<html>\n",
              "<head><meta charset=\"utf-8\" /></head>\n",
              "<body>\n",
              "    <div>            <script src=\"https://cdnjs.cloudflare.com/ajax/libs/mathjax/2.7.5/MathJax.js?config=TeX-AMS-MML_SVG\"></script><script type=\"text/javascript\">if (window.MathJax && window.MathJax.Hub && window.MathJax.Hub.Config) {window.MathJax.Hub.Config({SVG: {font: \"STIX-Web\"}});}</script>                <script type=\"text/javascript\">window.PlotlyConfig = {MathJaxConfig: 'local'};</script>\n",
              "        <script charset=\"utf-8\" src=\"https://cdn.plot.ly/plotly-2.24.1.min.js\"></script>                <div id=\"e604982c-4683-448e-8cf2-79a13031d996\" class=\"plotly-graph-div\" style=\"height:500px; width:1200px;\"></div>            <script type=\"text/javascript\">                                    window.PLOTLYENV=window.PLOTLYENV || {};                                    if (document.getElementById(\"e604982c-4683-448e-8cf2-79a13031d996\")) {                    Plotly.newPlot(                        \"e604982c-4683-448e-8cf2-79a13031d996\",                        [{\"line\":{\"color\":\"blue\",\"width\":2},\"name\":\"Loss\",\"x\":[1,2,3,4,5,6],\"y\":[2.0602025985717773,1.8465814590454104,1.7196398973464966,1.6191842555999756,1.5373857021331787,1.4656134843826294],\"type\":\"scatter\"},{\"line\":{\"color\":\"#FF6600\",\"width\":2},\"name\":\"Val Loss\",\"x\":[1,2,3,4,5,6],\"y\":[1.8111824989318848,1.7627360820770264,1.7475467920303345,1.7412631511688232,1.7497645616531372,1.7536628246307373],\"type\":\"scatter\"}],                        {\"template\":{\"data\":{\"histogram2dcontour\":[{\"type\":\"histogram2dcontour\",\"colorbar\":{\"outlinewidth\":0,\"ticks\":\"\"},\"colorscale\":[[0.0,\"#0d0887\"],[0.1111111111111111,\"#46039f\"],[0.2222222222222222,\"#7201a8\"],[0.3333333333333333,\"#9c179e\"],[0.4444444444444444,\"#bd3786\"],[0.5555555555555556,\"#d8576b\"],[0.6666666666666666,\"#ed7953\"],[0.7777777777777778,\"#fb9f3a\"],[0.8888888888888888,\"#fdca26\"],[1.0,\"#f0f921\"]]}],\"choropleth\":[{\"type\":\"choropleth\",\"colorbar\":{\"outlinewidth\":0,\"ticks\":\"\"}}],\"histogram2d\":[{\"type\":\"histogram2d\",\"colorbar\":{\"outlinewidth\":0,\"ticks\":\"\"},\"colorscale\":[[0.0,\"#0d0887\"],[0.1111111111111111,\"#46039f\"],[0.2222222222222222,\"#7201a8\"],[0.3333333333333333,\"#9c179e\"],[0.4444444444444444,\"#bd3786\"],[0.5555555555555556,\"#d8576b\"],[0.6666666666666666,\"#ed7953\"],[0.7777777777777778,\"#fb9f3a\"],[0.8888888888888888,\"#fdca26\"],[1.0,\"#f0f921\"]]}],\"heatmap\":[{\"type\":\"heatmap\",\"colorbar\":{\"outlinewidth\":0,\"ticks\":\"\"},\"colorscale\":[[0.0,\"#0d0887\"],[0.1111111111111111,\"#46039f\"],[0.2222222222222222,\"#7201a8\"],[0.3333333333333333,\"#9c179e\"],[0.4444444444444444,\"#bd3786\"],[0.5555555555555556,\"#d8576b\"],[0.6666666666666666,\"#ed7953\"],[0.7777777777777778,\"#fb9f3a\"],[0.8888888888888888,\"#fdca26\"],[1.0,\"#f0f921\"]]}],\"heatmapgl\":[{\"type\":\"heatmapgl\",\"colorbar\":{\"outlinewidth\":0,\"ticks\":\"\"},\"colorscale\":[[0.0,\"#0d0887\"],[0.1111111111111111,\"#46039f\"],[0.2222222222222222,\"#7201a8\"],[0.3333333333333333,\"#9c179e\"],[0.4444444444444444,\"#bd3786\"],[0.5555555555555556,\"#d8576b\"],[0.6666666666666666,\"#ed7953\"],[0.7777777777777778,\"#fb9f3a\"],[0.8888888888888888,\"#fdca26\"],[1.0,\"#f0f921\"]]}],\"contourcarpet\":[{\"type\":\"contourcarpet\",\"colorbar\":{\"outlinewidth\":0,\"ticks\":\"\"}}],\"contour\":[{\"type\":\"contour\",\"colorbar\":{\"outlinewidth\":0,\"ticks\":\"\"},\"colorscale\":[[0.0,\"#0d0887\"],[0.1111111111111111,\"#46039f\"],[0.2222222222222222,\"#7201a8\"],[0.3333333333333333,\"#9c179e\"],[0.4444444444444444,\"#bd3786\"],[0.5555555555555556,\"#d8576b\"],[0.6666666666666666,\"#ed7953\"],[0.7777777777777778,\"#fb9f3a\"],[0.8888888888888888,\"#fdca26\"],[1.0,\"#f0f921\"]]}],\"surface\":[{\"type\":\"surface\",\"colorbar\":{\"outlinewidth\":0,\"ticks\":\"\"},\"colorscale\":[[0.0,\"#0d0887\"],[0.1111111111111111,\"#46039f\"],[0.2222222222222222,\"#7201a8\"],[0.3333333333333333,\"#9c179e\"],[0.4444444444444444,\"#bd3786\"],[0.5555555555555556,\"#d8576b\"],[0.6666666666666666,\"#ed7953\"],[0.7777777777777778,\"#fb9f3a\"],[0.8888888888888888,\"#fdca26\"],[1.0,\"#f0f921\"]]}],\"mesh3d\":[{\"type\":\"mesh3d\",\"colorbar\":{\"outlinewidth\":0,\"ticks\":\"\"}}],\"scatter\":[{\"fillpattern\":{\"fillmode\":\"overlay\",\"size\":10,\"solidity\":0.2},\"type\":\"scatter\"}],\"parcoords\":[{\"type\":\"parcoords\",\"line\":{\"colorbar\":{\"outlinewidth\":0,\"ticks\":\"\"}}}],\"scatterpolargl\":[{\"type\":\"scatterpolargl\",\"marker\":{\"colorbar\":{\"outlinewidth\":0,\"ticks\":\"\"}}}],\"bar\":[{\"error_x\":{\"color\":\"#2a3f5f\"},\"error_y\":{\"color\":\"#2a3f5f\"},\"marker\":{\"line\":{\"color\":\"#E5ECF6\",\"width\":0.5},\"pattern\":{\"fillmode\":\"overlay\",\"size\":10,\"solidity\":0.2}},\"type\":\"bar\"}],\"scattergeo\":[{\"type\":\"scattergeo\",\"marker\":{\"colorbar\":{\"outlinewidth\":0,\"ticks\":\"\"}}}],\"scatterpolar\":[{\"type\":\"scatterpolar\",\"marker\":{\"colorbar\":{\"outlinewidth\":0,\"ticks\":\"\"}}}],\"histogram\":[{\"marker\":{\"pattern\":{\"fillmode\":\"overlay\",\"size\":10,\"solidity\":0.2}},\"type\":\"histogram\"}],\"scattergl\":[{\"type\":\"scattergl\",\"marker\":{\"colorbar\":{\"outlinewidth\":0,\"ticks\":\"\"}}}],\"scatter3d\":[{\"type\":\"scatter3d\",\"line\":{\"colorbar\":{\"outlinewidth\":0,\"ticks\":\"\"}},\"marker\":{\"colorbar\":{\"outlinewidth\":0,\"ticks\":\"\"}}}],\"scattermapbox\":[{\"type\":\"scattermapbox\",\"marker\":{\"colorbar\":{\"outlinewidth\":0,\"ticks\":\"\"}}}],\"scatterternary\":[{\"type\":\"scatterternary\",\"marker\":{\"colorbar\":{\"outlinewidth\":0,\"ticks\":\"\"}}}],\"scattercarpet\":[{\"type\":\"scattercarpet\",\"marker\":{\"colorbar\":{\"outlinewidth\":0,\"ticks\":\"\"}}}],\"carpet\":[{\"aaxis\":{\"endlinecolor\":\"#2a3f5f\",\"gridcolor\":\"white\",\"linecolor\":\"white\",\"minorgridcolor\":\"white\",\"startlinecolor\":\"#2a3f5f\"},\"baxis\":{\"endlinecolor\":\"#2a3f5f\",\"gridcolor\":\"white\",\"linecolor\":\"white\",\"minorgridcolor\":\"white\",\"startlinecolor\":\"#2a3f5f\"},\"type\":\"carpet\"}],\"table\":[{\"cells\":{\"fill\":{\"color\":\"#EBF0F8\"},\"line\":{\"color\":\"white\"}},\"header\":{\"fill\":{\"color\":\"#C8D4E3\"},\"line\":{\"color\":\"white\"}},\"type\":\"table\"}],\"barpolar\":[{\"marker\":{\"line\":{\"color\":\"#E5ECF6\",\"width\":0.5},\"pattern\":{\"fillmode\":\"overlay\",\"size\":10,\"solidity\":0.2}},\"type\":\"barpolar\"}],\"pie\":[{\"automargin\":true,\"type\":\"pie\"}]},\"layout\":{\"autotypenumbers\":\"strict\",\"colorway\":[\"#636efa\",\"#EF553B\",\"#00cc96\",\"#ab63fa\",\"#FFA15A\",\"#19d3f3\",\"#FF6692\",\"#B6E880\",\"#FF97FF\",\"#FECB52\"],\"font\":{\"color\":\"#2a3f5f\"},\"hovermode\":\"closest\",\"hoverlabel\":{\"align\":\"left\"},\"paper_bgcolor\":\"white\",\"plot_bgcolor\":\"#E5ECF6\",\"polar\":{\"bgcolor\":\"#E5ECF6\",\"angularaxis\":{\"gridcolor\":\"white\",\"linecolor\":\"white\",\"ticks\":\"\"},\"radialaxis\":{\"gridcolor\":\"white\",\"linecolor\":\"white\",\"ticks\":\"\"}},\"ternary\":{\"bgcolor\":\"#E5ECF6\",\"aaxis\":{\"gridcolor\":\"white\",\"linecolor\":\"white\",\"ticks\":\"\"},\"baxis\":{\"gridcolor\":\"white\",\"linecolor\":\"white\",\"ticks\":\"\"},\"caxis\":{\"gridcolor\":\"white\",\"linecolor\":\"white\",\"ticks\":\"\"}},\"coloraxis\":{\"colorbar\":{\"outlinewidth\":0,\"ticks\":\"\"}},\"colorscale\":{\"sequential\":[[0.0,\"#0d0887\"],[0.1111111111111111,\"#46039f\"],[0.2222222222222222,\"#7201a8\"],[0.3333333333333333,\"#9c179e\"],[0.4444444444444444,\"#bd3786\"],[0.5555555555555556,\"#d8576b\"],[0.6666666666666666,\"#ed7953\"],[0.7777777777777778,\"#fb9f3a\"],[0.8888888888888888,\"#fdca26\"],[1.0,\"#f0f921\"]],\"sequentialminus\":[[0.0,\"#0d0887\"],[0.1111111111111111,\"#46039f\"],[0.2222222222222222,\"#7201a8\"],[0.3333333333333333,\"#9c179e\"],[0.4444444444444444,\"#bd3786\"],[0.5555555555555556,\"#d8576b\"],[0.6666666666666666,\"#ed7953\"],[0.7777777777777778,\"#fb9f3a\"],[0.8888888888888888,\"#fdca26\"],[1.0,\"#f0f921\"]],\"diverging\":[[0,\"#8e0152\"],[0.1,\"#c51b7d\"],[0.2,\"#de77ae\"],[0.3,\"#f1b6da\"],[0.4,\"#fde0ef\"],[0.5,\"#f7f7f7\"],[0.6,\"#e6f5d0\"],[0.7,\"#b8e186\"],[0.8,\"#7fbc41\"],[0.9,\"#4d9221\"],[1,\"#276419\"]]},\"xaxis\":{\"gridcolor\":\"white\",\"linecolor\":\"white\",\"ticks\":\"\",\"title\":{\"standoff\":15},\"zerolinecolor\":\"white\",\"automargin\":true,\"zerolinewidth\":2},\"yaxis\":{\"gridcolor\":\"white\",\"linecolor\":\"white\",\"ticks\":\"\",\"title\":{\"standoff\":15},\"zerolinecolor\":\"white\",\"automargin\":true,\"zerolinewidth\":2},\"scene\":{\"xaxis\":{\"backgroundcolor\":\"#E5ECF6\",\"gridcolor\":\"white\",\"linecolor\":\"white\",\"showbackground\":true,\"ticks\":\"\",\"zerolinecolor\":\"white\",\"gridwidth\":2},\"yaxis\":{\"backgroundcolor\":\"#E5ECF6\",\"gridcolor\":\"white\",\"linecolor\":\"white\",\"showbackground\":true,\"ticks\":\"\",\"zerolinecolor\":\"white\",\"gridwidth\":2},\"zaxis\":{\"backgroundcolor\":\"#E5ECF6\",\"gridcolor\":\"white\",\"linecolor\":\"white\",\"showbackground\":true,\"ticks\":\"\",\"zerolinecolor\":\"white\",\"gridwidth\":2}},\"shapedefaults\":{\"line\":{\"color\":\"#2a3f5f\"}},\"annotationdefaults\":{\"arrowcolor\":\"#2a3f5f\",\"arrowhead\":0,\"arrowwidth\":1},\"geo\":{\"bgcolor\":\"white\",\"landcolor\":\"#E5ECF6\",\"subunitcolor\":\"white\",\"showland\":true,\"showlakes\":true,\"lakecolor\":\"white\"},\"title\":{\"x\":0.05},\"mapbox\":{\"style\":\"light\"}}},\"xaxis\":{\"title\":{\"text\":\"Epoch\"}},\"yaxis\":{\"title\":{\"text\":\"Loss\"}},\"title\":{\"text\":\"Evolution of Loss across Epochs\",\"font\":{\"size\":20},\"x\":0.5},\"height\":500,\"width\":1200},                        {\"responsive\": true}                    ).then(function(){\n",
              "                            \n",
              "var gd = document.getElementById('e604982c-4683-448e-8cf2-79a13031d996');\n",
              "var x = new MutationObserver(function (mutations, observer) {{\n",
              "        var display = window.getComputedStyle(gd).display;\n",
              "        if (!display || display === 'none') {{\n",
              "            console.log([gd, 'removed!']);\n",
              "            Plotly.purge(gd);\n",
              "            observer.disconnect();\n",
              "        }}\n",
              "}});\n",
              "\n",
              "// Listen for the removal of the full notebook cells\n",
              "var notebookContainer = gd.closest('#notebook-container');\n",
              "if (notebookContainer) {{\n",
              "    x.observe(notebookContainer, {childList: true});\n",
              "}}\n",
              "\n",
              "// Listen for the clearing of the current output cell\n",
              "var outputEl = gd.closest('.output');\n",
              "if (outputEl) {{\n",
              "    x.observe(outputEl, {childList: true});\n",
              "}}\n",
              "\n",
              "                        })                };                            </script>        </div>\n",
              "</body>\n",
              "</html>"
            ]
          },
          "metadata": {}
        },
        {
          "output_type": "display_data",
          "data": {
            "text/html": [
              "<html>\n",
              "<head><meta charset=\"utf-8\" /></head>\n",
              "<body>\n",
              "    <div>            <script src=\"https://cdnjs.cloudflare.com/ajax/libs/mathjax/2.7.5/MathJax.js?config=TeX-AMS-MML_SVG\"></script><script type=\"text/javascript\">if (window.MathJax && window.MathJax.Hub && window.MathJax.Hub.Config) {window.MathJax.Hub.Config({SVG: {font: \"STIX-Web\"}});}</script>                <script type=\"text/javascript\">window.PlotlyConfig = {MathJaxConfig: 'local'};</script>\n",
              "        <script charset=\"utf-8\" src=\"https://cdn.plot.ly/plotly-2.24.1.min.js\"></script>                <div id=\"1cb65ea4-7d17-4703-83a7-87ed58d996f2\" class=\"plotly-graph-div\" style=\"height:500px; width:1200px;\"></div>            <script type=\"text/javascript\">                                    window.PLOTLYENV=window.PLOTLYENV || {};                                    if (document.getElementById(\"1cb65ea4-7d17-4703-83a7-87ed58d996f2\")) {                    Plotly.newPlot(                        \"1cb65ea4-7d17-4703-83a7-87ed58d996f2\",                        [{\"line\":{\"color\":\"blue\",\"width\":2},\"name\":\"Masked Accuracy\",\"x\":[1,2,3,4,5,6],\"y\":[0.560888409614563,0.5933001637458801,0.613014280796051,0.6291494965553284,0.6427417397499084,0.654705822467804],\"type\":\"scatter\"},{\"line\":{\"color\":\"#FF6600\",\"width\":2},\"name\":\"Val Masked Accuracy\",\"x\":[1,2,3,4,5,6],\"y\":[0.5999313592910767,0.6083653569221497,0.6116262078285217,0.6154382228851318,0.6159011125564575,0.6161224842071533],\"type\":\"scatter\"}],                        {\"template\":{\"data\":{\"histogram2dcontour\":[{\"type\":\"histogram2dcontour\",\"colorbar\":{\"outlinewidth\":0,\"ticks\":\"\"},\"colorscale\":[[0.0,\"#0d0887\"],[0.1111111111111111,\"#46039f\"],[0.2222222222222222,\"#7201a8\"],[0.3333333333333333,\"#9c179e\"],[0.4444444444444444,\"#bd3786\"],[0.5555555555555556,\"#d8576b\"],[0.6666666666666666,\"#ed7953\"],[0.7777777777777778,\"#fb9f3a\"],[0.8888888888888888,\"#fdca26\"],[1.0,\"#f0f921\"]]}],\"choropleth\":[{\"type\":\"choropleth\",\"colorbar\":{\"outlinewidth\":0,\"ticks\":\"\"}}],\"histogram2d\":[{\"type\":\"histogram2d\",\"colorbar\":{\"outlinewidth\":0,\"ticks\":\"\"},\"colorscale\":[[0.0,\"#0d0887\"],[0.1111111111111111,\"#46039f\"],[0.2222222222222222,\"#7201a8\"],[0.3333333333333333,\"#9c179e\"],[0.4444444444444444,\"#bd3786\"],[0.5555555555555556,\"#d8576b\"],[0.6666666666666666,\"#ed7953\"],[0.7777777777777778,\"#fb9f3a\"],[0.8888888888888888,\"#fdca26\"],[1.0,\"#f0f921\"]]}],\"heatmap\":[{\"type\":\"heatmap\",\"colorbar\":{\"outlinewidth\":0,\"ticks\":\"\"},\"colorscale\":[[0.0,\"#0d0887\"],[0.1111111111111111,\"#46039f\"],[0.2222222222222222,\"#7201a8\"],[0.3333333333333333,\"#9c179e\"],[0.4444444444444444,\"#bd3786\"],[0.5555555555555556,\"#d8576b\"],[0.6666666666666666,\"#ed7953\"],[0.7777777777777778,\"#fb9f3a\"],[0.8888888888888888,\"#fdca26\"],[1.0,\"#f0f921\"]]}],\"heatmapgl\":[{\"type\":\"heatmapgl\",\"colorbar\":{\"outlinewidth\":0,\"ticks\":\"\"},\"colorscale\":[[0.0,\"#0d0887\"],[0.1111111111111111,\"#46039f\"],[0.2222222222222222,\"#7201a8\"],[0.3333333333333333,\"#9c179e\"],[0.4444444444444444,\"#bd3786\"],[0.5555555555555556,\"#d8576b\"],[0.6666666666666666,\"#ed7953\"],[0.7777777777777778,\"#fb9f3a\"],[0.8888888888888888,\"#fdca26\"],[1.0,\"#f0f921\"]]}],\"contourcarpet\":[{\"type\":\"contourcarpet\",\"colorbar\":{\"outlinewidth\":0,\"ticks\":\"\"}}],\"contour\":[{\"type\":\"contour\",\"colorbar\":{\"outlinewidth\":0,\"ticks\":\"\"},\"colorscale\":[[0.0,\"#0d0887\"],[0.1111111111111111,\"#46039f\"],[0.2222222222222222,\"#7201a8\"],[0.3333333333333333,\"#9c179e\"],[0.4444444444444444,\"#bd3786\"],[0.5555555555555556,\"#d8576b\"],[0.6666666666666666,\"#ed7953\"],[0.7777777777777778,\"#fb9f3a\"],[0.8888888888888888,\"#fdca26\"],[1.0,\"#f0f921\"]]}],\"surface\":[{\"type\":\"surface\",\"colorbar\":{\"outlinewidth\":0,\"ticks\":\"\"},\"colorscale\":[[0.0,\"#0d0887\"],[0.1111111111111111,\"#46039f\"],[0.2222222222222222,\"#7201a8\"],[0.3333333333333333,\"#9c179e\"],[0.4444444444444444,\"#bd3786\"],[0.5555555555555556,\"#d8576b\"],[0.6666666666666666,\"#ed7953\"],[0.7777777777777778,\"#fb9f3a\"],[0.8888888888888888,\"#fdca26\"],[1.0,\"#f0f921\"]]}],\"mesh3d\":[{\"type\":\"mesh3d\",\"colorbar\":{\"outlinewidth\":0,\"ticks\":\"\"}}],\"scatter\":[{\"fillpattern\":{\"fillmode\":\"overlay\",\"size\":10,\"solidity\":0.2},\"type\":\"scatter\"}],\"parcoords\":[{\"type\":\"parcoords\",\"line\":{\"colorbar\":{\"outlinewidth\":0,\"ticks\":\"\"}}}],\"scatterpolargl\":[{\"type\":\"scatterpolargl\",\"marker\":{\"colorbar\":{\"outlinewidth\":0,\"ticks\":\"\"}}}],\"bar\":[{\"error_x\":{\"color\":\"#2a3f5f\"},\"error_y\":{\"color\":\"#2a3f5f\"},\"marker\":{\"line\":{\"color\":\"#E5ECF6\",\"width\":0.5},\"pattern\":{\"fillmode\":\"overlay\",\"size\":10,\"solidity\":0.2}},\"type\":\"bar\"}],\"scattergeo\":[{\"type\":\"scattergeo\",\"marker\":{\"colorbar\":{\"outlinewidth\":0,\"ticks\":\"\"}}}],\"scatterpolar\":[{\"type\":\"scatterpolar\",\"marker\":{\"colorbar\":{\"outlinewidth\":0,\"ticks\":\"\"}}}],\"histogram\":[{\"marker\":{\"pattern\":{\"fillmode\":\"overlay\",\"size\":10,\"solidity\":0.2}},\"type\":\"histogram\"}],\"scattergl\":[{\"type\":\"scattergl\",\"marker\":{\"colorbar\":{\"outlinewidth\":0,\"ticks\":\"\"}}}],\"scatter3d\":[{\"type\":\"scatter3d\",\"line\":{\"colorbar\":{\"outlinewidth\":0,\"ticks\":\"\"}},\"marker\":{\"colorbar\":{\"outlinewidth\":0,\"ticks\":\"\"}}}],\"scattermapbox\":[{\"type\":\"scattermapbox\",\"marker\":{\"colorbar\":{\"outlinewidth\":0,\"ticks\":\"\"}}}],\"scatterternary\":[{\"type\":\"scatterternary\",\"marker\":{\"colorbar\":{\"outlinewidth\":0,\"ticks\":\"\"}}}],\"scattercarpet\":[{\"type\":\"scattercarpet\",\"marker\":{\"colorbar\":{\"outlinewidth\":0,\"ticks\":\"\"}}}],\"carpet\":[{\"aaxis\":{\"endlinecolor\":\"#2a3f5f\",\"gridcolor\":\"white\",\"linecolor\":\"white\",\"minorgridcolor\":\"white\",\"startlinecolor\":\"#2a3f5f\"},\"baxis\":{\"endlinecolor\":\"#2a3f5f\",\"gridcolor\":\"white\",\"linecolor\":\"white\",\"minorgridcolor\":\"white\",\"startlinecolor\":\"#2a3f5f\"},\"type\":\"carpet\"}],\"table\":[{\"cells\":{\"fill\":{\"color\":\"#EBF0F8\"},\"line\":{\"color\":\"white\"}},\"header\":{\"fill\":{\"color\":\"#C8D4E3\"},\"line\":{\"color\":\"white\"}},\"type\":\"table\"}],\"barpolar\":[{\"marker\":{\"line\":{\"color\":\"#E5ECF6\",\"width\":0.5},\"pattern\":{\"fillmode\":\"overlay\",\"size\":10,\"solidity\":0.2}},\"type\":\"barpolar\"}],\"pie\":[{\"automargin\":true,\"type\":\"pie\"}]},\"layout\":{\"autotypenumbers\":\"strict\",\"colorway\":[\"#636efa\",\"#EF553B\",\"#00cc96\",\"#ab63fa\",\"#FFA15A\",\"#19d3f3\",\"#FF6692\",\"#B6E880\",\"#FF97FF\",\"#FECB52\"],\"font\":{\"color\":\"#2a3f5f\"},\"hovermode\":\"closest\",\"hoverlabel\":{\"align\":\"left\"},\"paper_bgcolor\":\"white\",\"plot_bgcolor\":\"#E5ECF6\",\"polar\":{\"bgcolor\":\"#E5ECF6\",\"angularaxis\":{\"gridcolor\":\"white\",\"linecolor\":\"white\",\"ticks\":\"\"},\"radialaxis\":{\"gridcolor\":\"white\",\"linecolor\":\"white\",\"ticks\":\"\"}},\"ternary\":{\"bgcolor\":\"#E5ECF6\",\"aaxis\":{\"gridcolor\":\"white\",\"linecolor\":\"white\",\"ticks\":\"\"},\"baxis\":{\"gridcolor\":\"white\",\"linecolor\":\"white\",\"ticks\":\"\"},\"caxis\":{\"gridcolor\":\"white\",\"linecolor\":\"white\",\"ticks\":\"\"}},\"coloraxis\":{\"colorbar\":{\"outlinewidth\":0,\"ticks\":\"\"}},\"colorscale\":{\"sequential\":[[0.0,\"#0d0887\"],[0.1111111111111111,\"#46039f\"],[0.2222222222222222,\"#7201a8\"],[0.3333333333333333,\"#9c179e\"],[0.4444444444444444,\"#bd3786\"],[0.5555555555555556,\"#d8576b\"],[0.6666666666666666,\"#ed7953\"],[0.7777777777777778,\"#fb9f3a\"],[0.8888888888888888,\"#fdca26\"],[1.0,\"#f0f921\"]],\"sequentialminus\":[[0.0,\"#0d0887\"],[0.1111111111111111,\"#46039f\"],[0.2222222222222222,\"#7201a8\"],[0.3333333333333333,\"#9c179e\"],[0.4444444444444444,\"#bd3786\"],[0.5555555555555556,\"#d8576b\"],[0.6666666666666666,\"#ed7953\"],[0.7777777777777778,\"#fb9f3a\"],[0.8888888888888888,\"#fdca26\"],[1.0,\"#f0f921\"]],\"diverging\":[[0,\"#8e0152\"],[0.1,\"#c51b7d\"],[0.2,\"#de77ae\"],[0.3,\"#f1b6da\"],[0.4,\"#fde0ef\"],[0.5,\"#f7f7f7\"],[0.6,\"#e6f5d0\"],[0.7,\"#b8e186\"],[0.8,\"#7fbc41\"],[0.9,\"#4d9221\"],[1,\"#276419\"]]},\"xaxis\":{\"gridcolor\":\"white\",\"linecolor\":\"white\",\"ticks\":\"\",\"title\":{\"standoff\":15},\"zerolinecolor\":\"white\",\"automargin\":true,\"zerolinewidth\":2},\"yaxis\":{\"gridcolor\":\"white\",\"linecolor\":\"white\",\"ticks\":\"\",\"title\":{\"standoff\":15},\"zerolinecolor\":\"white\",\"automargin\":true,\"zerolinewidth\":2},\"scene\":{\"xaxis\":{\"backgroundcolor\":\"#E5ECF6\",\"gridcolor\":\"white\",\"linecolor\":\"white\",\"showbackground\":true,\"ticks\":\"\",\"zerolinecolor\":\"white\",\"gridwidth\":2},\"yaxis\":{\"backgroundcolor\":\"#E5ECF6\",\"gridcolor\":\"white\",\"linecolor\":\"white\",\"showbackground\":true,\"ticks\":\"\",\"zerolinecolor\":\"white\",\"gridwidth\":2},\"zaxis\":{\"backgroundcolor\":\"#E5ECF6\",\"gridcolor\":\"white\",\"linecolor\":\"white\",\"showbackground\":true,\"ticks\":\"\",\"zerolinecolor\":\"white\",\"gridwidth\":2}},\"shapedefaults\":{\"line\":{\"color\":\"#2a3f5f\"}},\"annotationdefaults\":{\"arrowcolor\":\"#2a3f5f\",\"arrowhead\":0,\"arrowwidth\":1},\"geo\":{\"bgcolor\":\"white\",\"landcolor\":\"#E5ECF6\",\"subunitcolor\":\"white\",\"showland\":true,\"showlakes\":true,\"lakecolor\":\"white\"},\"title\":{\"x\":0.05},\"mapbox\":{\"style\":\"light\"}}},\"xaxis\":{\"title\":{\"text\":\"Epoch\"}},\"yaxis\":{\"title\":{\"text\":\"Masked Accuracy\"}},\"title\":{\"text\":\"Evolution of Masked Accuracy across Epochs\",\"font\":{\"size\":20},\"x\":0.5},\"height\":500,\"width\":1200},                        {\"responsive\": true}                    ).then(function(){\n",
              "                            \n",
              "var gd = document.getElementById('1cb65ea4-7d17-4703-83a7-87ed58d996f2');\n",
              "var x = new MutationObserver(function (mutations, observer) {{\n",
              "        var display = window.getComputedStyle(gd).display;\n",
              "        if (!display || display === 'none') {{\n",
              "            console.log([gd, 'removed!']);\n",
              "            Plotly.purge(gd);\n",
              "            observer.disconnect();\n",
              "        }}\n",
              "}});\n",
              "\n",
              "// Listen for the removal of the full notebook cells\n",
              "var notebookContainer = gd.closest('#notebook-container');\n",
              "if (notebookContainer) {{\n",
              "    x.observe(notebookContainer, {childList: true});\n",
              "}}\n",
              "\n",
              "// Listen for the clearing of the current output cell\n",
              "var outputEl = gd.closest('.output');\n",
              "if (outputEl) {{\n",
              "    x.observe(outputEl, {childList: true});\n",
              "}}\n",
              "\n",
              "                        })                };                            </script>        </div>\n",
              "</body>\n",
              "</html>"
            ]
          },
          "metadata": {}
        }
      ],
      "source": [
        "# Interactive graphic\n",
        "plot_metrics()\n",
        "plot_metrics(metric=\"masked_accuracy\")"
      ]
    },
    {
      "cell_type": "code",
      "execution_count": null,
      "metadata": {
        "id": "aFu5_Wclo5Ax",
        "colab": {
          "base_uri": "https://localhost:8080/",
          "height": 1000
        },
        "outputId": "12a7781a-0079-465b-8df1-022244414166"
      },
      "outputs": [
        {
          "output_type": "display_data",
          "data": {
            "image/png": "[encoded data removed]"
          },
          "metadata": {}
        },
        {
          "output_type": "display_data",
          "data": {
            "image/png": "[encoded data removed]"
          },
          "metadata": {}
        }
      ],
      "source": [
        "# Static image for GitHub\n",
        "plot_metrics(renderer=\"png\")\n",
        "plot_metrics(metric=\"masked_accuracy\", renderer=\"png\")"
      ]
    },
    {
      "cell_type": "markdown",
      "metadata": {
        "id": "tqZEQqTH5E-X"
      },
      "source": [
        "### **With the ROUGE Metric**\n",
        "\n",
        "The [Recall-Oriented Understudy for Gisting Evaluation (ROUGE)](https://huggingface.co/spaces/evaluate-metric/rouge) metric is a set of measures used to evaluate the quality of text translation and summarization. It includes several variants, such as ``rouge1``, which measures the overlap of unigrams between the generated summary and the reference summary; ``rouge2``, which evaluates the overlap of bigrams; ``rougeL``, which considers the longest sequence of overlapping tokens; and  ``rougeLsum``, which computes ROUGE-L at the summary level. Additionally, these metrics can be assessed at different levels of granularity, such as ``low``, ``mid``, and ``high``, representing various thresholds of overlap. Each component of the ROUGE metric is evaluated on a scale from 0 to 1, where 1 indicates an exact match between the predictions and the references.\n"
      ]
    },
    {
      "cell_type": "code",
      "execution_count": 15,
      "metadata": {
        "colab": {
          "base_uri": "https://localhost:8080/"
        },
        "id": "3pbe2YZ0pYQW",
        "outputId": "e7bcebc2-232a-4682-901c-73517613b060"
      },
      "outputs": [
        {
          "output_type": "stream",
          "name": "stderr",
          "text": [
            "All model checkpoint layers were used when initializing TFT5ForConditionalGeneration.\n",
            "\n",
            "All the layers of TFT5ForConditionalGeneration were initialized from the model checkpoint at /content/drive/MyDrive/models/Summarization_T5_XSum.\n",
            "If your task is similar to the task the model of the checkpoint was trained on, you can already use TFT5ForConditionalGeneration for predictions without further training.\n"
          ]
        }
      ],
      "source": [
        "# Load the trained model\n",
        "tf.keras.backend.clear_session()\n",
        "model = TFAutoModelForSeq2SeqLM.from_pretrained(trained_model_path)"
      ]
    },
    {
      "cell_type": "markdown",
      "metadata": {
        "id": "WuxKxsoJ-AU3"
      },
      "source": [
        "**Load the Evaluation Metric**"
      ]
    },
    {
      "cell_type": "code",
      "execution_count": 17,
      "metadata": {
        "colab": {
          "base_uri": "https://localhost:8080/"
        },
        "id": "bZqEnbZTjat2",
        "outputId": "b345a62d-07f7-432f-dafc-2dd8fa1643cd"
      },
      "outputs": [
        {
          "output_type": "execute_result",
          "data": {
            "text/plain": [
              "Metric(name: \"rouge\", features: {'predictions': Value(dtype='string', id='sequence'), 'references': Value(dtype='string', id='sequence')}, usage: \"\"\"\n",
              "Calculates average rouge scores for a list of hypotheses and references\n",
              "Args:\n",
              "    predictions: list of predictions to score. Each prediction\n",
              "        should be a string with tokens separated by spaces.\n",
              "    references: list of reference for each prediction. Each\n",
              "        reference should be a string with tokens separated by spaces.\n",
              "    rouge_types: A list of rouge types to calculate.\n",
              "        Valid names:\n",
              "        `\"rouge{n}\"` (e.g. `\"rouge1\"`, `\"rouge2\"`) where: {n} is the n-gram based scoring,\n",
              "        `\"rougeL\"`: Longest common subsequence based scoring.\n",
              "        `\"rougeLSum\"`: rougeLsum splits text using `\"\n",
              "\"`.\n",
              "        See details in https://github.com/huggingface/datasets/issues/617\n",
              "    use_stemmer: Bool indicating whether Porter stemmer should be used to strip word suffixes.\n",
              "    use_aggregator: Return aggregates if this is set to True\n",
              "Returns:\n",
              "    rouge1: rouge_1 (precision, recall, f1),\n",
              "    rouge2: rouge_2 (precision, recall, f1),\n",
              "    rougeL: rouge_l (precision, recall, f1),\n",
              "    rougeLsum: rouge_lsum (precision, recall, f1)\n",
              "Examples:\n",
              "\n",
              "    >>> rouge = datasets.load_metric('rouge')\n",
              "    >>> predictions = [\"hello there\", \"general kenobi\"]\n",
              "    >>> references = [\"hello there\", \"general kenobi\"]\n",
              "    >>> results = rouge.compute(predictions=predictions, references=references)\n",
              "    >>> print(list(results.keys()))\n",
              "    ['rouge1', 'rouge2', 'rougeL', 'rougeLsum']\n",
              "    >>> print(results[\"rouge1\"])\n",
              "    AggregateScore(low=Score(precision=1.0, recall=1.0, fmeasure=1.0), mid=Score(precision=1.0, recall=1.0, fmeasure=1.0), high=Score(precision=1.0, recall=1.0, fmeasure=1.0))\n",
              "    >>> print(results[\"rouge1\"].mid.fmeasure)\n",
              "    1.0\n",
              "\"\"\", stored examples: 0)"
            ]
          },
          "metadata": {},
          "execution_count": 17
        }
      ],
      "source": [
        "metric = load_metric(\"rouge\")\n",
        "metric"
      ]
    },
    {
      "cell_type": "code",
      "execution_count": 18,
      "metadata": {
        "id": "M4cwxssHd1-A"
      },
      "outputs": [],
      "source": [
        "def prepare_for_evaluation(dataset, batch_size=batch_size):\n",
        "  list_predictions, list_references = [], []\n",
        "\n",
        "  for i in tqdm(range(0, len(dataset[\"document\"]), batch_size)):\n",
        "    batch_data = dataset[i: i+batch_size]\n",
        "\n",
        "    predictions = model.generate(\n",
        "        input_ids=tf.constant(batch_data[\"input_ids\"]),\n",
        "        attention_mask=tf.constant(batch_data[\"attention_mask\"]),\n",
        "        max_length=max_target_length\n",
        "    )\n",
        "    predictions = tokenizer.batch_decode(predictions, skip_special_tokens=True)\n",
        "\n",
        "    # It is necessary to separate sentences with '\\n' to accurately calculate the ROUGE metric\n",
        "    predictions = [\"\\n\".join(nltk.sent_tokenize(prediction)) for prediction in predictions]\n",
        "    references = [\"\\n\".join(nltk.sent_tokenize(reference)) for reference in batch_data[\"summary\"]]\n",
        "\n",
        "    list_predictions += predictions\n",
        "    list_references += references\n",
        "\n",
        "  return list_predictions, list_references"
      ]
    },
    {
      "cell_type": "code",
      "execution_count": null,
      "metadata": {
        "colab": {
          "base_uri": "https://localhost:8080/",
          "height": 49,
          "referenced_widgets": [
            "9f5cdc0e1cee4414a964b6a7857afe57",
            "dab207fef1a54238a538c5d1955e6606",
            "88a60d78f0a54af4b41b6d4d4ab81dde",
            "87f33be4adc840f98388bfefcda92a69",
            "48906f6f4a7241a48dabe75fb29ba190",
            "fe383331acad437187938807650dd807",
            "6973b87511324eca8fb7b3ba2d015e5e",
            "0ce31939b62a48f0849c393b5d9a4997",
            "7382de0b6594447d9100d9609aa2e4e3",
            "95c549d9a4714380abf61546515e7bb8",
            "18a81ef183e943a7919be42b0c1153a3"
          ]
        },
        "outputId": "876aa61a-7fd9-4a95-e6ce-f3923687f9f8",
        "id": "JyBKDjtvIBIX"
      },
      "outputs": [
        {
          "data": {
            "application/vnd.jupyter.widget-view+json": {
              "model_id": "9f5cdc0e1cee4414a964b6a7857afe57",
              "version_major": 2,
              "version_minor": 0
            },
            "text/plain": [
              "  0%|          | 0/353 [00:00<?, ?it/s]"
            ]
          },
          "metadata": {},
          "output_type": "display_data"
        }
      ],
      "source": [
        "predictions, references = prepare_for_evaluation(val_dataset, batch_size=batch_size)"
      ]
    },
    {
      "cell_type": "code",
      "execution_count": null,
      "metadata": {
        "colab": {
          "base_uri": "https://localhost:8080/"
        },
        "outputId": "425639b0-bbd4-4e78-8ba4-6f874b5860c2",
        "id": "6pNnUj3NIE1m"
      },
      "outputs": [
        {
          "output_type": "execute_result",
          "data": {
            "text/plain": [
              "{'rouge1': AggregateScore(low=Score(precision=0.42241843023188785, recall=0.39016201796467903, fmeasure=0.3986196508705483), mid=Score(precision=0.4252035170430911, recall=0.39284611595322905, fmeasure=0.4011081591281622), high=Score(precision=0.42841808950028804, recall=0.39570243485291434, fmeasure=0.4037896341150795)),\n",
              " 'rouge2': AggregateScore(low=Score(precision=0.17779349290934135, recall=0.1642887893318034, fmeasure=0.1676728819913868), mid=Score(precision=0.18050433869451335, recall=0.16692064787263358, fmeasure=0.17030496284038604), high=Score(precision=0.1830641871040768, recall=0.16953983889241983, fmeasure=0.1727869168814103)),\n",
              " 'rougeL': AggregateScore(low=Score(precision=0.33818254359369915, recall=0.3129862576629289, fmeasure=0.3193264584082806), mid=Score(precision=0.34111538613928694, recall=0.3157030008338104, fmeasure=0.3220763769912538), high=Score(precision=0.3440645093151206, recall=0.3185567917584112, fmeasure=0.3248030721221415)),\n",
              " 'rougeLsum': AggregateScore(low=Score(precision=0.3379534856651283, recall=0.31293919670137493, fmeasure=0.31928798787740936), mid=Score(precision=0.34104366679306874, recall=0.3156221572078619, fmeasure=0.3219800901221777), high=Score(precision=0.3438993608254451, recall=0.3184928773414365, fmeasure=0.32478566009404747))}"
            ]
          },
          "metadata": {},
          "execution_count": 26
        }
      ],
      "source": [
        "result = metric.compute(predictions=predictions, references=references, use_stemmer=True)\n",
        "result"
      ]
    },
    {
      "cell_type": "code",
      "source": [
        "result = {key: value.mid.fmeasure*100 for key, value in result.items()}\n",
        "result"
      ],
      "metadata": {
        "colab": {
          "base_uri": "https://localhost:8080/"
        },
        "id": "3g5sua8FsyKq",
        "outputId": "9da8221e-5699-459f-ab24-711740b091fb"
      },
      "execution_count": null,
      "outputs": [
        {
          "output_type": "execute_result",
          "data": {
            "text/plain": [
              "{'rouge1': 40.11081591281622,\n",
              " 'rouge2': 17.030496284038605,\n",
              " 'rougeL': 32.20763769912538,\n",
              " 'rougeLsum': 32.198009012217774}"
            ]
          },
          "metadata": {},
          "execution_count": 27
        }
      ]
    },
    {
      "cell_type": "markdown",
      "metadata": {
        "id": "C16YXoxGgxDa"
      },
      "source": [
        " The results obtained on the validation dataset are as follows: **`rouge1`: 40.11**, **`rouge2`: 17.03**, **`rougeL`: 32.21**, **`rougeLsum`: 32.2**. These values indicate that the model has medium to high quality. As will be shown later, the model generally performs well in summarizing both short and long texts, but even so, `rouge1` does not exceed 50%. This is because abstractive summarization is a challenging task, more so than translation, and there is only one very concise reference (real summary) for each prediction. Of course, as with translation, ROUGE scores would be higher with multiple references since summaries can vary in length and use synonymous words.\n",
        "\n",
        "Moreover, it is important to note that even more advanced models, such as **BART Large** (over 400 million parameters) fine-tuned with this same XSum dataset, achieve only a [**`rouge1` score of 45.45**](https://huggingface.co/facebook/bart-large-xsum) (not exceeding 50%) on the test dataset, highlighting the complexity of the text summarization task.\n",
        "\n",
        "Finally, it is worth mentioning that, as stated in the [T5 research paper](https://jmlr.org/papers/volume21/20-074/20-074.pdf), a higher ROUGE score does not always mean higher quality summaries. However, compared to the Transformer model trained from scratch (`rouge1` of 27.66), significantly better results are achieved both in the ROUGE metric and in summary quality."
      ]
    },
    {
      "cell_type": "markdown",
      "metadata": {
        "id": "9NhEDFT-uiav"
      },
      "source": [
        "## **Generating Summaries with the Trained Model**"
      ]
    },
    {
      "cell_type": "code",
      "source": [
        "# Function to generate summaries and display them in HTML format\n",
        "\n",
        "def display_summary(text, reference=None):\n",
        "  text = preprocessing(text)\n",
        "  inputs = tokenizer(\n",
        "      [prefix + text],\n",
        "      truncation=True,\n",
        "      max_length=max_context_length,\n",
        "      return_tensors=\"tf\"\n",
        "  )\n",
        "\n",
        "  prediction = model.generate(**inputs, max_length=max_target_length)[0]\n",
        "  prediction = tokenizer.decode(prediction, skip_special_tokens=True)\n",
        "\n",
        "  #Replace `\\n` with `<br>` to make the line break visible in HTML format\n",
        "  text = text.replace(\"\\n\", \"<br>\")\n",
        "  content_html = f\"\"\"\n",
        "  <b>Text:<br></b> {text}<br><br>\n",
        "  <b>Summary:</b> {prediction}<br><br>\n",
        "  \"\"\"\n",
        "\n",
        "  if reference is not None:\n",
        "    reference = preprocessing(reference)\n",
        "\n",
        "    result = metric.compute(\n",
        "        predictions=[\"\\n\".join(nltk.sent_tokenize(prediction))],\n",
        "        references=[\"\\n\".join(nltk.sent_tokenize(reference))],\n",
        "        use_stemmer=True\n",
        "    )\n",
        "    result = {key: value.mid.fmeasure*100 for key, value in result.items()}\n",
        "\n",
        "    content_html += f\"<b>Reference:</b> {reference}<br><br>\"\n",
        "    for key, value in result.items():\n",
        "      content_html += f\"<b><span style='color: blue'>{key}:</span></b> {round(value, 2)}&nbsp;&nbsp;&nbsp;&nbsp;&nbsp;\"\n",
        "\n",
        "  display(HTML(content_html))"
      ],
      "metadata": {
        "id": "omDXxiiZ-zcq"
      },
      "execution_count": 31,
      "outputs": []
    },
    {
      "cell_type": "markdown",
      "source": [
        "### **Validation Dataset**"
      ],
      "metadata": {
        "id": "KVm1GmCl_Bgh"
      }
    },
    {
      "cell_type": "code",
      "source": [
        "len_data = len(val_dataset)"
      ],
      "metadata": {
        "id": "0zvLwkUa_GQS"
      },
      "execution_count": null,
      "outputs": []
    },
    {
      "cell_type": "code",
      "source": [
        "id = np.random.randint(len_data)\n",
        "sample = val_dataset[id]\n",
        "\n",
        "display_summary(sample[\"document\"], sample[\"summary\"])"
      ],
      "metadata": {
        "colab": {
          "base_uri": "https://localhost:8080/",
          "height": 208
        },
        "id": "ozOPAZfLlABF",
        "outputId": "37106a79-d718-4f6d-a8fa-52472f278092"
      },
      "execution_count": 39,
      "outputs": [
        {
          "output_type": "display_data",
          "data": {
            "text/plain": [
              "<IPython.core.display.HTML object>"
            ],
            "text/html": [
              "\n",
              "  <b>Text:<br></b> The 18-year-old man was taken to hospital with multiple stab wounds following the altercation in Bowleymead in the Eldene area on Saturday.<br>Daniel Peapell, 20, and Zac Doyle, 19, both from Swindon, were charged alongside 19-year-old Raffaele Bretti from Wroughton.<br>The three were remanded in custody by Swindon magistrates.<br>They will all next appear at Bristol Crown Court in July.<br><br>\n",
              "  <b>Summary:</b> Three men have been charged with the attempted murder of a teenager who was stabbed in Swindon.<br><br>\n",
              "  <b>Reference:</b> Three men have been charged with the attempted murder of a teenager who was stabbed repeatedly in Swindon.<br><br><b><span style='color: blue'>rouge1:</span></b> 97.14&nbsp;&nbsp;&nbsp;&nbsp;&nbsp;<b><span style='color: blue'>rouge2:</span></b> 90.91&nbsp;&nbsp;&nbsp;&nbsp;&nbsp;<b><span style='color: blue'>rougeL:</span></b> 97.14&nbsp;&nbsp;&nbsp;&nbsp;&nbsp;<b><span style='color: blue'>rougeLsum:</span></b> 97.14&nbsp;&nbsp;&nbsp;&nbsp;&nbsp;"
            ]
          },
          "metadata": {}
        }
      ]
    },
    {
      "cell_type": "code",
      "source": [
        "id = np.random.randint(len_data)\n",
        "sample = val_dataset[id]\n",
        "\n",
        "display_summary(sample[\"document\"], sample[\"summary\"])"
      ],
      "metadata": {
        "colab": {
          "base_uri": "https://localhost:8080/",
          "height": 434
        },
        "id": "zzcagnyO_Otq",
        "outputId": "6ea76c14-7a95-49fd-a7ad-76bc6fd5e4fb"
      },
      "execution_count": null,
      "outputs": [
        {
          "output_type": "display_data",
          "data": {
            "text/plain": [
              "<IPython.core.display.HTML object>"
            ],
            "text/html": [
              "\n",
              "  <b>Text:<br></b> Witnesses said a man carrying two knives was Tasered by police after running from the discount shop in Bury Street, Abingdon, at about 11:20 GMT.<br>Staff at a nearby Spar store said they barricaded themselves inside as the man tried to gain entry, before he was restrained by the police.<br>A 36-year-old man, who is from Abingdon, has been arrested on suspicion of murder.<br>Updates on this story and more from Oxfordshire<br>Police said the deceased was yet to be identified and his next of kin had not yet been informed.<br>Kash, who works at the Spar shop, said after the stabbing a man tried to push his way into the store.<br>He said: \"He approached with two knives in his hands and he tried to enter. He said 'I just want to shake your hand' and we held the door closed.<br>\"Then a policewoman caught up with him and Tasered him.\"<br>Poundland chief executive Jim McCarthy said he was \"shocked\" that one of the company's customers had been killed.<br>He said: \"Our sympathy and thoughts centre on the family of the deceased and of course with other customers and colleagues who were in the store at the time of this terrible incident.\"<br>Supt Rory Freeman said: \"Members of the public will understandably be shocked and upset by this incident today, which has happened in a very public place.<br>\"At this stage, this is not being treated as a terrorist incident.\"<br>A second man nearby suffered a minor injury to his thumb. Thames Valley Police are investigating whether the incidents were connected.<br>Joanna posted on Twitter: \"Watching everything that happened today in Abingdon from my office window was terrifying. Rest in Peace.\"<br>The leader of South Oxfordshire District Council John Cotton said on Twitter it was \"dreadful news\" and praised the quick response by police.<br>A local trader, who did not want to be named, said: \"People are absolutely devastated. Normally it's a very busy vibrant market, but everyone has gone home.\"<br>Thames Valley Police has appealed for anyone who captured footage at the scene to come forward.<br><br>\n",
              "  <b>Summary:</b> A man has been stabbed to death in a Poundland store in Oxfordshire.<br><br>\n",
              "  <b>Reference:</b> A customer has been stabbed to death in a Poundland store in Oxfordshire.<br><br><b><span style='color: blue'>rouge1:</span></b> 92.31&nbsp;&nbsp;&nbsp;&nbsp;&nbsp;<b><span style='color: blue'>rouge2:</span></b> 83.33&nbsp;&nbsp;&nbsp;&nbsp;&nbsp;<b><span style='color: blue'>rougeL:</span></b> 92.31&nbsp;&nbsp;&nbsp;&nbsp;&nbsp;<b><span style='color: blue'>rougeLsum:</span></b> 92.31&nbsp;&nbsp;&nbsp;&nbsp;&nbsp;"
            ]
          },
          "metadata": {}
        }
      ]
    },
    {
      "cell_type": "code",
      "source": [
        "id = np.random.randint(len_data)\n",
        "sample = val_dataset[id]\n",
        "\n",
        "display_summary(sample[\"document\"], sample[\"summary\"])"
      ],
      "metadata": {
        "colab": {
          "base_uri": "https://localhost:8080/",
          "height": 329
        },
        "id": "6fk841hdQtK2",
        "outputId": "ee9e4a44-9765-4e3d-b224-206045d65f60"
      },
      "execution_count": null,
      "outputs": [
        {
          "output_type": "display_data",
          "data": {
            "text/plain": [
              "<IPython.core.display.HTML object>"
            ],
            "text/html": [
              "\n",
              "  <b>Text:<br></b> President Putin signed a decree to make the award to the martial arts expert, who starred in Hollywood action thrillers during the 1990s.<br>Seagal is friends with Mr Putin, who he has described as \"one of the greatest world leaders\".<br>Mr Putin's spokesman said Seagal was known for his warm feelings towards Russia and his status as a famous actor was a reason to make him a citizen.<br>Seagal made headlines when he described Russia's actions in Crimea, which it annexed in 2014, as \"very reasonable\". A keen guitarist, he played a concert there the same year.<br>In 2013 Mr Putin reportedly proposed that Seagal be made an honorary consul of Russia in California and Arizona.<br>The move would have made Seagal a potential intermediary between the White House and the Kremlin, Buzzfeed reported. The US refused.<br>Seagal, whose grandmother was from Vladivostok in Russia's far east, has made frequent trips to Russia in recent years and visited Kamchatka and Sakhalin in September.<br>He said during the visit that he wanted to spend several months a year in the country, Russia's Tass news agency reported.<br>Seagal follows other celebrities including French actor Gerard Depardieu, US mixed martial arts fighter Jeff Monson, US boxer Roy Jones and US snowboarder Vic Wild in taking Russian citizenship.<br>Earlier this year Seagal was given Serbian nationality after offering to set up a martial arts school in the capital Belgrade.<br>The action star's movie credits include Under Siege and Flight of Fury and he has also starred in his own US reality TV show, Steven Seagal: Lawman.<br><br>\n",
              "  <b>Summary:</b> US actor Steven Seagal has been given Russian citizenship, the Kremlin has said.<br><br>\n",
              "  <b>Reference:</b> US actor Steven Seagal has been given Russian citizenship, the Kremlin says.<br><br><b><span style='color: blue'>rouge1:</span></b> 88.0&nbsp;&nbsp;&nbsp;&nbsp;&nbsp;<b><span style='color: blue'>rouge2:</span></b> 86.96&nbsp;&nbsp;&nbsp;&nbsp;&nbsp;<b><span style='color: blue'>rougeL:</span></b> 88.0&nbsp;&nbsp;&nbsp;&nbsp;&nbsp;<b><span style='color: blue'>rougeLsum:</span></b> 88.0&nbsp;&nbsp;&nbsp;&nbsp;&nbsp;"
            ]
          },
          "metadata": {}
        }
      ]
    },
    {
      "cell_type": "code",
      "source": [
        "id = np.random.randint(len_data)\n",
        "sample = val_dataset[id]\n",
        "\n",
        "display_summary(sample[\"document\"], sample[\"summary\"])"
      ],
      "metadata": {
        "colab": {
          "base_uri": "https://localhost:8080/",
          "height": 382
        },
        "id": "OcRYSCB2R016",
        "outputId": "7fa60a84-da12-41a1-c066-f0d8a7bbb527"
      },
      "execution_count": null,
      "outputs": [
        {
          "output_type": "display_data",
          "data": {
            "text/plain": [
              "<IPython.core.display.HTML object>"
            ],
            "text/html": [
              "\n",
              "  <b>Text:<br></b> Mr Gulen, who is in self-imposed exile in the US, is accused of establishing and running an \"armed terrorist group\".<br>He was once an ally of Turkish President Recep Tayyip Erdogan but has now been accused of plotting to overthrow the Turkish government - a claim the cleric strongly denies.<br>The US is thought to be unlikely to act on any extradition request.<br>The move comes amid a national crackdown on perceived supporters of the cleric.<br>Over 20 journalists working for media outlets thought to be sympathetic to the Gulen movement were arrested last weekend.<br>Eight of them were freed on Friday on the orders of a court in Istanbul. Those released include Ekrem Dumanli, editor-in-chief of Zaman newspaper.<br>Four others, including a TV station boss, remain in custody.<br>According to the BBC's Mark Lowen in Istanbul, it was expected that the authorities would go after Mr Gulen after having targeted those linked to him.<br>While the US and Turkey have an extradition agreement, the warrant is considered to be largely symbolic - and unlikely to be acted upon.<br>The relationship between Washington and Ankara has grown fractious, though they remain allies.<br>Mr Erdogan has faced criticism from international leaders and his opponents, who accuse him of authoritarianism and undermining free press.<br>Many abroad believe that the charges against Mr Gulen are politically motivated.<br>The wealthy cleric, who operates an international network of schools and businesses, has lived in self-imposed exile in Pennsylvania since 1999.<br>According to media reports, the prosecutor filing the arrest warrant accused Mr Gulen of leading an armed terrorist group - a charge that carries up to 15 years in prison.<br><br>\n",
              "  <b>Summary:</b> A court in Istanbul has issued an arrest warrant for the US-Turkey cleric Fethullah Gulen.<br><br>\n",
              "  <b>Reference:</b> A Turkish court has issued an arrest warrant for the influential cleric Fethullah Gulen.<br><br><b><span style='color: blue'>rouge1:</span></b> 80.0&nbsp;&nbsp;&nbsp;&nbsp;&nbsp;<b><span style='color: blue'>rouge2:</span></b> 57.14&nbsp;&nbsp;&nbsp;&nbsp;&nbsp;<b><span style='color: blue'>rougeL:</span></b> 80.0&nbsp;&nbsp;&nbsp;&nbsp;&nbsp;<b><span style='color: blue'>rougeLsum:</span></b> 80.0&nbsp;&nbsp;&nbsp;&nbsp;&nbsp;"
            ]
          },
          "metadata": {}
        }
      ]
    },
    {
      "cell_type": "markdown",
      "source": [
        "**Long Texts**"
      ],
      "metadata": {
        "id": "Dauakst81znb"
      }
    },
    {
      "cell_type": "code",
      "source": [
        "id = np.random.randint(len_data)\n",
        "sample = val_dataset[id]\n",
        "\n",
        "display_summary(sample[\"document\"], sample[\"summary\"])"
      ],
      "metadata": {
        "colab": {
          "base_uri": "https://localhost:8080/",
          "height": 538
        },
        "id": "GmHW7Tt9uWcS",
        "outputId": "3acdd44e-c346-4299-a0b8-a90b6ee201b7"
      },
      "execution_count": null,
      "outputs": [
        {
          "output_type": "display_data",
          "data": {
            "text/plain": [
              "<IPython.core.display.HTML object>"
            ],
            "text/html": [
              "\n",
              "  <b>Text:<br></b> There were 33 deaths from fires in buildings and vehicles in Scotland in 2013-14 compared with 46 the previous year - a decrease of 28%.<br>Almost nine in 10 of those died in house fires, the majority of which were accidental.<br>Smoking materials and matches accounted for more than half (58%) of fatal accidental house fires.<br>Alcohol and/or drugs were a factor in a quarter.<br>Almost half of all fatalities in the home happened where there was a smoke alarm present which either did not operate or failed to raise the alarm.<br>The rate of fatalities in the over-60s age group was more than double the national average of 6.2 per million.<br>The statistical bulletin said: \"The provisional figure for the total fatal casualties from primary fires in 2013-14 is the lowest for more than 20 years.<br>\"Whilst the number of fire deaths is prone to fluctuation, the latest figure continues the long-term downward trend in fire fatalities.\"<br>A total of 1,311 people were injured in fires over the same period, according to the figures.<br>The Scottish Fire and Rescue Service (SFRS) attended 27,979 fires during the year, an increase of 5% on the previous year but the second lowest annual total in the last decade.<br>House fires fell by 9% to 5,330, continuing a 10-year downward trend.<br>Scottish Fire and Rescue Service chief officer Alasdair Hay said: \"I know from first-hand experience how hard-working and dedicated our staff throughout the Scottish Fire and Rescue Service are.<br>\"The fact that the number of house fires across Scotland has continued to fall since last year is also a reflection of the public's commitment to join Scotland's fight against fire and take part in protecting their communities.\"<br>He added: \"Last year local firefighters continued to conduct free home fire safety visits around the country, completing 71,357 visits.<br>\"The SFRS has a clear message - working smoke alarms saves lives. These figures show that message is getting heard and people are safer from fire in their homes.\"<br>Community safety minister Paul Wheelhouse said: \"It is encouraging that fire deaths are now at their lowest since current records began, as are fires in homes, taking them to the lowest in a generation.<br>\"While the significant reduction in the number of people hurt or killed in fires is to be welcomed, every death is a tragedy and there are 33 families across Scotland who are without a loved one as a result of fires last year.<br>\"It's crucial that we remember the relatively small numbers of cases mean there can be quite extreme fluctuations, although there is no doubt that these figures are testament to the hard work of the fire and rescue services in Scotland, and their continued focus on prevention.<br>\"It is crucial that people across Scotland listen and follow their valuable advice.\"<br><br>\n",
              "  <b>Summary:</b> The number of people killed in fires in Scotland has fallen to its lowest level for more than 20 years, according to new figures.<br><br>\n",
              "  <b>Reference:</b> The number of people killed in fires has fallen to its lowest for more than 20 years, provisional figures show.<br><br><b><span style='color: blue'>rouge1:</span></b> 81.82&nbsp;&nbsp;&nbsp;&nbsp;&nbsp;<b><span style='color: blue'>rouge2:</span></b> 66.67&nbsp;&nbsp;&nbsp;&nbsp;&nbsp;<b><span style='color: blue'>rougeL:</span></b> 81.82&nbsp;&nbsp;&nbsp;&nbsp;&nbsp;<b><span style='color: blue'>rougeLsum:</span></b> 81.82&nbsp;&nbsp;&nbsp;&nbsp;&nbsp;"
            ]
          },
          "metadata": {}
        }
      ]
    },
    {
      "cell_type": "code",
      "source": [
        "id = np.random.randint(len_data)\n",
        "sample = val_dataset[id]\n",
        "\n",
        "display_summary(sample[\"document\"], sample[\"summary\"])"
      ],
      "metadata": {
        "colab": {
          "base_uri": "https://localhost:8080/",
          "height": 555
        },
        "id": "Szc-szJpUpvv",
        "outputId": "4e41a4d5-93f1-49b5-a654-5535e7910906"
      },
      "execution_count": null,
      "outputs": [
        {
          "output_type": "display_data",
          "data": {
            "text/plain": [
              "<IPython.core.display.HTML object>"
            ],
            "text/html": [
              "\n",
              "  <b>Text:<br></b> She told her Christian Democratic Union (CDU) party in Berlin she expected her toughest campaign yet and would \"fight for our values and our way of life\".<br>An election is due to be held next year after four years of coalition with the Social Democrats (SPD).<br>Mrs Merkel's poll ratings have slipped since the height of her popularity but she retains wide support.<br>The chancellor, who has been in office since 2005, is also being challenged by the populist right-wing AfD party.<br>She announced she would stand again after meeting party leaders at CDU headquarters.<br>She told reporters that the decision to run for a fourth term had been \"anything but trivial after 11 years in office\".<br>She added that she expected challenges from both the right and the left of the political spectrum.<br>Is Merkel really on the ropes?<br>Profile: Angela Merkel<br>In September, Mrs Merkel accepted responsibility for election defeats for the CDU in several states and conceded that her open-door policy towards migrants was a factor.<br>Germany expected up to 300,000 migrants to arrive in the country this year, the head of the country's federal office for migration and refugees said earlier this year.<br>In 2015, Germany received more than a million applications for asylum.<br>She's kept Germany guessing for weeks, but it looks as though Angela Merkel has finally answered the so called K-frage (chancellor question).<br>A poll for one Sunday newspaper (in German) found that 55% of Germans would vote for her. Mrs Merkel's approval ratings have gone up and down in recent months as a result of her refugee policy but they remain the envy of other world leaders.<br>Even so, she will be battling the tide of populism that swept Donald Trump to victory in the States and which is also washing across Europe. The anti-Muslim party Alternative fuer Deutschland (AfD) is likely to win seats in the national parliament next year. It's highly unlikely to take Mrs Merkel down but it is leaching votes from Germany's established political parties.<br>Those parties are - by and large - likely to be relieved by Mrs Merkel's decision. In the past few years the job of German chancellor has become one of the most powerful political positions in the world. The next incumbent must not only lead the country but deal with a fragmenting EU, in a world which may be much changed by the new US administration.<br>It's widely (sometimes grudgingly ) accepted here that there simply isn't another realistic candidate for the job. As one broadcaster put it: \"Angela Merkel - the indispensable\".<br>Read more: Germany jolted by AfD success<br>A pastor's daughter who grew up in communist East Germany, Mrs Merkel has run the united country since 2005.<br>If she wins next year's general election, due to take place between August and October, she will equal the post-war record set by Helmut Kohl, who was chancellor from 1982 to 1998.<br>Germany - Europe's economic powerhouse - does not have term limits on the country's top job.<br><br>\n",
              "  <b>Summary:</b> German Chancellor Angela Merkel has announced she will stand for a fourth term in office.<br><br>\n",
              "  <b>Reference:</b> Germany's centre-right Chancellor Angela Merkel has announced that she will run for a fourth term in office.<br><br><b><span style='color: blue'>rouge1:</span></b> 76.47&nbsp;&nbsp;&nbsp;&nbsp;&nbsp;<b><span style='color: blue'>rouge2:</span></b> 62.5&nbsp;&nbsp;&nbsp;&nbsp;&nbsp;<b><span style='color: blue'>rougeL:</span></b> 76.47&nbsp;&nbsp;&nbsp;&nbsp;&nbsp;<b><span style='color: blue'>rougeLsum:</span></b> 76.47&nbsp;&nbsp;&nbsp;&nbsp;&nbsp;"
            ]
          },
          "metadata": {}
        }
      ]
    },
    {
      "cell_type": "code",
      "source": [
        "id = np.random.randint(len_data)\n",
        "sample = val_dataset[id]\n",
        "\n",
        "display_summary(sample[\"document\"], sample[\"summary\"])"
      ],
      "metadata": {
        "colab": {
          "base_uri": "https://localhost:8080/",
          "height": 573
        },
        "id": "NijITiZqTKCq",
        "outputId": "a9219492-f464-46f3-f2ae-1668d9458762"
      },
      "execution_count": null,
      "outputs": [
        {
          "output_type": "display_data",
          "data": {
            "text/plain": [
              "<IPython.core.display.HTML object>"
            ],
            "text/html": [
              "\n",
              "  <b>Text:<br></b> Prof Deaton, 69, is currently professor of economics and international affairs at the Woodrow Wilson School of Public and International Affairs at Princeton University, in New Jersey.<br>The Royal Swedish Academy of Sciences, which awards the prize, said that Prof Deaton's work has transformed several fields of economics.<br>More specifically, the organisation said he had made an impact on economic theory, and on the practical application of data to investigate poverty, and devise economic policy.<br>The headline to the statement from the academy that announced that Prof Deaton was its 2015 winner said: \"Consumption, great and small\". What does this mean?<br>Consumption, to an economist, means spending on goods and services by individuals and households.<br>Understanding it means looking at how consumers allocate spending between different things, how they divide their incomes between spending and saving, and how these patterns vary over time.<br>The \"great and small\" in the academy's headline reflects Prof Deaton's analysis of consumer spending across a whole economy, and at the level of the individual and the household.<br>One theme that runs through the academy's analysis of his work is the extensive use of data on spending taken from household surveys. Previously, economists worked much more from aggregate data for the whole economy.<br>This focus enabled Prof Deaton to produce a theoretical approach that was more consistent with the fluctuations in consumer spending that he found.<br>A more arcane achievement was in developing (with another economist John Muellbauer) a theory of demand for goods and services - how people allocate their spending between different products - that was motivated by problems in earlier analysis.<br>Their system, and subsequent improvements by other researchers, \"has had an immense impact in academia as well as being greatly influential in practical policy evaluation\".<br>Prof Deaton has been an influential figure in development economics. The academy describes him as an important driving force in the transformation of this area of economics - in moving from aggregate data to household surveys.<br>To take one example - his research shed light on the question of whether rising incomes do lead to more calories being consumed, in other words to reducing malnutrition.<br>His work suggests that it does - so encouraging economic growth can help tackle malnutrition. If that were not the case it would be an argument for reorienting policy towards direct food aid.<br>In addition to the greater recognition of his work, and the further respect of his peers, Prof Deaton receives a financial price of 8m Swedish krona ($966,000; Â£630,000).<br>Born in the Scottish capital of Edinburgh, Prof Deaton attended Fettes College, a private school in the city, before going on to study at Cambridge University.<br>After teaching at Cambridge and the University of Bristol, he continued his economics career in the US.<br>He holds both British and American citizenship.<br>Unlike the other five annual Nobel prizes, the economics one was not established by Swedish industrialist Alfred Nobel, although like the Physics and Chemistry prizes it is awarded by the Royal Swedish Academy of Sciences.<br>Instead it was set up by Sweden's central bank in 1968 as a memorial to Mr Nobel, who died in 1896.<br>Its official title is the Riksbank's Prize in Economic Sciences.<br><br>\n",
              "  <b>Summary:</b> The Nobel Prize in economics has been awarded to a Scottish-born economist, Prof John Deaton.<br><br>\n",
              "  <b>Reference:</b> The 2015 Nobel Prize for Economics has been awarded to Scottish-born economist Angus Deaton.<br><br><b><span style='color: blue'>rouge1:</span></b> 77.42&nbsp;&nbsp;&nbsp;&nbsp;&nbsp;<b><span style='color: blue'>rouge2:</span></b> 48.28&nbsp;&nbsp;&nbsp;&nbsp;&nbsp;<b><span style='color: blue'>rougeL:</span></b> 77.42&nbsp;&nbsp;&nbsp;&nbsp;&nbsp;<b><span style='color: blue'>rougeLsum:</span></b> 77.42&nbsp;&nbsp;&nbsp;&nbsp;&nbsp;"
            ]
          },
          "metadata": {}
        }
      ]
    },
    {
      "cell_type": "code",
      "source": [
        "id = np.random.randint(len_data)\n",
        "sample = val_dataset[id]\n",
        "\n",
        "display_summary(sample[\"document\"], sample[\"summary\"])"
      ],
      "metadata": {
        "colab": {
          "base_uri": "https://localhost:8080/",
          "height": 607
        },
        "id": "CLt9lkaMqtWO",
        "outputId": "99cc9025-7ab8-4855-fe5c-3d6bddf3eb17"
      },
      "execution_count": null,
      "outputs": [
        {
          "output_type": "display_data",
          "data": {
            "text/plain": [
              "<IPython.core.display.HTML object>"
            ],
            "text/html": [
              "\n",
              "  <b>Text:<br></b> The celebrated US fashion designer was found dead in her New York flat on Monday in an apparent suicide.<br>Sir Mick earlier said he failed \"to understand how my lover and best friend could end her life in this tragic way\".<br>In a statement on their website, the band thanked fans for their support.<br>They said: \"The Rolling Stones are deeply sorry and disappointed to announce the postponement of the rest of their 14 On Fire tour of Australia and New Zealand following the death of L'Wren Scott.<br>\"Mick Jagger, Keith Richards, Charlie Watts and Ronnie Wood wish to thank all of their fans for their support at this difficult time and hope that they will fully understand the reason for this announcement.<br>\"The Rolling Stones are planning to reschedule these postponed shows at a later date.\"<br>The British rock band had been due to begin the tour in Perth on Wednesday, having flown in to the Western Australian city on Sunday.<br>On his website, Sir Mick, who started dating Scott in 2001, said they had spent \"many wonderful years together\".<br>He described his partner as having \"had great presence\" and said \"her talent was much admired, not least by me\".<br>Sir Mick added: \"I have been touched by the tributes that people have paid to her, and also the personal messages of support that I have received. I will never forget her.\"<br>Scott, 49, was found by her assistant at 10:00 local time (14:00 GMT) on Monday.<br>Ninety minutes earlier, Scott had sent her assistant a text message asking her to come to her Manhattan apartment, without specifying the reason why, the Associated Press news agency reported.<br>Police said there was no sign of foul play and no note has been found.<br>Supermodel Naomi Campbell, Vogue editor Anna Wintour and singer Madonna were among those who were fans of the designer.<br>The former model founded her own high-end fashion label in 2006 and created a more affordable line of clothes with Banana Republic. She was also a costume consultant on films including Ocean's Thirteen and Eyes Wide Shut.<br>Wintour described Scott as \"a total perfectionist... always unbelievably generous, gracious, kind and so much fun.\"<br>Madonna wrote in a statement: \"This is a horrible and tragic loss. I'm so upset. I loved L'Wren's work and she was always so generous with me.\"<br>Actress Nicole Kidman, said to be a friend of many years, was \"heartbroken and in shock right now and unable to say anything\", according to a spokeswoman.<br>Bianca Jagger, one of Sir Mick's former wives, tweeted: \"Heartbroken to learn of the loss of the lovely and talented L'Wren Scott. My thoughts and prayers are with her family. May she rest in peace.\"<br>The UK's Press Complaints Commission (PCC) told the BBC it had received a small number of complaints from the public over images published which apparently showed an upset Sir Mick at the time he was told Scott had died.<br>It is understood the singer has not yet complained personally, but the PCC said it would deal with the matter in due course.<br>After Perth the Rolling Stones had planned to perform concerts in Adelaide, Sydney, Melbourne, Macedon and Brisbane before flying to Auckland, New Zealand, for the final show on 5 April.<br>Ticket holders for the affected shows have been advised to keep hold of their tickets and await further information.<br>The On Fire tour is scheduled to move to Europe in June, with concerts planned for the Netherlands, Germany, Italy and Belgium.<br><br>\n",
              "  <b>Summary:</b> Rolling Stones have postponed their tour of Australia and New Zealand after the death of L'Wren Scott.<br><br>\n",
              "  <b>Reference:</b> The Rolling Stones have postponed their Australia and New Zealand tour after the death of Sir Mick Jagger's girlfriend L'Wren Scott.<br><br><b><span style='color: blue'>rouge1:</span></b> 82.93&nbsp;&nbsp;&nbsp;&nbsp;&nbsp;<b><span style='color: blue'>rouge2:</span></b> 61.54&nbsp;&nbsp;&nbsp;&nbsp;&nbsp;<b><span style='color: blue'>rougeL:</span></b> 78.05&nbsp;&nbsp;&nbsp;&nbsp;&nbsp;<b><span style='color: blue'>rougeLsum:</span></b> 78.05&nbsp;&nbsp;&nbsp;&nbsp;&nbsp;"
            ]
          },
          "metadata": {}
        }
      ]
    },
    {
      "cell_type": "markdown",
      "source": [
        "### **Other Texts**"
      ],
      "metadata": {
        "id": "WOpCOSqg_TiM"
      }
    },
    {
      "cell_type": "code",
      "source": [
        "text = \"\"\"\n",
        "Facebook has announced a new feature that allows users to create custom avatars for use in comments and messages.\n",
        "The avatars can be personalized to look like the users themselves, with options for different hairstyles, outfits,\n",
        "and accessories. This move is seen as a direct response to similar features offered by Snapchat and Apple.\n",
        "\"\"\"\n",
        "\n",
        "display_summary(text)"
      ],
      "metadata": {
        "colab": {
          "base_uri": "https://localhost:8080/",
          "height": 173
        },
        "outputId": "9950e380-7b0b-4270-fcc5-5cf5d540b169",
        "id": "sNRFxdUShQpA"
      },
      "execution_count": null,
      "outputs": [
        {
          "output_type": "display_data",
          "data": {
            "text/plain": [
              "<IPython.core.display.HTML object>"
            ],
            "text/html": [
              "\n",
              "  <b>Text:<br></b> <br>Facebook has announced a new feature that allows users to create custom avatars for use in comments and messages. <br>The avatars can be personalized to look like the users themselves, with options for different hairstyles, outfits, <br>and accessories. This move is seen as a direct response to similar features offered by Snapchat and Apple.<br><br><br>\n",
              "  <b>Summary:</b> A new feature on Facebook has been launched that allows users to create their own avatars.<br><br>\n",
              "  "
            ]
          },
          "metadata": {}
        }
      ]
    },
    {
      "cell_type": "code",
      "source": [
        "text = \"\"\"\n",
        "The global economy is facing significant challenges due to the ongoing trade war between the United States and China.\n",
        "Tariffs imposed by both countries have disrupted supply chains, increased costs for businesses, and led to higher prices\n",
        "for consumers. Economists warn that if the conflict continues, it could lead to a global recession. The International Monetary\n",
        "Fund has already revised its growth forecast for the year, citing the trade war as a major factor. Both countries have held\n",
        "several rounds of negotiations, but a resolution remains elusive.\n",
        "\"\"\"\n",
        "\n",
        "display_summary(text)"
      ],
      "metadata": {
        "colab": {
          "base_uri": "https://localhost:8080/",
          "height": 208
        },
        "outputId": "2e2081f5-dfd4-42ca-cb2e-9e66d1f0787b",
        "id": "SRSkXDYEis_0"
      },
      "execution_count": null,
      "outputs": [
        {
          "output_type": "display_data",
          "data": {
            "text/plain": [
              "<IPython.core.display.HTML object>"
            ],
            "text/html": [
              "\n",
              "  <b>Text:<br></b> <br>The global economy is facing significant challenges due to the ongoing trade war between the United States and China. <br>Tariffs imposed by both countries have disrupted supply chains, increased costs for businesses, and led to higher prices <br>for consumers. Economists warn that if the conflict continues, it could lead to a global recession. The International Monetary <br>Fund has already revised its growth forecast for the year, citing the trade war as a major factor. Both countries have held <br>several rounds of negotiations, but a resolution remains elusive.<br><br><br>\n",
              "  <b>Summary:</b> The International Monetary Fund has issued a revised growth forecast for the year, citing a trade war between the United States and China.<br><br>\n",
              "  "
            ]
          },
          "metadata": {}
        }
      ]
    },
    {
      "cell_type": "code",
      "source": [
        "text = \"\"\"\n",
        "A massive industrial accident at a chemical plant in Texas has resulted in multiple fatalities and injuries.\n",
        "The explosion occurred in the early hours of the morning, sending shockwaves through the nearby community.\n",
        "Firefighters and emergency response teams rushed to the scene, battling the blaze and rescuing trapped workers.\n",
        "Authorities have confirmed that ten people were killed and dozens more injured, some critically. The cause of the\n",
        "explosion is still under investigation, but initial reports suggest that a gas leak might have ignited the blast.\n",
        "The incident has raised serious concerns about safety regulations and emergency preparedness at industrial facilities.\n",
        "Local officials have called for a thorough review of safety protocols to prevent such catastrophic events in the future.\n",
        "\"\"\"\n",
        "\n",
        "display_summary(text)"
      ],
      "metadata": {
        "colab": {
          "base_uri": "https://localhost:8080/",
          "height": 243
        },
        "id": "L6xR2T2i_cWo",
        "outputId": "8eacf3bb-cc74-486f-b65d-99ad391551b0"
      },
      "execution_count": null,
      "outputs": [
        {
          "output_type": "display_data",
          "data": {
            "text/plain": [
              "<IPython.core.display.HTML object>"
            ],
            "text/html": [
              "\n",
              "  <b>Text:<br></b> <br>A massive industrial accident at a chemical plant in Texas has resulted in multiple fatalities and injuries.<br>The explosion occurred in the early hours of the morning, sending shockwaves through the nearby community.<br>Firefighters and emergency response teams rushed to the scene, battling the blaze and rescuing trapped workers.<br>Authorities have confirmed that ten people were killed and dozens more injured, some critically. The cause of the<br>explosion is still under investigation, but initial reports suggest that a gas leak might have ignited the blast.<br>The incident has raised serious concerns about safety regulations and emergency preparedness at industrial facilities.<br>Local officials have called for a thorough review of safety protocols to prevent such catastrophic events in the future.<br><br><br>\n",
              "  <b>Summary:</b> A massive explosion at a chemical plant in Texas has killed at least 10 people, US officials say.<br><br>\n",
              "  "
            ]
          },
          "metadata": {}
        }
      ]
    },
    {
      "cell_type": "code",
      "source": [
        "text = \"\"\"\n",
        "Major technology companies are making significant investments in renewable energy to power their operations sustainably.\n",
        "Companies like Google, Apple, and Microsoft have committed to running their data centers and offices entirely on renewable\n",
        "energy sources such as wind, solar, and hydroelectric power.\n",
        "\n",
        "Google has signed numerous power purchase agreements (PPAs) with wind and solar farms, aiming to match 100% of its energy\n",
        "use with renewable energy purchases. Apple has achieved its goal of using 100% renewable energy for its global facilities\n",
        "and is now focusing on helping its suppliers make the same transition. Microsoft has launched an ambitious plan to become\n",
        "carbon negative by 2030, removing more carbon from the environment than it emits. The company is investing in innovative\n",
        "technologies like carbon capture and storage, and supporting reforestation projects.\n",
        "\n",
        "These efforts not only help combat climate change but also set an example for other industries to follow. By leveraging their\n",
        "substantial financial resources and technological expertise, tech giants are driving significant progress in the renewable energy sector.\n",
        "\"\"\"\n",
        "\n",
        "display_summary(text)"
      ],
      "metadata": {
        "colab": {
          "base_uri": "https://localhost:8080/",
          "height": 329
        },
        "id": "WdYv7KxdP_Y9",
        "outputId": "16a7dd5f-6f3c-44fc-8010-a68c0afd7d63"
      },
      "execution_count": null,
      "outputs": [
        {
          "output_type": "display_data",
          "data": {
            "text/plain": [
              "<IPython.core.display.HTML object>"
            ],
            "text/html": [
              "\n",
              "  <b>Text:<br></b> <br>Major technology companies are making significant investments in renewable energy to power their operations sustainably. <br>Companies like Google, Apple, and Microsoft have committed to running their data centers and offices entirely on renewable <br>energy sources such as wind, solar, and hydroelectric power.<br><br>Google has signed numerous power purchase agreements (PPAs) with wind and solar farms, aiming to match 100% of its energy <br>use with renewable energy purchases. Apple has achieved its goal of using 100% renewable energy for its global facilities <br>and is now focusing on helping its suppliers make the same transition. Microsoft has launched an ambitious plan to become <br>carbon negative by 2030, removing more carbon from the environment than it emits. The company is investing in innovative <br>technologies like carbon capture and storage, and supporting reforestation projects.<br><br>These efforts not only help combat climate change but also set an example for other industries to follow. By leveraging their <br>substantial financial resources and technological expertise, tech giants are driving significant progress in the renewable energy sector.<br><br><br>\n",
              "  <b>Summary:</b> The world's largest technology companies are investing heavily in renewable energy to help the planet meet its energy needs.<br><br>\n",
              "  "
            ]
          },
          "metadata": {}
        }
      ]
    },
    {
      "cell_type": "markdown",
      "source": [
        "**Long Texts**"
      ],
      "metadata": {
        "id": "Jv5AVEuLFm6j"
      }
    },
    {
      "cell_type": "markdown",
      "source": [
        "**[The New York Times: Bomb Smuggled Into Iran Guesthouse Months Ago Killed Hamas Leader](https://www.nytimes.com/2024/08/01/world/middleeast/how-hamas-leader-haniyeh-killed-iran-bomb.html)**"
      ],
      "metadata": {
        "id": "Vzrl8DGX2l51"
      }
    },
    {
      "cell_type": "code",
      "source": [
        "text = \"\"\"\n",
        "Ismail Haniyeh, a top leader of Hamas, was assassinated on\n",
        "Wednesday by an explosive device covertly smuggled into the\n",
        "Tehran guesthouse where he was staying, according to seven\n",
        "Middle Eastern officials, including two Iranians, and an American\n",
        "official.\n",
        "\n",
        "The bomb had been hidden approximately two months ago in the\n",
        "guesthouse, according to five of the Middle Eastern officials. The\n",
        "guesthouse is run and protected by the Islamic Revolutionary\n",
        "Guards Corps and is part of a large compound, known as Neshat, in\n",
        "an upscale neighborhood of northern Tehran.\n",
        "\n",
        "Mr. Haniyeh was in Iran's capital for the presidential inauguration.\n",
        "The bomb was detonated remotely, the five officials said, once it\n",
        "was confirmed that he was inside his room at the guesthouse. The\n",
        "blast also killed a bodyguard.\n",
        "\n",
        "The explosion shook the building, shattered some windows and\n",
        "caused the partial collapse of an exterior wall, according to the two\n",
        "Iranian officials, members of the Revolutionary Guards briefed on\n",
        "the incident. Such damage was also evident in a photograph of the\n",
        "building shared with The New York Times.\n",
        "\n",
        "Mr. Haniyeh, who had led Hamas's political office in Qatar, had\n",
        "stayed at the guesthouse several times when visiting Tehran,\n",
        "according to the Middle Eastern officials. All of the officials spoke\n",
        "on the condition of anonymity to share sensitive details about the\n",
        "assassination.\n",
        "\"\"\"\n",
        "\n",
        "display_summary(text)"
      ],
      "metadata": {
        "colab": {
          "base_uri": "https://localhost:8080/",
          "height": 607
        },
        "id": "FAgmXrQurvmT",
        "outputId": "a0cc6119-d81b-4ad1-ade4-e0aadb4d2cc2"
      },
      "execution_count": null,
      "outputs": [
        {
          "output_type": "display_data",
          "data": {
            "text/plain": [
              "<IPython.core.display.HTML object>"
            ],
            "text/html": [
              "\n",
              "  <b>Text:<br></b> <br>Ismail Haniyeh, a top leader of Hamas, was assassinated on <br>Wednesday by an explosive device covertly smuggled into the <br>Tehran guesthouse where he was staying, according to seven <br>Middle Eastern officials, including two Iranians, and an American<br>official.<br><br>The bomb had been hidden approximately two months ago in the <br>guesthouse, according to five of the Middle Eastern officials. The <br>guesthouse is run and protected by the Islamic Revolutionary <br>Guards Corps and is part of a large compound, known as Neshat, in <br>an upscale neighborhood of northern Tehran.<br><br>Mr. Haniyeh was in Iran's capital for the presidential inauguration. <br>The bomb was detonated remotely, the five officials said, once it <br>was confirmed that he was inside his room at the guesthouse. The <br>blast also killed a bodyguard.<br><br>The explosion shook the building, shattered some windows and <br>caused the partial collapse of an exterior wall, according to the two <br>Iranian officials, members of the Revolutionary Guards briefed on <br>the incident. Such damage was also evident in a photograph of the <br>building shared with The New York Times.<br><br>Mr. Haniyeh, who had led Hamas's political office in Qatar, had <br>stayed at the guesthouse several times when visiting Tehran,<br>according to the Middle Eastern officials. All of the officials spoke <br>on the condition of anonymity to share sensitive details about the <br>assassination.<br><br><br>\n",
              "  <b>Summary:</b> A bomb has killed a senior leader of the Iranian Islamist group Hamas, according to Middle Eastern officials.<br><br>\n",
              "  "
            ]
          },
          "metadata": {}
        }
      ]
    },
    {
      "cell_type": "markdown",
      "source": [
        "**[BBC: Three men accused of plotting 9/11 reach plea deal - Pentagon](https://www.bbc.com/news/articles/cldy01z6xnpo)**"
      ],
      "metadata": {
        "id": "oZoKnCub8x0F"
      }
    },
    {
      "cell_type": "code",
      "source": [
        "text = \"\"\"\n",
        "Three of the men accused of plotting the 11 September, 2001 terrorist attacks have\n",
        "entered into a pre-trial agreement, the US Department of Defence says.\n",
        "\n",
        "Khalid Sheikh Mohammad, Walid Muhammad Salih Mubarak Bin Attash, and\n",
        "Mustafa Ahmed Adam al-Hawsawi have been held at the US Navy base Guantanamo\n",
        "Bay, Cuba, for years without going to trial.\n",
        "\n",
        "According to US news outlets, the men will plead guilty in exchange for the\n",
        "prosecution agreeing not to seek the death penalty.\n",
        "\n",
        "The terms of the plea deal have not yet been released.\n",
        "\n",
        "Nearly 3,000 people in New York, Virginia and Pennsylvania were killed in the al-\n",
        "Qaeda attacks, which sparked the \"War on Terror\" and the invasions of Afghanistan\n",
        "and Iraq.\n",
        "\n",
        "They were the deadliest assault on US soil since the 1941 Japanese attack on Pearl\n",
        "Harbour, Hawaii, where 2,400 people were killed.\n",
        "\n",
        "The deal was first announced in a letter sent by prosecutors to the family of victims,\n",
        "according to The New York Times.\n",
        "\n",
        "\"In exchange for the removal of the death penalty as a possible punishment, these\n",
        "three accused have agreed to plead guilty to all of the charged offenses, including the\n",
        "murder of the 2,976 people listed in the charge sheet,\" said the letter from chief\n",
        "prosecutor Rear Admiral Aaron Rugh.\n",
        "\n",
        "The men have been accused of a litany of charges, including attacking civilians,\n",
        "murder in violation of the laws of war, hijacking and terrorism.\n",
        "\n",
        "They are expected to formally submit their pleas in court as early as next week, the\n",
        "Times reported.\n",
        "\"\"\"\n",
        "\n",
        "display_summary(text)"
      ],
      "metadata": {
        "colab": {
          "base_uri": "https://localhost:8080/",
          "height": 677
        },
        "id": "nADtc6Dl0LTi",
        "outputId": "e35491a0-ad4a-4510-e082-358c0bcea1f5"
      },
      "execution_count": null,
      "outputs": [
        {
          "output_type": "display_data",
          "data": {
            "text/plain": [
              "<IPython.core.display.HTML object>"
            ],
            "text/html": [
              "\n",
              "  <b>Text:<br></b> <br>Three of the men accused of plotting the 11 September, 2001 terrorist attacks have<br>entered into a pre-trial agreement, the US Department of Defence says.<br><br>Khalid Sheikh Mohammad, Walid Muhammad Salih Mubarak Bin Attash, and<br>Mustafa Ahmed Adam al-Hawsawi have been held at the US Navy base Guantanamo<br>Bay, Cuba, for years without going to trial.<br><br>According to US news outlets, the men will plead guilty in exchange for the<br>prosecution agreeing not to seek the death penalty.<br><br>The terms of the plea deal have not yet been released.<br><br>Nearly 3,000 people in New York, Virginia and Pennsylvania were killed in the al-<br>Qaeda attacks, which sparked the \"War on Terror\" and the invasions of Afghanistan<br>and Iraq.<br><br>They were the deadliest assault on US soil since the 1941 Japanese attack on Pearl<br>Harbour, Hawaii, where 2,400 people were killed.<br><br>The deal was first announced in a letter sent by prosecutors to the family of victims,<br>according to The New York Times.<br><br>\"In exchange for the removal of the death penalty as a possible punishment, these<br>three accused have agreed to plead guilty to all of the charged offenses, including the<br>murder of the 2,976 people listed in the charge sheet,\" said the letter from chief<br>prosecutor Rear Admiral Aaron Rugh.<br><br>The men have been accused of a litany of charges, including attacking civilians,<br>murder in violation of the laws of war, hijacking and terrorism.<br><br>They are expected to formally submit their pleas in court as early as next week, the<br>Times reported.<br><br><br>\n",
              "  <b>Summary:</b> US prosecutors have agreed to remove the death penalty from the trial of three men accused of plotting the 9/11 attacks in New York.<br><br>\n",
              "  "
            ]
          },
          "metadata": {}
        }
      ]
    },
    {
      "cell_type": "markdown",
      "source": [
        "**[BBC: CrowdStrike sued by shareholders over global outage](https://www.bbc.com/news/articles/cy08ljxndr4o)**"
      ],
      "metadata": {
        "id": "lMK5Z9Miqodu"
      }
    },
    {
      "cell_type": "code",
      "source": [
        "text = \"\"\"\n",
        "CrowdStrike is being sued by its shareholders after a faulty software update by the\n",
        "cybersecurity firm crashed more than eight million computers and caused chaos\n",
        "around the world.\n",
        "\n",
        "The lawsuit accuses the company of making \"false and misleading\" statements about\n",
        "its software testing.\n",
        "\n",
        "It also says the company's share price dropped 32% in the 12 days after the incident,\n",
        "causing a loss in market value of $25bn (£14.5bn).\n",
        "\n",
        "CrowdStrike denies the allegations and says it will defend itself against the proposed\n",
        "class action lawsuit.\n",
        "\n",
        "Meanwhile, the firm has said computers affected by the massive global IT outage are\n",
        "effectively now back to normal.\n",
        "\n",
        "The US-based company stated that as of 5pm local time on Monday, 29 July (00:00,\n",
        "Tuesday GMT), the outage had been fixed - ten days after the incident began.\n",
        "\n",
        "The suit filed in the Austin, Texas federal court, alleges that CrowdStrike executives\n",
        "defrauded investors by making them believe the company's software updates were\n",
        "adequately tested.\n",
        "\n",
        "The lawsuit is seeking an unspecified amount of compensation for investors who\n",
        "owned CrowdStrike shares between 29 November and 29 July.\n",
        "\n",
        "It cites chief executive George Kurtz, who said in a conference call on 5 March that the\n",
        "firm's software was \"validated, tested and certified.\"\n",
        "\n",
        "CrowdStrike told BBC News that its disputes the claims.\n",
        "\n",
        "\"We believe this case lacks merit and we will vigorously defend the company,\" a\n",
        "spokesperson said.\n",
        "\"\"\"\n",
        "\n",
        "display_summary(text)"
      ],
      "metadata": {
        "colab": {
          "base_uri": "https://localhost:8080/",
          "height": 694
        },
        "id": "TWsjdHaOlYnl",
        "outputId": "f32df9df-3c85-409f-c72e-a4ae9e1a8f66"
      },
      "execution_count": null,
      "outputs": [
        {
          "output_type": "display_data",
          "data": {
            "text/plain": [
              "<IPython.core.display.HTML object>"
            ],
            "text/html": [
              "\n",
              "  <b>Text:<br></b> <br>CrowdStrike is being sued by its shareholders after a faulty software update by the <br>cybersecurity firm crashed more than eight million computers and caused chaos <br>around the world.<br><br>The lawsuit accuses the company of making \"false and misleading\" statements about <br>its software testing.<br><br>It also says the company's share price dropped 32% in the 12 days after the incident, <br>causing a loss in market value of $25bn (£14.5bn).<br><br>CrowdStrike denies the allegations and says it will defend itself against the proposed <br>class action lawsuit.<br><br>Meanwhile, the firm has said computers affected by the massive global IT outage are <br>effectively now back to normal.<br><br>The US-based company stated that as of 5pm local time on Monday, 29 July (00:00, <br>Tuesday GMT), the outage had been fixed - ten days after the incident began.<br><br>The suit filed in the Austin, Texas federal court, alleges that CrowdStrike executives <br>defrauded investors by making them believe the company's software updates were <br>adequately tested.<br><br>The lawsuit is seeking an unspecified amount of compensation for investors who <br>owned CrowdStrike shares between 29 November and 29 July.<br><br>It cites chief executive George Kurtz, who said in a conference call on 5 March that the <br>firm's software was \"validated, tested and certified.\"<br><br>CrowdStrike told BBC News that its disputes the claims.<br><br>\"We believe this case lacks merit and we will vigorously defend the company,\" a <br>spokesperson said.<br><br><br>\n",
              "  <b>Summary:</b> A lawsuit is being filed against CrowdStrike, the company behind a massive global IT outage.<br><br>\n",
              "  "
            ]
          },
          "metadata": {}
        }
      ]
    },
    {
      "cell_type": "markdown",
      "metadata": {
        "id": "_ufZpqgDAcQR"
      },
      "source": [
        "**Conclusion:** The model is effective in generating summaries of both short and long texts. However, if further improvement is desired, it is necessary to fine-tune or use larger and more robust models, such as T5 Large or BART Large. Additionally, to enable the model to generate summaries that are not only concise but also longer and more detailed, it is necessary to fine-tune it with more robust datasets, which will require better computational capabilities than the free TPU of Colab (or many more hours of training using TensorFlow checkpoints). Nonetheless, for generating concise summaries of news articles, this model is more than sufficient."
      ]
    }
  ],
  "metadata": {
    "colab": {
      "provenance": [],
      "gpuType": "V28"
    },
    "coursera": {
      "schema_names": [
        "NLPC3-4A"
      ]
    },
    "grader_version": "1",
    "kernelspec": {
      "display_name": "Python 3",
      "name": "python3"
    },
    "language_info": {
      "codemirror_mode": {
        "name": "ipython",
        "version": 3
      },
      "file_extension": ".py",
      "mimetype": "text/x-python",
      "name": "python",
      "nbconvert_exporter": "python",
      "pygments_lexer": "ipython3",
      "version": "3.8.10"
    },
    "widgets": {
      "application/vnd.jupyter.widget-state+json": {
        "9f5cdc0e1cee4414a964b6a7857afe57": {
          "model_module": "@jupyter-widgets/controls",
          "model_name": "HBoxModel",
          "model_module_version": "1.5.0",
          "state": {
            "_dom_classes": [],
            "_model_module": "@jupyter-widgets/controls",
            "_model_module_version": "1.5.0",
            "_model_name": "HBoxModel",
            "_view_count": null,
            "_view_module": "@jupyter-widgets/controls",
            "_view_module_version": "1.5.0",
            "_view_name": "HBoxView",
            "box_style": "",
            "children": [
              "IPY_MODEL_dab207fef1a54238a538c5d1955e6606",
              "IPY_MODEL_88a60d78f0a54af4b41b6d4d4ab81dde",
              "IPY_MODEL_87f33be4adc840f98388bfefcda92a69"
            ],
            "layout": "IPY_MODEL_48906f6f4a7241a48dabe75fb29ba190"
          }
        },
        "dab207fef1a54238a538c5d1955e6606": {
          "model_module": "@jupyter-widgets/controls",
          "model_name": "HTMLModel",
          "model_module_version": "1.5.0",
          "state": {
            "_dom_classes": [],
            "_model_module": "@jupyter-widgets/controls",
            "_model_module_version": "1.5.0",
            "_model_name": "HTMLModel",
            "_view_count": null,
            "_view_module": "@jupyter-widgets/controls",
            "_view_module_version": "1.5.0",
            "_view_name": "HTMLView",
            "description": "",
            "description_tooltip": null,
            "layout": "IPY_MODEL_fe383331acad437187938807650dd807",
            "placeholder": "​",
            "style": "IPY_MODEL_6973b87511324eca8fb7b3ba2d015e5e",
            "value": "100%"
          }
        },
        "88a60d78f0a54af4b41b6d4d4ab81dde": {
          "model_module": "@jupyter-widgets/controls",
          "model_name": "FloatProgressModel",
          "model_module_version": "1.5.0",
          "state": {
            "_dom_classes": [],
            "_model_module": "@jupyter-widgets/controls",
            "_model_module_version": "1.5.0",
            "_model_name": "FloatProgressModel",
            "_view_count": null,
            "_view_module": "@jupyter-widgets/controls",
            "_view_module_version": "1.5.0",
            "_view_name": "ProgressView",
            "bar_style": "success",
            "description": "",
            "description_tooltip": null,
            "layout": "IPY_MODEL_0ce31939b62a48f0849c393b5d9a4997",
            "max": 353,
            "min": 0,
            "orientation": "horizontal",
            "style": "IPY_MODEL_7382de0b6594447d9100d9609aa2e4e3",
            "value": 353
          }
        },
        "87f33be4adc840f98388bfefcda92a69": {
          "model_module": "@jupyter-widgets/controls",
          "model_name": "HTMLModel",
          "model_module_version": "1.5.0",
          "state": {
            "_dom_classes": [],
            "_model_module": "@jupyter-widgets/controls",
            "_model_module_version": "1.5.0",
            "_model_name": "HTMLModel",
            "_view_count": null,
            "_view_module": "@jupyter-widgets/controls",
            "_view_module_version": "1.5.0",
            "_view_name": "HTMLView",
            "description": "",
            "description_tooltip": null,
            "layout": "IPY_MODEL_95c549d9a4714380abf61546515e7bb8",
            "placeholder": "​",
            "style": "IPY_MODEL_18a81ef183e943a7919be42b0c1153a3",
            "value": " 353/353 [1:38:15&lt;00:00, 18.05s/it]"
          }
        },
        "48906f6f4a7241a48dabe75fb29ba190": {
          "model_module": "@jupyter-widgets/base",
          "model_name": "LayoutModel",
          "model_module_version": "1.2.0",
          "state": {
            "_model_module": "@jupyter-widgets/base",
            "_model_module_version": "1.2.0",
            "_model_name": "LayoutModel",
            "_view_count": null,
            "_view_module": "@jupyter-widgets/base",
            "_view_module_version": "1.2.0",
            "_view_name": "LayoutView",
            "align_content": null,
            "align_items": null,
            "align_self": null,
            "border": null,
            "bottom": null,
            "display": null,
            "flex": null,
            "flex_flow": null,
            "grid_area": null,
            "grid_auto_columns": null,
            "grid_auto_flow": null,
            "grid_auto_rows": null,
            "grid_column": null,
            "grid_gap": null,
            "grid_row": null,
            "grid_template_areas": null,
            "grid_template_columns": null,
            "grid_template_rows": null,
            "height": null,
            "justify_content": null,
            "justify_items": null,
            "left": null,
            "margin": null,
            "max_height": null,
            "max_width": null,
            "min_height": null,
            "min_width": null,
            "object_fit": null,
            "object_position": null,
            "order": null,
            "overflow": null,
            "overflow_x": null,
            "overflow_y": null,
            "padding": null,
            "right": null,
            "top": null,
            "visibility": null,
            "width": null
          }
        },
        "fe383331acad437187938807650dd807": {
          "model_module": "@jupyter-widgets/base",
          "model_name": "LayoutModel",
          "model_module_version": "1.2.0",
          "state": {
            "_model_module": "@jupyter-widgets/base",
            "_model_module_version": "1.2.0",
            "_model_name": "LayoutModel",
            "_view_count": null,
            "_view_module": "@jupyter-widgets/base",
            "_view_module_version": "1.2.0",
            "_view_name": "LayoutView",
            "align_content": null,
            "align_items": null,
            "align_self": null,
            "border": null,
            "bottom": null,
            "display": null,
            "flex": null,
            "flex_flow": null,
            "grid_area": null,
            "grid_auto_columns": null,
            "grid_auto_flow": null,
            "grid_auto_rows": null,
            "grid_column": null,
            "grid_gap": null,
            "grid_row": null,
            "grid_template_areas": null,
            "grid_template_columns": null,
            "grid_template_rows": null,
            "height": null,
            "justify_content": null,
            "justify_items": null,
            "left": null,
            "margin": null,
            "max_height": null,
            "max_width": null,
            "min_height": null,
            "min_width": null,
            "object_fit": null,
            "object_position": null,
            "order": null,
            "overflow": null,
            "overflow_x": null,
            "overflow_y": null,
            "padding": null,
            "right": null,
            "top": null,
            "visibility": null,
            "width": null
          }
        },
        "6973b87511324eca8fb7b3ba2d015e5e": {
          "model_module": "@jupyter-widgets/controls",
          "model_name": "DescriptionStyleModel",
          "model_module_version": "1.5.0",
          "state": {
            "_model_module": "@jupyter-widgets/controls",
            "_model_module_version": "1.5.0",
            "_model_name": "DescriptionStyleModel",
            "_view_count": null,
            "_view_module": "@jupyter-widgets/base",
            "_view_module_version": "1.2.0",
            "_view_name": "StyleView",
            "description_width": ""
          }
        },
        "0ce31939b62a48f0849c393b5d9a4997": {
          "model_module": "@jupyter-widgets/base",
          "model_name": "LayoutModel",
          "model_module_version": "1.2.0",
          "state": {
            "_model_module": "@jupyter-widgets/base",
            "_model_module_version": "1.2.0",
            "_model_name": "LayoutModel",
            "_view_count": null,
            "_view_module": "@jupyter-widgets/base",
            "_view_module_version": "1.2.0",
            "_view_name": "LayoutView",
            "align_content": null,
            "align_items": null,
            "align_self": null,
            "border": null,
            "bottom": null,
            "display": null,
            "flex": null,
            "flex_flow": null,
            "grid_area": null,
            "grid_auto_columns": null,
            "grid_auto_flow": null,
            "grid_auto_rows": null,
            "grid_column": null,
            "grid_gap": null,
            "grid_row": null,
            "grid_template_areas": null,
            "grid_template_columns": null,
            "grid_template_rows": null,
            "height": null,
            "justify_content": null,
            "justify_items": null,
            "left": null,
            "margin": null,
            "max_height": null,
            "max_width": null,
            "min_height": null,
            "min_width": null,
            "object_fit": null,
            "object_position": null,
            "order": null,
            "overflow": null,
            "overflow_x": null,
            "overflow_y": null,
            "padding": null,
            "right": null,
            "top": null,
            "visibility": null,
            "width": null
          }
        },
        "7382de0b6594447d9100d9609aa2e4e3": {
          "model_module": "@jupyter-widgets/controls",
          "model_name": "ProgressStyleModel",
          "model_module_version": "1.5.0",
          "state": {
            "_model_module": "@jupyter-widgets/controls",
            "_model_module_version": "1.5.0",
            "_model_name": "ProgressStyleModel",
            "_view_count": null,
            "_view_module": "@jupyter-widgets/base",
            "_view_module_version": "1.2.0",
            "_view_name": "StyleView",
            "bar_color": null,
            "description_width": ""
          }
        },
        "95c549d9a4714380abf61546515e7bb8": {
          "model_module": "@jupyter-widgets/base",
          "model_name": "LayoutModel",
          "model_module_version": "1.2.0",
          "state": {
            "_model_module": "@jupyter-widgets/base",
            "_model_module_version": "1.2.0",
            "_model_name": "LayoutModel",
            "_view_count": null,
            "_view_module": "@jupyter-widgets/base",
            "_view_module_version": "1.2.0",
            "_view_name": "LayoutView",
            "align_content": null,
            "align_items": null,
            "align_self": null,
            "border": null,
            "bottom": null,
            "display": null,
            "flex": null,
            "flex_flow": null,
            "grid_area": null,
            "grid_auto_columns": null,
            "grid_auto_flow": null,
            "grid_auto_rows": null,
            "grid_column": null,
            "grid_gap": null,
            "grid_row": null,
            "grid_template_areas": null,
            "grid_template_columns": null,
            "grid_template_rows": null,
            "height": null,
            "justify_content": null,
            "justify_items": null,
            "left": null,
            "margin": null,
            "max_height": null,
            "max_width": null,
            "min_height": null,
            "min_width": null,
            "object_fit": null,
            "object_position": null,
            "order": null,
            "overflow": null,
            "overflow_x": null,
            "overflow_y": null,
            "padding": null,
            "right": null,
            "top": null,
            "visibility": null,
            "width": null
          }
        },
        "18a81ef183e943a7919be42b0c1153a3": {
          "model_module": "@jupyter-widgets/controls",
          "model_name": "DescriptionStyleModel",
          "model_module_version": "1.5.0",
          "state": {
            "_model_module": "@jupyter-widgets/controls",
            "_model_module_version": "1.5.0",
            "_model_name": "DescriptionStyleModel",
            "_view_count": null,
            "_view_module": "@jupyter-widgets/base",
            "_view_module_version": "1.2.0",
            "_view_name": "StyleView",
            "description_width": ""
          }
        },
        "4ea40b822e974de3a3fe0409e4084728": {
          "model_module": "@jupyter-widgets/controls",
          "model_name": "HBoxModel",
          "model_module_version": "1.5.0",
          "state": {
            "_dom_classes": [],
            "_model_module": "@jupyter-widgets/controls",
            "_model_module_version": "1.5.0",
            "_model_name": "HBoxModel",
            "_view_count": null,
            "_view_module": "@jupyter-widgets/controls",
            "_view_module_version": "1.5.0",
            "_view_name": "HBoxView",
            "box_style": "",
            "children": [
              "IPY_MODEL_b30cecb9aca84459828a4c01c300b5f8",
              "IPY_MODEL_f6c2893303fd4120b40a41eba9e91122",
              "IPY_MODEL_eb421f91632c4a11b35b9f10d46c7c52"
            ],
            "layout": "IPY_MODEL_e30eb51ee72945b7b03e13aa9658a734"
          }
        },
        "b30cecb9aca84459828a4c01c300b5f8": {
          "model_module": "@jupyter-widgets/controls",
          "model_name": "HTMLModel",
          "model_module_version": "1.5.0",
          "state": {
            "_dom_classes": [],
            "_model_module": "@jupyter-widgets/controls",
            "_model_module_version": "1.5.0",
            "_model_name": "HTMLModel",
            "_view_count": null,
            "_view_module": "@jupyter-widgets/controls",
            "_view_module_version": "1.5.0",
            "_view_name": "HTMLView",
            "description": "",
            "description_tooltip": null,
            "layout": "IPY_MODEL_c114e5374d8140a1991e837a0a7f6bc5",
            "placeholder": "​",
            "style": "IPY_MODEL_673b6332ff7146998d4b145cdfbbd383",
            "value": "100%"
          }
        },
        "f6c2893303fd4120b40a41eba9e91122": {
          "model_module": "@jupyter-widgets/controls",
          "model_name": "FloatProgressModel",
          "model_module_version": "1.5.0",
          "state": {
            "_dom_classes": [],
            "_model_module": "@jupyter-widgets/controls",
            "_model_module_version": "1.5.0",
            "_model_name": "FloatProgressModel",
            "_view_count": null,
            "_view_module": "@jupyter-widgets/controls",
            "_view_module_version": "1.5.0",
            "_view_name": "ProgressView",
            "bar_style": "success",
            "description": "",
            "description_tooltip": null,
            "layout": "IPY_MODEL_4944a145e5674f0795836d9b90be6e5c",
            "max": 204045,
            "min": 0,
            "orientation": "horizontal",
            "style": "IPY_MODEL_9f5b67b8042e47ddbffc3a2386d26ac1",
            "value": 204045
          }
        },
        "eb421f91632c4a11b35b9f10d46c7c52": {
          "model_module": "@jupyter-widgets/controls",
          "model_name": "HTMLModel",
          "model_module_version": "1.5.0",
          "state": {
            "_dom_classes": [],
            "_model_module": "@jupyter-widgets/controls",
            "_model_module_version": "1.5.0",
            "_model_name": "HTMLModel",
            "_view_count": null,
            "_view_module": "@jupyter-widgets/controls",
            "_view_module_version": "1.5.0",
            "_view_name": "HTMLView",
            "description": "",
            "description_tooltip": null,
            "layout": "IPY_MODEL_b73d16bbc3e6454e8fe1b1705ed49c3c",
            "placeholder": "​",
            "style": "IPY_MODEL_10d8c70f94de43b0b0ab497e62d14712",
            "value": " 204045/204045 [01:17&lt;00:00, 3813.27it/s]"
          }
        },
        "e30eb51ee72945b7b03e13aa9658a734": {
          "model_module": "@jupyter-widgets/base",
          "model_name": "LayoutModel",
          "model_module_version": "1.2.0",
          "state": {
            "_model_module": "@jupyter-widgets/base",
            "_model_module_version": "1.2.0",
            "_model_name": "LayoutModel",
            "_view_count": null,
            "_view_module": "@jupyter-widgets/base",
            "_view_module_version": "1.2.0",
            "_view_name": "LayoutView",
            "align_content": null,
            "align_items": null,
            "align_self": null,
            "border": null,
            "bottom": null,
            "display": null,
            "flex": null,
            "flex_flow": null,
            "grid_area": null,
            "grid_auto_columns": null,
            "grid_auto_flow": null,
            "grid_auto_rows": null,
            "grid_column": null,
            "grid_gap": null,
            "grid_row": null,
            "grid_template_areas": null,
            "grid_template_columns": null,
            "grid_template_rows": null,
            "height": null,
            "justify_content": null,
            "justify_items": null,
            "left": null,
            "margin": null,
            "max_height": null,
            "max_width": null,
            "min_height": null,
            "min_width": null,
            "object_fit": null,
            "object_position": null,
            "order": null,
            "overflow": null,
            "overflow_x": null,
            "overflow_y": null,
            "padding": null,
            "right": null,
            "top": null,
            "visibility": null,
            "width": null
          }
        },
        "c114e5374d8140a1991e837a0a7f6bc5": {
          "model_module": "@jupyter-widgets/base",
          "model_name": "LayoutModel",
          "model_module_version": "1.2.0",
          "state": {
            "_model_module": "@jupyter-widgets/base",
            "_model_module_version": "1.2.0",
            "_model_name": "LayoutModel",
            "_view_count": null,
            "_view_module": "@jupyter-widgets/base",
            "_view_module_version": "1.2.0",
            "_view_name": "LayoutView",
            "align_content": null,
            "align_items": null,
            "align_self": null,
            "border": null,
            "bottom": null,
            "display": null,
            "flex": null,
            "flex_flow": null,
            "grid_area": null,
            "grid_auto_columns": null,
            "grid_auto_flow": null,
            "grid_auto_rows": null,
            "grid_column": null,
            "grid_gap": null,
            "grid_row": null,
            "grid_template_areas": null,
            "grid_template_columns": null,
            "grid_template_rows": null,
            "height": null,
            "justify_content": null,
            "justify_items": null,
            "left": null,
            "margin": null,
            "max_height": null,
            "max_width": null,
            "min_height": null,
            "min_width": null,
            "object_fit": null,
            "object_position": null,
            "order": null,
            "overflow": null,
            "overflow_x": null,
            "overflow_y": null,
            "padding": null,
            "right": null,
            "top": null,
            "visibility": null,
            "width": null
          }
        },
        "673b6332ff7146998d4b145cdfbbd383": {
          "model_module": "@jupyter-widgets/controls",
          "model_name": "DescriptionStyleModel",
          "model_module_version": "1.5.0",
          "state": {
            "_model_module": "@jupyter-widgets/controls",
            "_model_module_version": "1.5.0",
            "_model_name": "DescriptionStyleModel",
            "_view_count": null,
            "_view_module": "@jupyter-widgets/base",
            "_view_module_version": "1.2.0",
            "_view_name": "StyleView",
            "description_width": ""
          }
        },
        "4944a145e5674f0795836d9b90be6e5c": {
          "model_module": "@jupyter-widgets/base",
          "model_name": "LayoutModel",
          "model_module_version": "1.2.0",
          "state": {
            "_model_module": "@jupyter-widgets/base",
            "_model_module_version": "1.2.0",
            "_model_name": "LayoutModel",
            "_view_count": null,
            "_view_module": "@jupyter-widgets/base",
            "_view_module_version": "1.2.0",
            "_view_name": "LayoutView",
            "align_content": null,
            "align_items": null,
            "align_self": null,
            "border": null,
            "bottom": null,
            "display": null,
            "flex": null,
            "flex_flow": null,
            "grid_area": null,
            "grid_auto_columns": null,
            "grid_auto_flow": null,
            "grid_auto_rows": null,
            "grid_column": null,
            "grid_gap": null,
            "grid_row": null,
            "grid_template_areas": null,
            "grid_template_columns": null,
            "grid_template_rows": null,
            "height": null,
            "justify_content": null,
            "justify_items": null,
            "left": null,
            "margin": null,
            "max_height": null,
            "max_width": null,
            "min_height": null,
            "min_width": null,
            "object_fit": null,
            "object_position": null,
            "order": null,
            "overflow": null,
            "overflow_x": null,
            "overflow_y": null,
            "padding": null,
            "right": null,
            "top": null,
            "visibility": null,
            "width": null
          }
        },
        "9f5b67b8042e47ddbffc3a2386d26ac1": {
          "model_module": "@jupyter-widgets/controls",
          "model_name": "ProgressStyleModel",
          "model_module_version": "1.5.0",
          "state": {
            "_model_module": "@jupyter-widgets/controls",
            "_model_module_version": "1.5.0",
            "_model_name": "ProgressStyleModel",
            "_view_count": null,
            "_view_module": "@jupyter-widgets/base",
            "_view_module_version": "1.2.0",
            "_view_name": "StyleView",
            "bar_color": null,
            "description_width": ""
          }
        },
        "b73d16bbc3e6454e8fe1b1705ed49c3c": {
          "model_module": "@jupyter-widgets/base",
          "model_name": "LayoutModel",
          "model_module_version": "1.2.0",
          "state": {
            "_model_module": "@jupyter-widgets/base",
            "_model_module_version": "1.2.0",
            "_model_name": "LayoutModel",
            "_view_count": null,
            "_view_module": "@jupyter-widgets/base",
            "_view_module_version": "1.2.0",
            "_view_name": "LayoutView",
            "align_content": null,
            "align_items": null,
            "align_self": null,
            "border": null,
            "bottom": null,
            "display": null,
            "flex": null,
            "flex_flow": null,
            "grid_area": null,
            "grid_auto_columns": null,
            "grid_auto_flow": null,
            "grid_auto_rows": null,
            "grid_column": null,
            "grid_gap": null,
            "grid_row": null,
            "grid_template_areas": null,
            "grid_template_columns": null,
            "grid_template_rows": null,
            "height": null,
            "justify_content": null,
            "justify_items": null,
            "left": null,
            "margin": null,
            "max_height": null,
            "max_width": null,
            "min_height": null,
            "min_width": null,
            "object_fit": null,
            "object_position": null,
            "order": null,
            "overflow": null,
            "overflow_x": null,
            "overflow_y": null,
            "padding": null,
            "right": null,
            "top": null,
            "visibility": null,
            "width": null
          }
        },
        "10d8c70f94de43b0b0ab497e62d14712": {
          "model_module": "@jupyter-widgets/controls",
          "model_name": "DescriptionStyleModel",
          "model_module_version": "1.5.0",
          "state": {
            "_model_module": "@jupyter-widgets/controls",
            "_model_module_version": "1.5.0",
            "_model_name": "DescriptionStyleModel",
            "_view_count": null,
            "_view_module": "@jupyter-widgets/base",
            "_view_module_version": "1.2.0",
            "_view_name": "StyleView",
            "description_width": ""
          }
        },
        "e148f26aeced4af1935fd5d45f404ebf": {
          "model_module": "@jupyter-widgets/controls",
          "model_name": "HBoxModel",
          "model_module_version": "1.5.0",
          "state": {
            "_dom_classes": [],
            "_model_module": "@jupyter-widgets/controls",
            "_model_module_version": "1.5.0",
            "_model_name": "HBoxModel",
            "_view_count": null,
            "_view_module": "@jupyter-widgets/controls",
            "_view_module_version": "1.5.0",
            "_view_name": "HBoxView",
            "box_style": "",
            "children": [
              "IPY_MODEL_72a25b70175e438382df5309e9f196c3",
              "IPY_MODEL_c52315ee40894670a499c1632af69d12",
              "IPY_MODEL_d91194eccb3d4d019e62ecb465639b6d"
            ],
            "layout": "IPY_MODEL_8595adaa78024886b6940118d2c7a0e6"
          }
        },
        "72a25b70175e438382df5309e9f196c3": {
          "model_module": "@jupyter-widgets/controls",
          "model_name": "HTMLModel",
          "model_module_version": "1.5.0",
          "state": {
            "_dom_classes": [],
            "_model_module": "@jupyter-widgets/controls",
            "_model_module_version": "1.5.0",
            "_model_name": "HTMLModel",
            "_view_count": null,
            "_view_module": "@jupyter-widgets/controls",
            "_view_module_version": "1.5.0",
            "_view_name": "HTMLView",
            "description": "",
            "description_tooltip": null,
            "layout": "IPY_MODEL_c4383b968da1408598f42a96e19658b8",
            "placeholder": "​",
            "style": "IPY_MODEL_095c1d9434a14c7b8b8f67da2351fc14",
            "value": "100%"
          }
        },
        "c52315ee40894670a499c1632af69d12": {
          "model_module": "@jupyter-widgets/controls",
          "model_name": "FloatProgressModel",
          "model_module_version": "1.5.0",
          "state": {
            "_dom_classes": [],
            "_model_module": "@jupyter-widgets/controls",
            "_model_module_version": "1.5.0",
            "_model_name": "FloatProgressModel",
            "_view_count": null,
            "_view_module": "@jupyter-widgets/controls",
            "_view_module_version": "1.5.0",
            "_view_name": "ProgressView",
            "bar_style": "success",
            "description": "",
            "description_tooltip": null,
            "layout": "IPY_MODEL_97d37b030e4845919654b34c53374c5b",
            "max": 11332,
            "min": 0,
            "orientation": "horizontal",
            "style": "IPY_MODEL_ee3e281d67a74801923c868e2156f6aa",
            "value": 11332
          }
        },
        "d91194eccb3d4d019e62ecb465639b6d": {
          "model_module": "@jupyter-widgets/controls",
          "model_name": "HTMLModel",
          "model_module_version": "1.5.0",
          "state": {
            "_dom_classes": [],
            "_model_module": "@jupyter-widgets/controls",
            "_model_module_version": "1.5.0",
            "_model_name": "HTMLModel",
            "_view_count": null,
            "_view_module": "@jupyter-widgets/controls",
            "_view_module_version": "1.5.0",
            "_view_name": "HTMLView",
            "description": "",
            "description_tooltip": null,
            "layout": "IPY_MODEL_a40d61c0054849f18045d945f2de7bdf",
            "placeholder": "​",
            "style": "IPY_MODEL_7ad7e2de74a14b7992c7665cff0b6e3f",
            "value": " 11332/11332 [00:03&lt;00:00, 4093.51it/s]"
          }
        },
        "8595adaa78024886b6940118d2c7a0e6": {
          "model_module": "@jupyter-widgets/base",
          "model_name": "LayoutModel",
          "model_module_version": "1.2.0",
          "state": {
            "_model_module": "@jupyter-widgets/base",
            "_model_module_version": "1.2.0",
            "_model_name": "LayoutModel",
            "_view_count": null,
            "_view_module": "@jupyter-widgets/base",
            "_view_module_version": "1.2.0",
            "_view_name": "LayoutView",
            "align_content": null,
            "align_items": null,
            "align_self": null,
            "border": null,
            "bottom": null,
            "display": null,
            "flex": null,
            "flex_flow": null,
            "grid_area": null,
            "grid_auto_columns": null,
            "grid_auto_flow": null,
            "grid_auto_rows": null,
            "grid_column": null,
            "grid_gap": null,
            "grid_row": null,
            "grid_template_areas": null,
            "grid_template_columns": null,
            "grid_template_rows": null,
            "height": null,
            "justify_content": null,
            "justify_items": null,
            "left": null,
            "margin": null,
            "max_height": null,
            "max_width": null,
            "min_height": null,
            "min_width": null,
            "object_fit": null,
            "object_position": null,
            "order": null,
            "overflow": null,
            "overflow_x": null,
            "overflow_y": null,
            "padding": null,
            "right": null,
            "top": null,
            "visibility": null,
            "width": null
          }
        },
        "c4383b968da1408598f42a96e19658b8": {
          "model_module": "@jupyter-widgets/base",
          "model_name": "LayoutModel",
          "model_module_version": "1.2.0",
          "state": {
            "_model_module": "@jupyter-widgets/base",
            "_model_module_version": "1.2.0",
            "_model_name": "LayoutModel",
            "_view_count": null,
            "_view_module": "@jupyter-widgets/base",
            "_view_module_version": "1.2.0",
            "_view_name": "LayoutView",
            "align_content": null,
            "align_items": null,
            "align_self": null,
            "border": null,
            "bottom": null,
            "display": null,
            "flex": null,
            "flex_flow": null,
            "grid_area": null,
            "grid_auto_columns": null,
            "grid_auto_flow": null,
            "grid_auto_rows": null,
            "grid_column": null,
            "grid_gap": null,
            "grid_row": null,
            "grid_template_areas": null,
            "grid_template_columns": null,
            "grid_template_rows": null,
            "height": null,
            "justify_content": null,
            "justify_items": null,
            "left": null,
            "margin": null,
            "max_height": null,
            "max_width": null,
            "min_height": null,
            "min_width": null,
            "object_fit": null,
            "object_position": null,
            "order": null,
            "overflow": null,
            "overflow_x": null,
            "overflow_y": null,
            "padding": null,
            "right": null,
            "top": null,
            "visibility": null,
            "width": null
          }
        },
        "095c1d9434a14c7b8b8f67da2351fc14": {
          "model_module": "@jupyter-widgets/controls",
          "model_name": "DescriptionStyleModel",
          "model_module_version": "1.5.0",
          "state": {
            "_model_module": "@jupyter-widgets/controls",
            "_model_module_version": "1.5.0",
            "_model_name": "DescriptionStyleModel",
            "_view_count": null,
            "_view_module": "@jupyter-widgets/base",
            "_view_module_version": "1.2.0",
            "_view_name": "StyleView",
            "description_width": ""
          }
        },
        "97d37b030e4845919654b34c53374c5b": {
          "model_module": "@jupyter-widgets/base",
          "model_name": "LayoutModel",
          "model_module_version": "1.2.0",
          "state": {
            "_model_module": "@jupyter-widgets/base",
            "_model_module_version": "1.2.0",
            "_model_name": "LayoutModel",
            "_view_count": null,
            "_view_module": "@jupyter-widgets/base",
            "_view_module_version": "1.2.0",
            "_view_name": "LayoutView",
            "align_content": null,
            "align_items": null,
            "align_self": null,
            "border": null,
            "bottom": null,
            "display": null,
            "flex": null,
            "flex_flow": null,
            "grid_area": null,
            "grid_auto_columns": null,
            "grid_auto_flow": null,
            "grid_auto_rows": null,
            "grid_column": null,
            "grid_gap": null,
            "grid_row": null,
            "grid_template_areas": null,
            "grid_template_columns": null,
            "grid_template_rows": null,
            "height": null,
            "justify_content": null,
            "justify_items": null,
            "left": null,
            "margin": null,
            "max_height": null,
            "max_width": null,
            "min_height": null,
            "min_width": null,
            "object_fit": null,
            "object_position": null,
            "order": null,
            "overflow": null,
            "overflow_x": null,
            "overflow_y": null,
            "padding": null,
            "right": null,
            "top": null,
            "visibility": null,
            "width": null
          }
        },
        "ee3e281d67a74801923c868e2156f6aa": {
          "model_module": "@jupyter-widgets/controls",
          "model_name": "ProgressStyleModel",
          "model_module_version": "1.5.0",
          "state": {
            "_model_module": "@jupyter-widgets/controls",
            "_model_module_version": "1.5.0",
            "_model_name": "ProgressStyleModel",
            "_view_count": null,
            "_view_module": "@jupyter-widgets/base",
            "_view_module_version": "1.2.0",
            "_view_name": "StyleView",
            "bar_color": null,
            "description_width": ""
          }
        },
        "a40d61c0054849f18045d945f2de7bdf": {
          "model_module": "@jupyter-widgets/base",
          "model_name": "LayoutModel",
          "model_module_version": "1.2.0",
          "state": {
            "_model_module": "@jupyter-widgets/base",
            "_model_module_version": "1.2.0",
            "_model_name": "LayoutModel",
            "_view_count": null,
            "_view_module": "@jupyter-widgets/base",
            "_view_module_version": "1.2.0",
            "_view_name": "LayoutView",
            "align_content": null,
            "align_items": null,
            "align_self": null,
            "border": null,
            "bottom": null,
            "display": null,
            "flex": null,
            "flex_flow": null,
            "grid_area": null,
            "grid_auto_columns": null,
            "grid_auto_flow": null,
            "grid_auto_rows": null,
            "grid_column": null,
            "grid_gap": null,
            "grid_row": null,
            "grid_template_areas": null,
            "grid_template_columns": null,
            "grid_template_rows": null,
            "height": null,
            "justify_content": null,
            "justify_items": null,
            "left": null,
            "margin": null,
            "max_height": null,
            "max_width": null,
            "min_height": null,
            "min_width": null,
            "object_fit": null,
            "object_position": null,
            "order": null,
            "overflow": null,
            "overflow_x": null,
            "overflow_y": null,
            "padding": null,
            "right": null,
            "top": null,
            "visibility": null,
            "width": null
          }
        },
        "7ad7e2de74a14b7992c7665cff0b6e3f": {
          "model_module": "@jupyter-widgets/controls",
          "model_name": "DescriptionStyleModel",
          "model_module_version": "1.5.0",
          "state": {
            "_model_module": "@jupyter-widgets/controls",
            "_model_module_version": "1.5.0",
            "_model_name": "DescriptionStyleModel",
            "_view_count": null,
            "_view_module": "@jupyter-widgets/base",
            "_view_module_version": "1.2.0",
            "_view_name": "StyleView",
            "description_width": ""
          }
        },
        "cf09b33db1cc4e7c94cd1a56255ef797": {
          "model_module": "@jupyter-widgets/controls",
          "model_name": "HBoxModel",
          "model_module_version": "1.5.0",
          "state": {
            "_dom_classes": [],
            "_model_module": "@jupyter-widgets/controls",
            "_model_module_version": "1.5.0",
            "_model_name": "HBoxModel",
            "_view_count": null,
            "_view_module": "@jupyter-widgets/controls",
            "_view_module_version": "1.5.0",
            "_view_name": "HBoxView",
            "box_style": "",
            "children": [
              "IPY_MODEL_61b79e727603454d9a752d0fc65968ab",
              "IPY_MODEL_0bb768ff9f524870bd2c02ae60986ada",
              "IPY_MODEL_516bf6ba31884ea3b5852f6f3523723c"
            ],
            "layout": "IPY_MODEL_91cc02f0c38f4cd9847d688e3bcdcc0f"
          }
        },
        "61b79e727603454d9a752d0fc65968ab": {
          "model_module": "@jupyter-widgets/controls",
          "model_name": "HTMLModel",
          "model_module_version": "1.5.0",
          "state": {
            "_dom_classes": [],
            "_model_module": "@jupyter-widgets/controls",
            "_model_module_version": "1.5.0",
            "_model_name": "HTMLModel",
            "_view_count": null,
            "_view_module": "@jupyter-widgets/controls",
            "_view_module_version": "1.5.0",
            "_view_name": "HTMLView",
            "description": "",
            "description_tooltip": null,
            "layout": "IPY_MODEL_3b1b0a14ded842738b1e21ac78dd7396",
            "placeholder": "​",
            "style": "IPY_MODEL_c5fc9d9b96be49bbaa9c744e349ecbb0",
            "value": "Map: 100%"
          }
        },
        "0bb768ff9f524870bd2c02ae60986ada": {
          "model_module": "@jupyter-widgets/controls",
          "model_name": "FloatProgressModel",
          "model_module_version": "1.5.0",
          "state": {
            "_dom_classes": [],
            "_model_module": "@jupyter-widgets/controls",
            "_model_module_version": "1.5.0",
            "_model_name": "FloatProgressModel",
            "_view_count": null,
            "_view_module": "@jupyter-widgets/controls",
            "_view_module_version": "1.5.0",
            "_view_name": "ProgressView",
            "bar_style": "success",
            "description": "",
            "description_tooltip": null,
            "layout": "IPY_MODEL_c3613f57450041b799d0dc8e7e82b16a",
            "max": 203354,
            "min": 0,
            "orientation": "horizontal",
            "style": "IPY_MODEL_4e709156513a4eaf91e05c0ed25a9afe",
            "value": 203354
          }
        },
        "516bf6ba31884ea3b5852f6f3523723c": {
          "model_module": "@jupyter-widgets/controls",
          "model_name": "HTMLModel",
          "model_module_version": "1.5.0",
          "state": {
            "_dom_classes": [],
            "_model_module": "@jupyter-widgets/controls",
            "_model_module_version": "1.5.0",
            "_model_name": "HTMLModel",
            "_view_count": null,
            "_view_module": "@jupyter-widgets/controls",
            "_view_module_version": "1.5.0",
            "_view_name": "HTMLView",
            "description": "",
            "description_tooltip": null,
            "layout": "IPY_MODEL_28174621ddc14fdcb70fb2bee32a3130",
            "placeholder": "​",
            "style": "IPY_MODEL_28f2a400b7d940ef8cb3726195533b35",
            "value": " 203354/203354 [11:04&lt;00:00, 177.76 examples/s]"
          }
        },
        "91cc02f0c38f4cd9847d688e3bcdcc0f": {
          "model_module": "@jupyter-widgets/base",
          "model_name": "LayoutModel",
          "model_module_version": "1.2.0",
          "state": {
            "_model_module": "@jupyter-widgets/base",
            "_model_module_version": "1.2.0",
            "_model_name": "LayoutModel",
            "_view_count": null,
            "_view_module": "@jupyter-widgets/base",
            "_view_module_version": "1.2.0",
            "_view_name": "LayoutView",
            "align_content": null,
            "align_items": null,
            "align_self": null,
            "border": null,
            "bottom": null,
            "display": null,
            "flex": null,
            "flex_flow": null,
            "grid_area": null,
            "grid_auto_columns": null,
            "grid_auto_flow": null,
            "grid_auto_rows": null,
            "grid_column": null,
            "grid_gap": null,
            "grid_row": null,
            "grid_template_areas": null,
            "grid_template_columns": null,
            "grid_template_rows": null,
            "height": null,
            "justify_content": null,
            "justify_items": null,
            "left": null,
            "margin": null,
            "max_height": null,
            "max_width": null,
            "min_height": null,
            "min_width": null,
            "object_fit": null,
            "object_position": null,
            "order": null,
            "overflow": null,
            "overflow_x": null,
            "overflow_y": null,
            "padding": null,
            "right": null,
            "top": null,
            "visibility": null,
            "width": null
          }
        },
        "3b1b0a14ded842738b1e21ac78dd7396": {
          "model_module": "@jupyter-widgets/base",
          "model_name": "LayoutModel",
          "model_module_version": "1.2.0",
          "state": {
            "_model_module": "@jupyter-widgets/base",
            "_model_module_version": "1.2.0",
            "_model_name": "LayoutModel",
            "_view_count": null,
            "_view_module": "@jupyter-widgets/base",
            "_view_module_version": "1.2.0",
            "_view_name": "LayoutView",
            "align_content": null,
            "align_items": null,
            "align_self": null,
            "border": null,
            "bottom": null,
            "display": null,
            "flex": null,
            "flex_flow": null,
            "grid_area": null,
            "grid_auto_columns": null,
            "grid_auto_flow": null,
            "grid_auto_rows": null,
            "grid_column": null,
            "grid_gap": null,
            "grid_row": null,
            "grid_template_areas": null,
            "grid_template_columns": null,
            "grid_template_rows": null,
            "height": null,
            "justify_content": null,
            "justify_items": null,
            "left": null,
            "margin": null,
            "max_height": null,
            "max_width": null,
            "min_height": null,
            "min_width": null,
            "object_fit": null,
            "object_position": null,
            "order": null,
            "overflow": null,
            "overflow_x": null,
            "overflow_y": null,
            "padding": null,
            "right": null,
            "top": null,
            "visibility": null,
            "width": null
          }
        },
        "c5fc9d9b96be49bbaa9c744e349ecbb0": {
          "model_module": "@jupyter-widgets/controls",
          "model_name": "DescriptionStyleModel",
          "model_module_version": "1.5.0",
          "state": {
            "_model_module": "@jupyter-widgets/controls",
            "_model_module_version": "1.5.0",
            "_model_name": "DescriptionStyleModel",
            "_view_count": null,
            "_view_module": "@jupyter-widgets/base",
            "_view_module_version": "1.2.0",
            "_view_name": "StyleView",
            "description_width": ""
          }
        },
        "c3613f57450041b799d0dc8e7e82b16a": {
          "model_module": "@jupyter-widgets/base",
          "model_name": "LayoutModel",
          "model_module_version": "1.2.0",
          "state": {
            "_model_module": "@jupyter-widgets/base",
            "_model_module_version": "1.2.0",
            "_model_name": "LayoutModel",
            "_view_count": null,
            "_view_module": "@jupyter-widgets/base",
            "_view_module_version": "1.2.0",
            "_view_name": "LayoutView",
            "align_content": null,
            "align_items": null,
            "align_self": null,
            "border": null,
            "bottom": null,
            "display": null,
            "flex": null,
            "flex_flow": null,
            "grid_area": null,
            "grid_auto_columns": null,
            "grid_auto_flow": null,
            "grid_auto_rows": null,
            "grid_column": null,
            "grid_gap": null,
            "grid_row": null,
            "grid_template_areas": null,
            "grid_template_columns": null,
            "grid_template_rows": null,
            "height": null,
            "justify_content": null,
            "justify_items": null,
            "left": null,
            "margin": null,
            "max_height": null,
            "max_width": null,
            "min_height": null,
            "min_width": null,
            "object_fit": null,
            "object_position": null,
            "order": null,
            "overflow": null,
            "overflow_x": null,
            "overflow_y": null,
            "padding": null,
            "right": null,
            "top": null,
            "visibility": null,
            "width": null
          }
        },
        "4e709156513a4eaf91e05c0ed25a9afe": {
          "model_module": "@jupyter-widgets/controls",
          "model_name": "ProgressStyleModel",
          "model_module_version": "1.5.0",
          "state": {
            "_model_module": "@jupyter-widgets/controls",
            "_model_module_version": "1.5.0",
            "_model_name": "ProgressStyleModel",
            "_view_count": null,
            "_view_module": "@jupyter-widgets/base",
            "_view_module_version": "1.2.0",
            "_view_name": "StyleView",
            "bar_color": null,
            "description_width": ""
          }
        },
        "28174621ddc14fdcb70fb2bee32a3130": {
          "model_module": "@jupyter-widgets/base",
          "model_name": "LayoutModel",
          "model_module_version": "1.2.0",
          "state": {
            "_model_module": "@jupyter-widgets/base",
            "_model_module_version": "1.2.0",
            "_model_name": "LayoutModel",
            "_view_count": null,
            "_view_module": "@jupyter-widgets/base",
            "_view_module_version": "1.2.0",
            "_view_name": "LayoutView",
            "align_content": null,
            "align_items": null,
            "align_self": null,
            "border": null,
            "bottom": null,
            "display": null,
            "flex": null,
            "flex_flow": null,
            "grid_area": null,
            "grid_auto_columns": null,
            "grid_auto_flow": null,
            "grid_auto_rows": null,
            "grid_column": null,
            "grid_gap": null,
            "grid_row": null,
            "grid_template_areas": null,
            "grid_template_columns": null,
            "grid_template_rows": null,
            "height": null,
            "justify_content": null,
            "justify_items": null,
            "left": null,
            "margin": null,
            "max_height": null,
            "max_width": null,
            "min_height": null,
            "min_width": null,
            "object_fit": null,
            "object_position": null,
            "order": null,
            "overflow": null,
            "overflow_x": null,
            "overflow_y": null,
            "padding": null,
            "right": null,
            "top": null,
            "visibility": null,
            "width": null
          }
        },
        "28f2a400b7d940ef8cb3726195533b35": {
          "model_module": "@jupyter-widgets/controls",
          "model_name": "DescriptionStyleModel",
          "model_module_version": "1.5.0",
          "state": {
            "_model_module": "@jupyter-widgets/controls",
            "_model_module_version": "1.5.0",
            "_model_name": "DescriptionStyleModel",
            "_view_count": null,
            "_view_module": "@jupyter-widgets/base",
            "_view_module_version": "1.2.0",
            "_view_name": "StyleView",
            "description_width": ""
          }
        },
        "67b12cc3a6ce4ba0b975ae18192f484f": {
          "model_module": "@jupyter-widgets/controls",
          "model_name": "HBoxModel",
          "model_module_version": "1.5.0",
          "state": {
            "_dom_classes": [],
            "_model_module": "@jupyter-widgets/controls",
            "_model_module_version": "1.5.0",
            "_model_name": "HBoxModel",
            "_view_count": null,
            "_view_module": "@jupyter-widgets/controls",
            "_view_module_version": "1.5.0",
            "_view_name": "HBoxView",
            "box_style": "",
            "children": [
              "IPY_MODEL_ed7e146e9bb447ca9a23f422ad8434be",
              "IPY_MODEL_fd2bbfb96868427f99c7e554187d7ad1",
              "IPY_MODEL_8cc359c566c3498c943a4b9a69203e80"
            ],
            "layout": "IPY_MODEL_876967a8b69b48cc867e01aac7724766"
          }
        },
        "ed7e146e9bb447ca9a23f422ad8434be": {
          "model_module": "@jupyter-widgets/controls",
          "model_name": "HTMLModel",
          "model_module_version": "1.5.0",
          "state": {
            "_dom_classes": [],
            "_model_module": "@jupyter-widgets/controls",
            "_model_module_version": "1.5.0",
            "_model_name": "HTMLModel",
            "_view_count": null,
            "_view_module": "@jupyter-widgets/controls",
            "_view_module_version": "1.5.0",
            "_view_name": "HTMLView",
            "description": "",
            "description_tooltip": null,
            "layout": "IPY_MODEL_9e9d4e6a86f740e9a5d463bd462a6cb7",
            "placeholder": "​",
            "style": "IPY_MODEL_c2fe6b7c52fb4523806dd458e77bf43b",
            "value": "Map: 100%"
          }
        },
        "fd2bbfb96868427f99c7e554187d7ad1": {
          "model_module": "@jupyter-widgets/controls",
          "model_name": "FloatProgressModel",
          "model_module_version": "1.5.0",
          "state": {
            "_dom_classes": [],
            "_model_module": "@jupyter-widgets/controls",
            "_model_module_version": "1.5.0",
            "_model_name": "FloatProgressModel",
            "_view_count": null,
            "_view_module": "@jupyter-widgets/controls",
            "_view_module_version": "1.5.0",
            "_view_name": "ProgressView",
            "bar_style": "success",
            "description": "",
            "description_tooltip": null,
            "layout": "IPY_MODEL_40c39e9ddffb49f18044a349a0a0dd6c",
            "max": 11295,
            "min": 0,
            "orientation": "horizontal",
            "style": "IPY_MODEL_2ba62111b3834532990f5107c1be4ffa",
            "value": 11295
          }
        },
        "8cc359c566c3498c943a4b9a69203e80": {
          "model_module": "@jupyter-widgets/controls",
          "model_name": "HTMLModel",
          "model_module_version": "1.5.0",
          "state": {
            "_dom_classes": [],
            "_model_module": "@jupyter-widgets/controls",
            "_model_module_version": "1.5.0",
            "_model_name": "HTMLModel",
            "_view_count": null,
            "_view_module": "@jupyter-widgets/controls",
            "_view_module_version": "1.5.0",
            "_view_name": "HTMLView",
            "description": "",
            "description_tooltip": null,
            "layout": "IPY_MODEL_a3a6e9cab9944b8bb1fcc5342fa71cd8",
            "placeholder": "​",
            "style": "IPY_MODEL_72b7a53db29f4faaad9f639c2c9f86c1",
            "value": " 11295/11295 [00:34&lt;00:00, 300.40 examples/s]"
          }
        },
        "876967a8b69b48cc867e01aac7724766": {
          "model_module": "@jupyter-widgets/base",
          "model_name": "LayoutModel",
          "model_module_version": "1.2.0",
          "state": {
            "_model_module": "@jupyter-widgets/base",
            "_model_module_version": "1.2.0",
            "_model_name": "LayoutModel",
            "_view_count": null,
            "_view_module": "@jupyter-widgets/base",
            "_view_module_version": "1.2.0",
            "_view_name": "LayoutView",
            "align_content": null,
            "align_items": null,
            "align_self": null,
            "border": null,
            "bottom": null,
            "display": null,
            "flex": null,
            "flex_flow": null,
            "grid_area": null,
            "grid_auto_columns": null,
            "grid_auto_flow": null,
            "grid_auto_rows": null,
            "grid_column": null,
            "grid_gap": null,
            "grid_row": null,
            "grid_template_areas": null,
            "grid_template_columns": null,
            "grid_template_rows": null,
            "height": null,
            "justify_content": null,
            "justify_items": null,
            "left": null,
            "margin": null,
            "max_height": null,
            "max_width": null,
            "min_height": null,
            "min_width": null,
            "object_fit": null,
            "object_position": null,
            "order": null,
            "overflow": null,
            "overflow_x": null,
            "overflow_y": null,
            "padding": null,
            "right": null,
            "top": null,
            "visibility": null,
            "width": null
          }
        },
        "9e9d4e6a86f740e9a5d463bd462a6cb7": {
          "model_module": "@jupyter-widgets/base",
          "model_name": "LayoutModel",
          "model_module_version": "1.2.0",
          "state": {
            "_model_module": "@jupyter-widgets/base",
            "_model_module_version": "1.2.0",
            "_model_name": "LayoutModel",
            "_view_count": null,
            "_view_module": "@jupyter-widgets/base",
            "_view_module_version": "1.2.0",
            "_view_name": "LayoutView",
            "align_content": null,
            "align_items": null,
            "align_self": null,
            "border": null,
            "bottom": null,
            "display": null,
            "flex": null,
            "flex_flow": null,
            "grid_area": null,
            "grid_auto_columns": null,
            "grid_auto_flow": null,
            "grid_auto_rows": null,
            "grid_column": null,
            "grid_gap": null,
            "grid_row": null,
            "grid_template_areas": null,
            "grid_template_columns": null,
            "grid_template_rows": null,
            "height": null,
            "justify_content": null,
            "justify_items": null,
            "left": null,
            "margin": null,
            "max_height": null,
            "max_width": null,
            "min_height": null,
            "min_width": null,
            "object_fit": null,
            "object_position": null,
            "order": null,
            "overflow": null,
            "overflow_x": null,
            "overflow_y": null,
            "padding": null,
            "right": null,
            "top": null,
            "visibility": null,
            "width": null
          }
        },
        "c2fe6b7c52fb4523806dd458e77bf43b": {
          "model_module": "@jupyter-widgets/controls",
          "model_name": "DescriptionStyleModel",
          "model_module_version": "1.5.0",
          "state": {
            "_model_module": "@jupyter-widgets/controls",
            "_model_module_version": "1.5.0",
            "_model_name": "DescriptionStyleModel",
            "_view_count": null,
            "_view_module": "@jupyter-widgets/base",
            "_view_module_version": "1.2.0",
            "_view_name": "StyleView",
            "description_width": ""
          }
        },
        "40c39e9ddffb49f18044a349a0a0dd6c": {
          "model_module": "@jupyter-widgets/base",
          "model_name": "LayoutModel",
          "model_module_version": "1.2.0",
          "state": {
            "_model_module": "@jupyter-widgets/base",
            "_model_module_version": "1.2.0",
            "_model_name": "LayoutModel",
            "_view_count": null,
            "_view_module": "@jupyter-widgets/base",
            "_view_module_version": "1.2.0",
            "_view_name": "LayoutView",
            "align_content": null,
            "align_items": null,
            "align_self": null,
            "border": null,
            "bottom": null,
            "display": null,
            "flex": null,
            "flex_flow": null,
            "grid_area": null,
            "grid_auto_columns": null,
            "grid_auto_flow": null,
            "grid_auto_rows": null,
            "grid_column": null,
            "grid_gap": null,
            "grid_row": null,
            "grid_template_areas": null,
            "grid_template_columns": null,
            "grid_template_rows": null,
            "height": null,
            "justify_content": null,
            "justify_items": null,
            "left": null,
            "margin": null,
            "max_height": null,
            "max_width": null,
            "min_height": null,
            "min_width": null,
            "object_fit": null,
            "object_position": null,
            "order": null,
            "overflow": null,
            "overflow_x": null,
            "overflow_y": null,
            "padding": null,
            "right": null,
            "top": null,
            "visibility": null,
            "width": null
          }
        },
        "2ba62111b3834532990f5107c1be4ffa": {
          "model_module": "@jupyter-widgets/controls",
          "model_name": "ProgressStyleModel",
          "model_module_version": "1.5.0",
          "state": {
            "_model_module": "@jupyter-widgets/controls",
            "_model_module_version": "1.5.0",
            "_model_name": "ProgressStyleModel",
            "_view_count": null,
            "_view_module": "@jupyter-widgets/base",
            "_view_module_version": "1.2.0",
            "_view_name": "StyleView",
            "bar_color": null,
            "description_width": ""
          }
        },
        "a3a6e9cab9944b8bb1fcc5342fa71cd8": {
          "model_module": "@jupyter-widgets/base",
          "model_name": "LayoutModel",
          "model_module_version": "1.2.0",
          "state": {
            "_model_module": "@jupyter-widgets/base",
            "_model_module_version": "1.2.0",
            "_model_name": "LayoutModel",
            "_view_count": null,
            "_view_module": "@jupyter-widgets/base",
            "_view_module_version": "1.2.0",
            "_view_name": "LayoutView",
            "align_content": null,
            "align_items": null,
            "align_self": null,
            "border": null,
            "bottom": null,
            "display": null,
            "flex": null,
            "flex_flow": null,
            "grid_area": null,
            "grid_auto_columns": null,
            "grid_auto_flow": null,
            "grid_auto_rows": null,
            "grid_column": null,
            "grid_gap": null,
            "grid_row": null,
            "grid_template_areas": null,
            "grid_template_columns": null,
            "grid_template_rows": null,
            "height": null,
            "justify_content": null,
            "justify_items": null,
            "left": null,
            "margin": null,
            "max_height": null,
            "max_width": null,
            "min_height": null,
            "min_width": null,
            "object_fit": null,
            "object_position": null,
            "order": null,
            "overflow": null,
            "overflow_x": null,
            "overflow_y": null,
            "padding": null,
            "right": null,
            "top": null,
            "visibility": null,
            "width": null
          }
        },
        "72b7a53db29f4faaad9f639c2c9f86c1": {
          "model_module": "@jupyter-widgets/controls",
          "model_name": "DescriptionStyleModel",
          "model_module_version": "1.5.0",
          "state": {
            "_model_module": "@jupyter-widgets/controls",
            "_model_module_version": "1.5.0",
            "_model_name": "DescriptionStyleModel",
            "_view_count": null,
            "_view_module": "@jupyter-widgets/base",
            "_view_module_version": "1.2.0",
            "_view_name": "StyleView",
            "description_width": ""
          }
        },
        "d6996f6af73749069ce61f9906ad21fe": {
          "model_module": "@jupyter-widgets/controls",
          "model_name": "HBoxModel",
          "model_module_version": "1.5.0",
          "state": {
            "_dom_classes": [],
            "_model_module": "@jupyter-widgets/controls",
            "_model_module_version": "1.5.0",
            "_model_name": "HBoxModel",
            "_view_count": null,
            "_view_module": "@jupyter-widgets/controls",
            "_view_module_version": "1.5.0",
            "_view_name": "HBoxView",
            "box_style": "",
            "children": [
              "IPY_MODEL_f2d4ea07be6047fe93a3ac3c8cadac15",
              "IPY_MODEL_cb81908016a84ea5b7e80327779f2075",
              "IPY_MODEL_1e947ccffd05459186910cecb91bf5a3"
            ],
            "layout": "IPY_MODEL_c669da259a4b4594b5eea9d3d1604a13"
          }
        },
        "f2d4ea07be6047fe93a3ac3c8cadac15": {
          "model_module": "@jupyter-widgets/controls",
          "model_name": "HTMLModel",
          "model_module_version": "1.5.0",
          "state": {
            "_dom_classes": [],
            "_model_module": "@jupyter-widgets/controls",
            "_model_module_version": "1.5.0",
            "_model_name": "HTMLModel",
            "_view_count": null,
            "_view_module": "@jupyter-widgets/controls",
            "_view_module_version": "1.5.0",
            "_view_name": "HTMLView",
            "description": "",
            "description_tooltip": null,
            "layout": "IPY_MODEL_5e0088c86ba24a8eb4a2baaeaf4d8152",
            "placeholder": "​",
            "style": "IPY_MODEL_c42b50eb20d84df4be2990e929498fa8",
            "value": "config.json: 100%"
          }
        },
        "cb81908016a84ea5b7e80327779f2075": {
          "model_module": "@jupyter-widgets/controls",
          "model_name": "FloatProgressModel",
          "model_module_version": "1.5.0",
          "state": {
            "_dom_classes": [],
            "_model_module": "@jupyter-widgets/controls",
            "_model_module_version": "1.5.0",
            "_model_name": "FloatProgressModel",
            "_view_count": null,
            "_view_module": "@jupyter-widgets/controls",
            "_view_module_version": "1.5.0",
            "_view_name": "ProgressView",
            "bar_style": "success",
            "description": "",
            "description_tooltip": null,
            "layout": "IPY_MODEL_6b2f91025837485bbd5f4f837e18e4f6",
            "max": 1208,
            "min": 0,
            "orientation": "horizontal",
            "style": "IPY_MODEL_4a83e97c83f94c5a8781f6fc86d07d5d",
            "value": 1208
          }
        },
        "1e947ccffd05459186910cecb91bf5a3": {
          "model_module": "@jupyter-widgets/controls",
          "model_name": "HTMLModel",
          "model_module_version": "1.5.0",
          "state": {
            "_dom_classes": [],
            "_model_module": "@jupyter-widgets/controls",
            "_model_module_version": "1.5.0",
            "_model_name": "HTMLModel",
            "_view_count": null,
            "_view_module": "@jupyter-widgets/controls",
            "_view_module_version": "1.5.0",
            "_view_name": "HTMLView",
            "description": "",
            "description_tooltip": null,
            "layout": "IPY_MODEL_4032d38963d24eee8e0b0a5856988016",
            "placeholder": "​",
            "style": "IPY_MODEL_ad77012fa1194766ba3e4cdc7ec78696",
            "value": " 1.21k/1.21k [00:00&lt;00:00, 88.4kB/s]"
          }
        },
        "c669da259a4b4594b5eea9d3d1604a13": {
          "model_module": "@jupyter-widgets/base",
          "model_name": "LayoutModel",
          "model_module_version": "1.2.0",
          "state": {
            "_model_module": "@jupyter-widgets/base",
            "_model_module_version": "1.2.0",
            "_model_name": "LayoutModel",
            "_view_count": null,
            "_view_module": "@jupyter-widgets/base",
            "_view_module_version": "1.2.0",
            "_view_name": "LayoutView",
            "align_content": null,
            "align_items": null,
            "align_self": null,
            "border": null,
            "bottom": null,
            "display": null,
            "flex": null,
            "flex_flow": null,
            "grid_area": null,
            "grid_auto_columns": null,
            "grid_auto_flow": null,
            "grid_auto_rows": null,
            "grid_column": null,
            "grid_gap": null,
            "grid_row": null,
            "grid_template_areas": null,
            "grid_template_columns": null,
            "grid_template_rows": null,
            "height": null,
            "justify_content": null,
            "justify_items": null,
            "left": null,
            "margin": null,
            "max_height": null,
            "max_width": null,
            "min_height": null,
            "min_width": null,
            "object_fit": null,
            "object_position": null,
            "order": null,
            "overflow": null,
            "overflow_x": null,
            "overflow_y": null,
            "padding": null,
            "right": null,
            "top": null,
            "visibility": null,
            "width": null
          }
        },
        "5e0088c86ba24a8eb4a2baaeaf4d8152": {
          "model_module": "@jupyter-widgets/base",
          "model_name": "LayoutModel",
          "model_module_version": "1.2.0",
          "state": {
            "_model_module": "@jupyter-widgets/base",
            "_model_module_version": "1.2.0",
            "_model_name": "LayoutModel",
            "_view_count": null,
            "_view_module": "@jupyter-widgets/base",
            "_view_module_version": "1.2.0",
            "_view_name": "LayoutView",
            "align_content": null,
            "align_items": null,
            "align_self": null,
            "border": null,
            "bottom": null,
            "display": null,
            "flex": null,
            "flex_flow": null,
            "grid_area": null,
            "grid_auto_columns": null,
            "grid_auto_flow": null,
            "grid_auto_rows": null,
            "grid_column": null,
            "grid_gap": null,
            "grid_row": null,
            "grid_template_areas": null,
            "grid_template_columns": null,
            "grid_template_rows": null,
            "height": null,
            "justify_content": null,
            "justify_items": null,
            "left": null,
            "margin": null,
            "max_height": null,
            "max_width": null,
            "min_height": null,
            "min_width": null,
            "object_fit": null,
            "object_position": null,
            "order": null,
            "overflow": null,
            "overflow_x": null,
            "overflow_y": null,
            "padding": null,
            "right": null,
            "top": null,
            "visibility": null,
            "width": null
          }
        },
        "c42b50eb20d84df4be2990e929498fa8": {
          "model_module": "@jupyter-widgets/controls",
          "model_name": "DescriptionStyleModel",
          "model_module_version": "1.5.0",
          "state": {
            "_model_module": "@jupyter-widgets/controls",
            "_model_module_version": "1.5.0",
            "_model_name": "DescriptionStyleModel",
            "_view_count": null,
            "_view_module": "@jupyter-widgets/base",
            "_view_module_version": "1.2.0",
            "_view_name": "StyleView",
            "description_width": ""
          }
        },
        "6b2f91025837485bbd5f4f837e18e4f6": {
          "model_module": "@jupyter-widgets/base",
          "model_name": "LayoutModel",
          "model_module_version": "1.2.0",
          "state": {
            "_model_module": "@jupyter-widgets/base",
            "_model_module_version": "1.2.0",
            "_model_name": "LayoutModel",
            "_view_count": null,
            "_view_module": "@jupyter-widgets/base",
            "_view_module_version": "1.2.0",
            "_view_name": "LayoutView",
            "align_content": null,
            "align_items": null,
            "align_self": null,
            "border": null,
            "bottom": null,
            "display": null,
            "flex": null,
            "flex_flow": null,
            "grid_area": null,
            "grid_auto_columns": null,
            "grid_auto_flow": null,
            "grid_auto_rows": null,
            "grid_column": null,
            "grid_gap": null,
            "grid_row": null,
            "grid_template_areas": null,
            "grid_template_columns": null,
            "grid_template_rows": null,
            "height": null,
            "justify_content": null,
            "justify_items": null,
            "left": null,
            "margin": null,
            "max_height": null,
            "max_width": null,
            "min_height": null,
            "min_width": null,
            "object_fit": null,
            "object_position": null,
            "order": null,
            "overflow": null,
            "overflow_x": null,
            "overflow_y": null,
            "padding": null,
            "right": null,
            "top": null,
            "visibility": null,
            "width": null
          }
        },
        "4a83e97c83f94c5a8781f6fc86d07d5d": {
          "model_module": "@jupyter-widgets/controls",
          "model_name": "ProgressStyleModel",
          "model_module_version": "1.5.0",
          "state": {
            "_model_module": "@jupyter-widgets/controls",
            "_model_module_version": "1.5.0",
            "_model_name": "ProgressStyleModel",
            "_view_count": null,
            "_view_module": "@jupyter-widgets/base",
            "_view_module_version": "1.2.0",
            "_view_name": "StyleView",
            "bar_color": null,
            "description_width": ""
          }
        },
        "4032d38963d24eee8e0b0a5856988016": {
          "model_module": "@jupyter-widgets/base",
          "model_name": "LayoutModel",
          "model_module_version": "1.2.0",
          "state": {
            "_model_module": "@jupyter-widgets/base",
            "_model_module_version": "1.2.0",
            "_model_name": "LayoutModel",
            "_view_count": null,
            "_view_module": "@jupyter-widgets/base",
            "_view_module_version": "1.2.0",
            "_view_name": "LayoutView",
            "align_content": null,
            "align_items": null,
            "align_self": null,
            "border": null,
            "bottom": null,
            "display": null,
            "flex": null,
            "flex_flow": null,
            "grid_area": null,
            "grid_auto_columns": null,
            "grid_auto_flow": null,
            "grid_auto_rows": null,
            "grid_column": null,
            "grid_gap": null,
            "grid_row": null,
            "grid_template_areas": null,
            "grid_template_columns": null,
            "grid_template_rows": null,
            "height": null,
            "justify_content": null,
            "justify_items": null,
            "left": null,
            "margin": null,
            "max_height": null,
            "max_width": null,
            "min_height": null,
            "min_width": null,
            "object_fit": null,
            "object_position": null,
            "order": null,
            "overflow": null,
            "overflow_x": null,
            "overflow_y": null,
            "padding": null,
            "right": null,
            "top": null,
            "visibility": null,
            "width": null
          }
        },
        "ad77012fa1194766ba3e4cdc7ec78696": {
          "model_module": "@jupyter-widgets/controls",
          "model_name": "DescriptionStyleModel",
          "model_module_version": "1.5.0",
          "state": {
            "_model_module": "@jupyter-widgets/controls",
            "_model_module_version": "1.5.0",
            "_model_name": "DescriptionStyleModel",
            "_view_count": null,
            "_view_module": "@jupyter-widgets/base",
            "_view_module_version": "1.2.0",
            "_view_name": "StyleView",
            "description_width": ""
          }
        },
        "859ea9e552d548219ee37438ca47f0c3": {
          "model_module": "@jupyter-widgets/controls",
          "model_name": "HBoxModel",
          "model_module_version": "1.5.0",
          "state": {
            "_dom_classes": [],
            "_model_module": "@jupyter-widgets/controls",
            "_model_module_version": "1.5.0",
            "_model_name": "HBoxModel",
            "_view_count": null,
            "_view_module": "@jupyter-widgets/controls",
            "_view_module_version": "1.5.0",
            "_view_name": "HBoxView",
            "box_style": "",
            "children": [
              "IPY_MODEL_259f3de42d1440a2ba2cdd8eedb46b2e",
              "IPY_MODEL_d9a7ffb3da704c3a8ed8559be63bdbe0",
              "IPY_MODEL_8690ad9ad3c54e90985f9e9ac731d335"
            ],
            "layout": "IPY_MODEL_0ae501e3946440dfb75511d8bc6be5b6"
          }
        },
        "259f3de42d1440a2ba2cdd8eedb46b2e": {
          "model_module": "@jupyter-widgets/controls",
          "model_name": "HTMLModel",
          "model_module_version": "1.5.0",
          "state": {
            "_dom_classes": [],
            "_model_module": "@jupyter-widgets/controls",
            "_model_module_version": "1.5.0",
            "_model_name": "HTMLModel",
            "_view_count": null,
            "_view_module": "@jupyter-widgets/controls",
            "_view_module_version": "1.5.0",
            "_view_name": "HTMLView",
            "description": "",
            "description_tooltip": null,
            "layout": "IPY_MODEL_c7e9a3c73412452bbe305ea38559f8c7",
            "placeholder": "​",
            "style": "IPY_MODEL_b88eaf0d696945e7a7761062dc7e8e09",
            "value": "spiece.model: 100%"
          }
        },
        "d9a7ffb3da704c3a8ed8559be63bdbe0": {
          "model_module": "@jupyter-widgets/controls",
          "model_name": "FloatProgressModel",
          "model_module_version": "1.5.0",
          "state": {
            "_dom_classes": [],
            "_model_module": "@jupyter-widgets/controls",
            "_model_module_version": "1.5.0",
            "_model_name": "FloatProgressModel",
            "_view_count": null,
            "_view_module": "@jupyter-widgets/controls",
            "_view_module_version": "1.5.0",
            "_view_name": "ProgressView",
            "bar_style": "success",
            "description": "",
            "description_tooltip": null,
            "layout": "IPY_MODEL_3a93750448344910b7bd6d06ca7b9049",
            "max": 791656,
            "min": 0,
            "orientation": "horizontal",
            "style": "IPY_MODEL_8690021cfe2c4578ae9cf17dd5360222",
            "value": 791656
          }
        },
        "8690ad9ad3c54e90985f9e9ac731d335": {
          "model_module": "@jupyter-widgets/controls",
          "model_name": "HTMLModel",
          "model_module_version": "1.5.0",
          "state": {
            "_dom_classes": [],
            "_model_module": "@jupyter-widgets/controls",
            "_model_module_version": "1.5.0",
            "_model_name": "HTMLModel",
            "_view_count": null,
            "_view_module": "@jupyter-widgets/controls",
            "_view_module_version": "1.5.0",
            "_view_name": "HTMLView",
            "description": "",
            "description_tooltip": null,
            "layout": "IPY_MODEL_33316da4c57e48d29d425c292ae119c8",
            "placeholder": "​",
            "style": "IPY_MODEL_0861ced4c6664995b47fdcb643da34c6",
            "value": " 792k/792k [00:00&lt;00:00, 3.12MB/s]"
          }
        },
        "0ae501e3946440dfb75511d8bc6be5b6": {
          "model_module": "@jupyter-widgets/base",
          "model_name": "LayoutModel",
          "model_module_version": "1.2.0",
          "state": {
            "_model_module": "@jupyter-widgets/base",
            "_model_module_version": "1.2.0",
            "_model_name": "LayoutModel",
            "_view_count": null,
            "_view_module": "@jupyter-widgets/base",
            "_view_module_version": "1.2.0",
            "_view_name": "LayoutView",
            "align_content": null,
            "align_items": null,
            "align_self": null,
            "border": null,
            "bottom": null,
            "display": null,
            "flex": null,
            "flex_flow": null,
            "grid_area": null,
            "grid_auto_columns": null,
            "grid_auto_flow": null,
            "grid_auto_rows": null,
            "grid_column": null,
            "grid_gap": null,
            "grid_row": null,
            "grid_template_areas": null,
            "grid_template_columns": null,
            "grid_template_rows": null,
            "height": null,
            "justify_content": null,
            "justify_items": null,
            "left": null,
            "margin": null,
            "max_height": null,
            "max_width": null,
            "min_height": null,
            "min_width": null,
            "object_fit": null,
            "object_position": null,
            "order": null,
            "overflow": null,
            "overflow_x": null,
            "overflow_y": null,
            "padding": null,
            "right": null,
            "top": null,
            "visibility": null,
            "width": null
          }
        },
        "c7e9a3c73412452bbe305ea38559f8c7": {
          "model_module": "@jupyter-widgets/base",
          "model_name": "LayoutModel",
          "model_module_version": "1.2.0",
          "state": {
            "_model_module": "@jupyter-widgets/base",
            "_model_module_version": "1.2.0",
            "_model_name": "LayoutModel",
            "_view_count": null,
            "_view_module": "@jupyter-widgets/base",
            "_view_module_version": "1.2.0",
            "_view_name": "LayoutView",
            "align_content": null,
            "align_items": null,
            "align_self": null,
            "border": null,
            "bottom": null,
            "display": null,
            "flex": null,
            "flex_flow": null,
            "grid_area": null,
            "grid_auto_columns": null,
            "grid_auto_flow": null,
            "grid_auto_rows": null,
            "grid_column": null,
            "grid_gap": null,
            "grid_row": null,
            "grid_template_areas": null,
            "grid_template_columns": null,
            "grid_template_rows": null,
            "height": null,
            "justify_content": null,
            "justify_items": null,
            "left": null,
            "margin": null,
            "max_height": null,
            "max_width": null,
            "min_height": null,
            "min_width": null,
            "object_fit": null,
            "object_position": null,
            "order": null,
            "overflow": null,
            "overflow_x": null,
            "overflow_y": null,
            "padding": null,
            "right": null,
            "top": null,
            "visibility": null,
            "width": null
          }
        },
        "b88eaf0d696945e7a7761062dc7e8e09": {
          "model_module": "@jupyter-widgets/controls",
          "model_name": "DescriptionStyleModel",
          "model_module_version": "1.5.0",
          "state": {
            "_model_module": "@jupyter-widgets/controls",
            "_model_module_version": "1.5.0",
            "_model_name": "DescriptionStyleModel",
            "_view_count": null,
            "_view_module": "@jupyter-widgets/base",
            "_view_module_version": "1.2.0",
            "_view_name": "StyleView",
            "description_width": ""
          }
        },
        "3a93750448344910b7bd6d06ca7b9049": {
          "model_module": "@jupyter-widgets/base",
          "model_name": "LayoutModel",
          "model_module_version": "1.2.0",
          "state": {
            "_model_module": "@jupyter-widgets/base",
            "_model_module_version": "1.2.0",
            "_model_name": "LayoutModel",
            "_view_count": null,
            "_view_module": "@jupyter-widgets/base",
            "_view_module_version": "1.2.0",
            "_view_name": "LayoutView",
            "align_content": null,
            "align_items": null,
            "align_self": null,
            "border": null,
            "bottom": null,
            "display": null,
            "flex": null,
            "flex_flow": null,
            "grid_area": null,
            "grid_auto_columns": null,
            "grid_auto_flow": null,
            "grid_auto_rows": null,
            "grid_column": null,
            "grid_gap": null,
            "grid_row": null,
            "grid_template_areas": null,
            "grid_template_columns": null,
            "grid_template_rows": null,
            "height": null,
            "justify_content": null,
            "justify_items": null,
            "left": null,
            "margin": null,
            "max_height": null,
            "max_width": null,
            "min_height": null,
            "min_width": null,
            "object_fit": null,
            "object_position": null,
            "order": null,
            "overflow": null,
            "overflow_x": null,
            "overflow_y": null,
            "padding": null,
            "right": null,
            "top": null,
            "visibility": null,
            "width": null
          }
        },
        "8690021cfe2c4578ae9cf17dd5360222": {
          "model_module": "@jupyter-widgets/controls",
          "model_name": "ProgressStyleModel",
          "model_module_version": "1.5.0",
          "state": {
            "_model_module": "@jupyter-widgets/controls",
            "_model_module_version": "1.5.0",
            "_model_name": "ProgressStyleModel",
            "_view_count": null,
            "_view_module": "@jupyter-widgets/base",
            "_view_module_version": "1.2.0",
            "_view_name": "StyleView",
            "bar_color": null,
            "description_width": ""
          }
        },
        "33316da4c57e48d29d425c292ae119c8": {
          "model_module": "@jupyter-widgets/base",
          "model_name": "LayoutModel",
          "model_module_version": "1.2.0",
          "state": {
            "_model_module": "@jupyter-widgets/base",
            "_model_module_version": "1.2.0",
            "_model_name": "LayoutModel",
            "_view_count": null,
            "_view_module": "@jupyter-widgets/base",
            "_view_module_version": "1.2.0",
            "_view_name": "LayoutView",
            "align_content": null,
            "align_items": null,
            "align_self": null,
            "border": null,
            "bottom": null,
            "display": null,
            "flex": null,
            "flex_flow": null,
            "grid_area": null,
            "grid_auto_columns": null,
            "grid_auto_flow": null,
            "grid_auto_rows": null,
            "grid_column": null,
            "grid_gap": null,
            "grid_row": null,
            "grid_template_areas": null,
            "grid_template_columns": null,
            "grid_template_rows": null,
            "height": null,
            "justify_content": null,
            "justify_items": null,
            "left": null,
            "margin": null,
            "max_height": null,
            "max_width": null,
            "min_height": null,
            "min_width": null,
            "object_fit": null,
            "object_position": null,
            "order": null,
            "overflow": null,
            "overflow_x": null,
            "overflow_y": null,
            "padding": null,
            "right": null,
            "top": null,
            "visibility": null,
            "width": null
          }
        },
        "0861ced4c6664995b47fdcb643da34c6": {
          "model_module": "@jupyter-widgets/controls",
          "model_name": "DescriptionStyleModel",
          "model_module_version": "1.5.0",
          "state": {
            "_model_module": "@jupyter-widgets/controls",
            "_model_module_version": "1.5.0",
            "_model_name": "DescriptionStyleModel",
            "_view_count": null,
            "_view_module": "@jupyter-widgets/base",
            "_view_module_version": "1.2.0",
            "_view_name": "StyleView",
            "description_width": ""
          }
        },
        "d0819165d7fc47609d40f38ccf56e413": {
          "model_module": "@jupyter-widgets/controls",
          "model_name": "HBoxModel",
          "model_module_version": "1.5.0",
          "state": {
            "_dom_classes": [],
            "_model_module": "@jupyter-widgets/controls",
            "_model_module_version": "1.5.0",
            "_model_name": "HBoxModel",
            "_view_count": null,
            "_view_module": "@jupyter-widgets/controls",
            "_view_module_version": "1.5.0",
            "_view_name": "HBoxView",
            "box_style": "",
            "children": [
              "IPY_MODEL_e408009901fb4b798940d6db0ebdbdcb",
              "IPY_MODEL_1d4130cfc6a04eed9f40f92089a40973",
              "IPY_MODEL_58bb909eee1a40b1b64dd7fc7a658f0d"
            ],
            "layout": "IPY_MODEL_865e6b35a1b3444db648db92205605cd"
          }
        },
        "e408009901fb4b798940d6db0ebdbdcb": {
          "model_module": "@jupyter-widgets/controls",
          "model_name": "HTMLModel",
          "model_module_version": "1.5.0",
          "state": {
            "_dom_classes": [],
            "_model_module": "@jupyter-widgets/controls",
            "_model_module_version": "1.5.0",
            "_model_name": "HTMLModel",
            "_view_count": null,
            "_view_module": "@jupyter-widgets/controls",
            "_view_module_version": "1.5.0",
            "_view_name": "HTMLView",
            "description": "",
            "description_tooltip": null,
            "layout": "IPY_MODEL_4ee4244f564a4446be76792f9a4b6852",
            "placeholder": "​",
            "style": "IPY_MODEL_3e77c929e91048168e05305be0a99616",
            "value": "tokenizer.json: 100%"
          }
        },
        "1d4130cfc6a04eed9f40f92089a40973": {
          "model_module": "@jupyter-widgets/controls",
          "model_name": "FloatProgressModel",
          "model_module_version": "1.5.0",
          "state": {
            "_dom_classes": [],
            "_model_module": "@jupyter-widgets/controls",
            "_model_module_version": "1.5.0",
            "_model_name": "FloatProgressModel",
            "_view_count": null,
            "_view_module": "@jupyter-widgets/controls",
            "_view_module_version": "1.5.0",
            "_view_name": "ProgressView",
            "bar_style": "success",
            "description": "",
            "description_tooltip": null,
            "layout": "IPY_MODEL_752c6d1df4804da0a1f2690424e39633",
            "max": 1389353,
            "min": 0,
            "orientation": "horizontal",
            "style": "IPY_MODEL_b72e27bbc81d4032969c2ef29892fc9c",
            "value": 1389353
          }
        },
        "58bb909eee1a40b1b64dd7fc7a658f0d": {
          "model_module": "@jupyter-widgets/controls",
          "model_name": "HTMLModel",
          "model_module_version": "1.5.0",
          "state": {
            "_dom_classes": [],
            "_model_module": "@jupyter-widgets/controls",
            "_model_module_version": "1.5.0",
            "_model_name": "HTMLModel",
            "_view_count": null,
            "_view_module": "@jupyter-widgets/controls",
            "_view_module_version": "1.5.0",
            "_view_name": "HTMLView",
            "description": "",
            "description_tooltip": null,
            "layout": "IPY_MODEL_f1cc5b29b35c45658d52f675afa410ea",
            "placeholder": "​",
            "style": "IPY_MODEL_f948c2e84c8f4e2b9b6807a3912dba72",
            "value": " 1.39M/1.39M [00:00&lt;00:00, 20.9MB/s]"
          }
        },
        "865e6b35a1b3444db648db92205605cd": {
          "model_module": "@jupyter-widgets/base",
          "model_name": "LayoutModel",
          "model_module_version": "1.2.0",
          "state": {
            "_model_module": "@jupyter-widgets/base",
            "_model_module_version": "1.2.0",
            "_model_name": "LayoutModel",
            "_view_count": null,
            "_view_module": "@jupyter-widgets/base",
            "_view_module_version": "1.2.0",
            "_view_name": "LayoutView",
            "align_content": null,
            "align_items": null,
            "align_self": null,
            "border": null,
            "bottom": null,
            "display": null,
            "flex": null,
            "flex_flow": null,
            "grid_area": null,
            "grid_auto_columns": null,
            "grid_auto_flow": null,
            "grid_auto_rows": null,
            "grid_column": null,
            "grid_gap": null,
            "grid_row": null,
            "grid_template_areas": null,
            "grid_template_columns": null,
            "grid_template_rows": null,
            "height": null,
            "justify_content": null,
            "justify_items": null,
            "left": null,
            "margin": null,
            "max_height": null,
            "max_width": null,
            "min_height": null,
            "min_width": null,
            "object_fit": null,
            "object_position": null,
            "order": null,
            "overflow": null,
            "overflow_x": null,
            "overflow_y": null,
            "padding": null,
            "right": null,
            "top": null,
            "visibility": null,
            "width": null
          }
        },
        "4ee4244f564a4446be76792f9a4b6852": {
          "model_module": "@jupyter-widgets/base",
          "model_name": "LayoutModel",
          "model_module_version": "1.2.0",
          "state": {
            "_model_module": "@jupyter-widgets/base",
            "_model_module_version": "1.2.0",
            "_model_name": "LayoutModel",
            "_view_count": null,
            "_view_module": "@jupyter-widgets/base",
            "_view_module_version": "1.2.0",
            "_view_name": "LayoutView",
            "align_content": null,
            "align_items": null,
            "align_self": null,
            "border": null,
            "bottom": null,
            "display": null,
            "flex": null,
            "flex_flow": null,
            "grid_area": null,
            "grid_auto_columns": null,
            "grid_auto_flow": null,
            "grid_auto_rows": null,
            "grid_column": null,
            "grid_gap": null,
            "grid_row": null,
            "grid_template_areas": null,
            "grid_template_columns": null,
            "grid_template_rows": null,
            "height": null,
            "justify_content": null,
            "justify_items": null,
            "left": null,
            "margin": null,
            "max_height": null,
            "max_width": null,
            "min_height": null,
            "min_width": null,
            "object_fit": null,
            "object_position": null,
            "order": null,
            "overflow": null,
            "overflow_x": null,
            "overflow_y": null,
            "padding": null,
            "right": null,
            "top": null,
            "visibility": null,
            "width": null
          }
        },
        "3e77c929e91048168e05305be0a99616": {
          "model_module": "@jupyter-widgets/controls",
          "model_name": "DescriptionStyleModel",
          "model_module_version": "1.5.0",
          "state": {
            "_model_module": "@jupyter-widgets/controls",
            "_model_module_version": "1.5.0",
            "_model_name": "DescriptionStyleModel",
            "_view_count": null,
            "_view_module": "@jupyter-widgets/base",
            "_view_module_version": "1.2.0",
            "_view_name": "StyleView",
            "description_width": ""
          }
        },
        "752c6d1df4804da0a1f2690424e39633": {
          "model_module": "@jupyter-widgets/base",
          "model_name": "LayoutModel",
          "model_module_version": "1.2.0",
          "state": {
            "_model_module": "@jupyter-widgets/base",
            "_model_module_version": "1.2.0",
            "_model_name": "LayoutModel",
            "_view_count": null,
            "_view_module": "@jupyter-widgets/base",
            "_view_module_version": "1.2.0",
            "_view_name": "LayoutView",
            "align_content": null,
            "align_items": null,
            "align_self": null,
            "border": null,
            "bottom": null,
            "display": null,
            "flex": null,
            "flex_flow": null,
            "grid_area": null,
            "grid_auto_columns": null,
            "grid_auto_flow": null,
            "grid_auto_rows": null,
            "grid_column": null,
            "grid_gap": null,
            "grid_row": null,
            "grid_template_areas": null,
            "grid_template_columns": null,
            "grid_template_rows": null,
            "height": null,
            "justify_content": null,
            "justify_items": null,
            "left": null,
            "margin": null,
            "max_height": null,
            "max_width": null,
            "min_height": null,
            "min_width": null,
            "object_fit": null,
            "object_position": null,
            "order": null,
            "overflow": null,
            "overflow_x": null,
            "overflow_y": null,
            "padding": null,
            "right": null,
            "top": null,
            "visibility": null,
            "width": null
          }
        },
        "b72e27bbc81d4032969c2ef29892fc9c": {
          "model_module": "@jupyter-widgets/controls",
          "model_name": "ProgressStyleModel",
          "model_module_version": "1.5.0",
          "state": {
            "_model_module": "@jupyter-widgets/controls",
            "_model_module_version": "1.5.0",
            "_model_name": "ProgressStyleModel",
            "_view_count": null,
            "_view_module": "@jupyter-widgets/base",
            "_view_module_version": "1.2.0",
            "_view_name": "StyleView",
            "bar_color": null,
            "description_width": ""
          }
        },
        "f1cc5b29b35c45658d52f675afa410ea": {
          "model_module": "@jupyter-widgets/base",
          "model_name": "LayoutModel",
          "model_module_version": "1.2.0",
          "state": {
            "_model_module": "@jupyter-widgets/base",
            "_model_module_version": "1.2.0",
            "_model_name": "LayoutModel",
            "_view_count": null,
            "_view_module": "@jupyter-widgets/base",
            "_view_module_version": "1.2.0",
            "_view_name": "LayoutView",
            "align_content": null,
            "align_items": null,
            "align_self": null,
            "border": null,
            "bottom": null,
            "display": null,
            "flex": null,
            "flex_flow": null,
            "grid_area": null,
            "grid_auto_columns": null,
            "grid_auto_flow": null,
            "grid_auto_rows": null,
            "grid_column": null,
            "grid_gap": null,
            "grid_row": null,
            "grid_template_areas": null,
            "grid_template_columns": null,
            "grid_template_rows": null,
            "height": null,
            "justify_content": null,
            "justify_items": null,
            "left": null,
            "margin": null,
            "max_height": null,
            "max_width": null,
            "min_height": null,
            "min_width": null,
            "object_fit": null,
            "object_position": null,
            "order": null,
            "overflow": null,
            "overflow_x": null,
            "overflow_y": null,
            "padding": null,
            "right": null,
            "top": null,
            "visibility": null,
            "width": null
          }
        },
        "f948c2e84c8f4e2b9b6807a3912dba72": {
          "model_module": "@jupyter-widgets/controls",
          "model_name": "DescriptionStyleModel",
          "model_module_version": "1.5.0",
          "state": {
            "_model_module": "@jupyter-widgets/controls",
            "_model_module_version": "1.5.0",
            "_model_name": "DescriptionStyleModel",
            "_view_count": null,
            "_view_module": "@jupyter-widgets/base",
            "_view_module_version": "1.2.0",
            "_view_name": "StyleView",
            "description_width": ""
          }
        }
      }
    },
    "accelerator": "TPU"
  },
  "nbformat": 4,
  "nbformat_minor": 0
}